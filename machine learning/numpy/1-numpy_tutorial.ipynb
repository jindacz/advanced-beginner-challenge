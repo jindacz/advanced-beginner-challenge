{
  "cells": [
    {
      "cell_type": "markdown",
      "metadata": {
        "id": "uUVcstUx-4cc"
      },
      "source": [
        "<a href=\"https://colab.research.google.com/github/aryanmikaeili/cmpt732_tutorials/blob/master/numpy_tutorial.ipynb\" target=\"_parent\"><img src=\"https://colab.research.google.com/assets/colab-badge.svg\" alt=\"Open In Colab\"/></a>"
      ]
    },
    {
      "cell_type": "markdown",
      "metadata": {
        "id": "1IPWbbOy28uf"
      },
      "source": [
        "# CMPT 732 - Fall 2021\n",
        "# Numpy introduction\n",
        "\n",
        "__content creator:__ Aryan Mikaeili"
      ]
    },
    {
      "cell_type": "markdown",
      "metadata": {
        "id": "y73FV38z19mc"
      },
      "source": [
        "# Introduction\n",
        "\n",
        "Numpy is a module in python for numeric computations. It allows fast calculations on vectors, matrices, and high-dimensional arrays in general. Some features:\n",
        "\n",
        "1. Provides built-in functions for calculations in linear algebra and calculus. e.g. finding eigen-values and eigen-vectors of matrices, matrix multiplications, etc.\n",
        "\n",
        "2. Much faster than python, because critical parts are written in C/C++.\n",
        "\n",
        "3. Many functions are similar to Matlab.\n",
        "4. Only supports CPUs (no GPU support)."
      ]
    },
    {
      "cell_type": "markdown",
      "metadata": {
        "id": "cw0WBdTL3O73"
      },
      "source": [
        "# Installing and importing numpy\n",
        "\n",
        "To use numpy in our you should first install the module and then import it in our code. If you don't already have numpy, you can install it with __pip__ (type __pip install numpy__ in terminal)."
      ]
    },
    {
      "cell_type": "code",
      "execution_count": 4,
      "metadata": {
        "id": "37x6h7711r8R"
      },
      "outputs": [],
      "source": [
        "#importing numpy\n",
        "\n",
        "import numpy as np"
      ]
    },
    {
      "cell_type": "markdown",
      "metadata": {
        "id": "eavr5CVX4Me4"
      },
      "source": [
        "# Comparing python with and without numpy\n",
        "\n",
        "In the code below you can see that element-wise addition of two vectors, takes much less time with numpy."
      ]
    },
    {
      "cell_type": "code",
      "execution_count": 5,
      "metadata": {
        "cellView": "form",
        "id": "P90wj7R84hBs"
      },
      "outputs": [],
      "source": [
        "#@title run this cell to import needed modules and define the array generator function.\n",
        "import time\n",
        "import random\n",
        " \n",
        "\n",
        "#this function generates two random arrays with length 'size'\n",
        "def generate_random_arrays(size = 100):\n",
        "  a = [random.random() for _ in range(size)]\n",
        "  b = [random.random() for _ in range(size)]\n",
        "  return a, b"
      ]
    },
    {
      "cell_type": "code",
      "execution_count": 6,
      "metadata": {
        "id": "kRnytFB_43Zf"
      },
      "outputs": [
        {
          "name": "stdout",
          "output_type": "stream",
          "text": [
            "without using numpy the run time is: 588130 micro seconds\n",
            "with using numpy the run time is: 248541 micro seconds\n",
            "ratio: 2.37\n"
          ]
        }
      ],
      "source": [
        "size = 1000000\n",
        "# generate random vector a and b\n",
        "a, b = generate_random_arrays(size=size)\n",
        "\n",
        "###################################################\n",
        "# adding without using numpy\n",
        "t = time.time_ns() #current time\n",
        "result = [] #the array that will contain the result\n",
        "\n",
        "#computing the element-wise additionaaa\n",
        "for i in range(size): \n",
        "  result.append(a[i] + b[i])\n",
        "\n",
        "running_time_n = time.time_ns() - t\n",
        "\n",
        "print('without using numpy the run time is:',running_time_n // 1000, 'micro seconds')\n",
        "\n",
        "####################################################\n",
        "#adding with numpy\n",
        "t = time.time_ns()\n",
        "result = np.add(a, b)\n",
        "running_time_y = time.time_ns() - t\n",
        "print('with using numpy the run time is:',running_time_y // 1000, 'micro seconds')\n",
        "####################################################\n",
        "\n",
        "print('ratio:', round(running_time_n / running_time_y, 2))\n"
      ]
    },
    {
      "cell_type": "markdown",
      "metadata": {
        "id": "sw8tnZutUfTe"
      },
      "source": [
        "# Creating arrays\n",
        "\n",
        "arrays in python could be vectors (1D), matrices (2D), or tensors (higher order). "
      ]
    },
    {
      "cell_type": "code",
      "execution_count": 7,
      "metadata": {
        "id": "QN1HsmY-U45v"
      },
      "outputs": [
        {
          "name": "stdout",
          "output_type": "stream",
          "text": [
            "a1:  [1 2 3] type: int64\n",
            "m1:  [[1. 2. 3.]\n",
            " [3. 4. 5.]] type: float64\n"
          ]
        }
      ],
      "source": [
        "#@title array of pre-defined values\n",
        "\n",
        "a1 = np.array([1, 2, 3])\n",
        "m1 = np.array([[1, 2, 3],[3,4, 5]], dtype = np.float64)\n",
        "\n",
        "print('a1: ', a1, 'type:', a1.dtype)\n",
        "print('m1: ', m1, 'type:', m1.dtype)"
      ]
    },
    {
      "cell_type": "code",
      "execution_count": 8,
      "metadata": {
        "id": "Krem2eaRVY-I"
      },
      "outputs": [
        {
          "name": "stdout",
          "output_type": "stream",
          "text": [
            "a_zeros:  [[0. 0.]\n",
            " [0. 0.]\n",
            " [0. 0.]]\n",
            "a_ones: [[1. 1.]\n",
            " [1. 1.]\n",
            " [1. 1.]]\n",
            "[[0 0]\n",
            " [0 0]\n",
            " [0 0]] (3, 2)\n"
          ]
        }
      ],
      "source": [
        "#@title array of all ones/zeros\n",
        "\n",
        "a_zeros = np.zeros((3, 2))\n",
        "a_ones = np.ones((3, 2))\n",
        "\n",
        "print('a_zeros: ', a_zeros)\n",
        "print('a_ones:', a_ones)\n",
        "\n",
        "a = np.array([[1,2],[3,4],[5,6]])\n",
        "mat = np.zeros_like(a)\n",
        "print(mat, mat.shape)"
      ]
    },
    {
      "cell_type": "code",
      "execution_count": 9,
      "metadata": {
        "id": "lPmZMgJWWGqd"
      },
      "outputs": [
        {
          "name": "stdout",
          "output_type": "stream",
          "text": [
            "a: [ 1.  2.  3.  4.  5.  6.  7.  8.  9. 10. 11. 12. 13. 14. 15. 16. 17. 18.\n",
            " 19. 20. 21. 22. 23. 24. 25. 26. 27. 28. 29. 30. 31. 32. 33. 34. 35. 36.\n",
            " 37. 38. 39.]\n"
          ]
        }
      ],
      "source": [
        "#@title arrays using range\n",
        "\n",
        "#an array from 1 to 40 (not including 40) with step size 2\n",
        "a = np.arange(1, 40, 1, dtype = np.float32)\n",
        "print('a:', a)"
      ]
    },
    {
      "cell_type": "code",
      "execution_count": 10,
      "metadata": {
        "id": "uZzL9hAGZb7z"
      },
      "outputs": [
        {
          "name": "stdout",
          "output_type": "stream",
          "text": [
            "b: [[1 2 3]\n",
            " [2 3 4]]\n",
            "c: [[1 2 3]\n",
            " [2 3 4]]\n",
            "------------------------\n",
            "a1: [[1 2 3]\n",
            " [2 3 4]]\n",
            "a2: [[ 1  2  3]\n",
            " [ 2  3 15]]\n",
            "(2, 3)\n"
          ]
        }
      ],
      "source": [
        "#@title array copy-view\n",
        "\n",
        "a1 = np.array([[1, 2, 3],[2, 3, 4]])\n",
        "a2 = np.array([[1, 2, 3],[2, 3, 4]])\n",
        "\n",
        "b = a1.copy()\n",
        "c = a2.view()\n",
        "\n",
        "print('b:', b)\n",
        "print('c:', c)\n",
        "print('------------------------')\n",
        "########################################\n",
        "b[1, 2] = 15\n",
        "c[1, 2] = 15\n",
        "########################################\n",
        "print('a1:', a1)\n",
        "print('a2:', a2)\n",
        "\n",
        "# print the dimension of matrix\n",
        "print(a1.shape)\n"
      ]
    },
    {
      "cell_type": "markdown",
      "metadata": {
        "id": "HRycXlv1WrjI"
      },
      "source": [
        "# Shapes, transpose, and reshaping"
      ]
    },
    {
      "cell_type": "code",
      "execution_count": 11,
      "metadata": {
        "id": "jlYY16s1WYLY"
      },
      "outputs": [
        {
          "name": "stdout",
          "output_type": "stream",
          "text": [
            "shape of a: (4, 3)\n"
          ]
        }
      ],
      "source": [
        "#@title shapes\n",
        "a = np.array([[1, 2, 3],[2, 3, 4],[3, 4, 5],[4, 5, 6]])\n",
        "print('shape of a:', a.shape)"
      ]
    },
    {
      "cell_type": "code",
      "execution_count": 12,
      "metadata": {
        "id": "AuL5VBfWXUuF"
      },
      "outputs": [
        {
          "name": "stdout",
          "output_type": "stream",
          "text": [
            "transpose of a: [[1 2 3 4]\n",
            " [2 3 4 5]\n",
            " [3 4 5 6]]\n",
            "transpose of a (second method): [[1 2 3 4]\n",
            " [2 3 4 5]\n",
            " [3 4 5 6]]\n",
            "[[1 2 3]\n",
            " [4 2 3]\n",
            " [4 5 3]\n",
            " [4 5 6]]\n"
          ]
        }
      ],
      "source": [
        "#@title transposing matrices and high-dimensional arrays\n",
        "\n",
        "a = np.array([[1, 2, 3],[2, 3, 4],[3, 4, 5],[4, 5, 6]])\n",
        "# transpose the matrix\n",
        "print('transpose of a:',a.T)\n",
        "#can also use the function np.transpose\n",
        "print('transpose of a (second method):', a.transpose(1, 0))\n",
        "\n",
        "# not trans\n",
        "mat = np.array([[1,2,3,4],[2,3,4,5],[3,4,5,6]])\n",
        "print(mat.reshape(4,3))"
      ]
    },
    {
      "cell_type": "code",
      "execution_count": 13,
      "metadata": {},
      "outputs": [],
      "source": [
        "class Human:\n",
        "    def __init__(self, name, age):\n",
        "        self.name = name\n",
        "        self.age = age\n",
        "\n",
        "h = Human('A', 23)"
      ]
    },
    {
      "cell_type": "code",
      "execution_count": 14,
      "metadata": {
        "id": "N30Lsc1JYAIv"
      },
      "outputs": [
        {
          "name": "stdout",
          "output_type": "stream",
          "text": [
            "[[1 2 3 2]\n",
            " [3 4 3 4]\n",
            " [5 4 5 6]]\n",
            "[[1 2 3 2]\n",
            " [3 4 3 4]\n",
            " [5 4 5 6]]\n"
          ]
        }
      ],
      "source": [
        "#@title reshaping\n",
        "\n",
        "a = np.array([[1, 2, 3],[2, 3, 4],[3, 4, 5],[4, 5, 6]])\n",
        "a_reshaped_1 = a.reshape((3, 4))\n",
        "a_reshaped_2 = a.reshape((-1, 4))\n",
        "\n",
        "print(a_reshaped_1)\n",
        "print(a_reshaped_2)"
      ]
    },
    {
      "cell_type": "markdown",
      "metadata": {
        "id": "zXALtEJSaYTL"
      },
      "source": [
        "#indexing arrays"
      ]
    },
    {
      "cell_type": "code",
      "execution_count": 15,
      "metadata": {
        "id": "YJwsoQTAaOjY"
      },
      "outputs": [
        {
          "name": "stdout",
          "output_type": "stream",
          "text": [
            "[2 3 4]\n",
            "-----------------------\n",
            "4\n",
            "-----------------------\n",
            "[4 5]\n",
            "-----------------------\n",
            "[[3 2 1]\n",
            " [4 3 2]\n",
            " [5 4 3]\n",
            " [6 5 4]]\n",
            "-----------------------\n",
            "[4 6]\n",
            "-----------------------\n",
            "[[ True  True False]\n",
            " [ True False False]\n",
            " [False False False]\n",
            " [False False False]]\n",
            "-----------------------\n",
            "[[10 10  3]\n",
            " [10  3  4]\n",
            " [ 3  4  5]\n",
            " [ 4  5  6]]\n"
          ]
        }
      ],
      "source": [
        "a = np.array([[1, 2, 3],[2, 3, 4],[3, 4, 5],[4, 5, 6]])\n",
        "\n",
        "print(a[1])\n",
        "print('-----------------------')\n",
        "print(a[1, 2])\n",
        "print('-----------------------')\n",
        "print(a[1:3, 2])\n",
        "print('-----------------------')\n",
        "print(a[:,::-1])\n",
        "print('-----------------------')\n",
        "print(a[[1, 3], 2])\n",
        "print('-----------------------')\n",
        "print(a < 3)\n",
        "print('-----------------------')\n",
        "a[a < 3] = 10\n",
        "print(a)\n",
        "\n"
      ]
    },
    {
      "cell_type": "markdown",
      "metadata": {
        "id": "urtJeTqPbcq0"
      },
      "source": [
        "#logical and arithmetic operations"
      ]
    },
    {
      "cell_type": "code",
      "execution_count": 16,
      "metadata": {
        "id": "nOk0_sMsbEMv"
      },
      "outputs": [
        {
          "name": "stdout",
          "output_type": "stream",
          "text": [
            "[[1. 1.]\n",
            " [1. 1.]\n",
            " [1. 1.]\n",
            " [1. 1.]\n",
            " [1. 1.]\n",
            " [0. 0.]\n",
            " [0. 0.]\n",
            " [0. 0.]]\n",
            "-----------------------\n",
            "[[1. 1. 0.]\n",
            " [1. 1. 0.]\n",
            " [1. 1. 0.]\n",
            " [1. 1. 0.]\n",
            " [1. 1. 0.]]\n"
          ]
        }
      ],
      "source": [
        "#@title concatenating two arrays\n",
        "\n",
        "a = np.ones((5, 2))\n",
        "b = np.zeros((3, 2))\n",
        "\n",
        "print(np.concatenate([a, b]))\n",
        "print('-----------------------')\n",
        "\n",
        "#specifying the axis\n",
        "\n",
        "a = np.ones((5, 2))\n",
        "b = np.zeros((5, 1))\n",
        "\n",
        "print(np.concatenate([a, b], axis = 1))"
      ]
    },
    {
      "cell_type": "code",
      "execution_count": 17,
      "metadata": {
        "id": "zgkJCMdWcGZY"
      },
      "outputs": [
        {
          "name": "stdout",
          "output_type": "stream",
          "text": [
            "a + b = [3 5 7]\n",
            "ab =  [ 2  6 12]\n",
            "20\n"
          ]
        },
        {
          "data": {
            "text/plain": [
              "array([[ 2,  3,  4],\n",
              "       [ 4,  6,  8],\n",
              "       [ 6,  9, 12]])"
            ]
          },
          "execution_count": 17,
          "metadata": {},
          "output_type": "execute_result"
        }
      ],
      "source": [
        "#@element-wise operations\n",
        "\n",
        "a = np.array([1, 2, 3])\n",
        "b = np.array([2, 3, 4])\n",
        "\n",
        "#addition\n",
        "\n",
        "print('a + b =', a + b)\n",
        "\n",
        "#element-wise multiplication\n",
        "print('ab = ', a * b)\n",
        "\n",
        "print(np.inner(a, b))\n",
        "np.outer(a, b)"
      ]
    },
    {
      "cell_type": "code",
      "execution_count": 18,
      "metadata": {
        "id": "-bcEbjlfcdEs"
      },
      "outputs": [
        {
          "name": "stdout",
          "output_type": "stream",
          "text": [
            "[[2 4 6]\n",
            " [3 5 7]\n",
            " [4 6 8]]\n",
            "-----------------------\n",
            "[[4 5 6]\n",
            " [5 6 7]\n",
            " [6 7 8]]\n"
          ]
        }
      ],
      "source": [
        "#@title broadcasting\n",
        "\n",
        "a = np.array([[1, 2, 3],[2, 3, 4],[3, 4, 5]])\n",
        "# repeat itself three times\n",
        "b = np.array([1, 2, 3])\n",
        "print(a + b)\n",
        "print('-----------------------')\n",
        "# repeat for one numbers\n",
        "print(a + 3)"
      ]
    },
    {
      "cell_type": "code",
      "execution_count": 19,
      "metadata": {},
      "outputs": [
        {
          "data": {
            "text/plain": [
              "array([[[-0.70055318,  0.28825495],\n",
              "        [ 0.02810704,  2.01515718]],\n",
              "\n",
              "       [[-0.50010935,  0.75041722],\n",
              "        [ 1.58220672,  2.17758809]],\n",
              "\n",
              "       [[ 0.58987798,  1.95215972],\n",
              "        [-0.74212849,  1.54952963]]])"
            ]
          },
          "execution_count": 19,
          "metadata": {},
          "output_type": "execute_result"
        }
      ],
      "source": [
        "a = np.random.randn(3, 2, 2)\n",
        "b = np.random.randn(2, 2)\n",
        "a + b"
      ]
    },
    {
      "cell_type": "code",
      "execution_count": 20,
      "metadata": {
        "id": "yssIS91LcRvc"
      },
      "outputs": [
        {
          "name": "stdout",
          "output_type": "stream",
          "text": [
            "sqrt of a: [1. 2. 4.]\n",
            "-----------------------\n",
            "sin of a: [0.0000000e+00 1.0000000e+00 1.2246468e-16]\n",
            "-----------------------\n",
            "abolute value of a: [2 1 0 1 2]\n"
          ]
        }
      ],
      "source": [
        "#@title built-in mathematical operations\n",
        "\n",
        "a= np.array([1, 4, 16])\n",
        "print('sqrt of a:', np.sqrt(a))\n",
        "print('-----------------------')\n",
        "a = np.array([0, np.pi / 2, np.pi])\n",
        "print('sin of a:', np.sin(a))\n",
        "print('-----------------------')\n",
        "a = np.array([-2, -1, 0, 1, 2])\n",
        "print('abolute value of a:', np.abs(a))"
      ]
    },
    {
      "cell_type": "code",
      "execution_count": 21,
      "metadata": {
        "id": "j9AYUTkEdHXu"
      },
      "outputs": [
        {
          "name": "stdout",
          "output_type": "stream",
          "text": [
            "a: [0 1 2 3 4 5 6 7 8 9]\n",
            "-----------------------\n",
            "sum of a: 45\n",
            "-----------------------\n",
            "average of a: 4.5\n",
            "-----------------------\n",
            "m: [[0 1]\n",
            " [2 3]\n",
            " [4 5]\n",
            " [6 7]\n",
            " [8 9]]\n",
            "-----------------------\n",
            "average of columns of m: [4. 5.]\n",
            "-----------------------\n",
            "average of rows of m: [0.5 2.5 4.5 6.5 8.5]\n"
          ]
        }
      ],
      "source": [
        "#@title unary mathematical functions\n",
        "\n",
        "a = np.arange(0, 10)\n",
        "print('a:', a)\n",
        "print('-----------------------')\n",
        "print('sum of a:', a.sum())\n",
        "print('-----------------------')\n",
        "print('average of a:', a.mean())\n",
        "print('-----------------------')\n",
        "\n",
        "m = a.reshape(5, 2)\n",
        "print('m:', m)\n",
        "print('-----------------------')\n",
        "print('average of columns of m:',m.mean(axis = 0))\n",
        "print('-----------------------')\n",
        "print('average of rows of m:',m.mean(axis = 1))\n"
      ]
    },
    {
      "cell_type": "code",
      "execution_count": 22,
      "metadata": {
        "id": "7Done7wZekMV"
      },
      "outputs": [
        {
          "name": "stdout",
          "output_type": "stream",
          "text": [
            "m1.m2 =  [[14 20]\n",
            " [20 29]]\n",
            "m1.m2 =  [[14 20]\n",
            " [20 29]]\n",
            "m1.m2 =  [[14 20]\n",
            " [20 29]]\n"
          ]
        }
      ],
      "source": [
        "#@title matrix multiplication\n",
        "\n",
        "m1 = np.array([[1 ,2 ,3],[2, 3, 4]])\n",
        "m2 = np.array([[1, 2],[2, 3],[3, 4]])\n",
        "\n",
        "print('m1.m2 = ', np.matmul(m1, m2))\n",
        "print('m1.m2 = ', m1@ m2)\n",
        "print('m1.m2 = ', np.dot(m1,m2))"
      ]
    },
    {
      "cell_type": "code",
      "execution_count": 23,
      "metadata": {
        "id": "UuTd1Et1gABN"
      },
      "outputs": [
        {
          "name": "stdout",
          "output_type": "stream",
          "text": [
            "determinant of m: 6.0\n",
            "---------------------------------\n",
            "eigen-values of m: [1. 2. 3.]\n"
          ]
        }
      ],
      "source": [
        "#@title some linear algebra operations\n",
        "\n",
        "m = np.diag([1, 2, 3])\n",
        "print('determinant of m:', np.linalg.det(m))\n",
        "print('---------------------------------')\n",
        "print('eigen-values of m:',np.linalg.eig(m)[0])"
      ]
    },
    {
      "cell_type": "code",
      "execution_count": null,
      "metadata": {},
      "outputs": [],
      "source": []
    },
    {
      "cell_type": "code",
      "execution_count": 24,
      "metadata": {
        "id": "9-bKEZobUnAy"
      },
      "outputs": [
        {
          "name": "stdout",
          "output_type": "stream",
          "text": [
            "all: True\n",
            "all: False\n",
            "----------------------------\n",
            "any: True\n",
            "any: False\n",
            "----------------------------\n",
            "a: [7 0 3 6 2 8 5 1 4 0 8 2 0 2 5 3 0 8 2 8]\n",
            "b: [5 7 5 1 8 7 5 3 5 2 6 8 9 6 5 5 7 4 5 8]\n",
            "where: (array([ 6, 14, 19]),)\n",
            "----------------------------\n",
            "unique: (array([0, 1, 2, 3, 4, 5, 7, 8, 9]), array([2, 3, 2, 3, 3, 1, 2, 1, 3]))\n"
          ]
        }
      ],
      "source": [
        "#@title some useful functions\n",
        "\n",
        "#all, any\n",
        "a = np.array([1, 2, 3])\n",
        "b = np.array([1, 2, 3])\n",
        "c = np.array([1, 4, 6])\n",
        "d = np.array([5, 6, 7])\n",
        "print('all:', np.all(a == b))\n",
        "print('all:', np.all(a == c))\n",
        "print('----------------------------')\n",
        "print('any:', np.any(a == c))\n",
        "print('any:', np.any(a == d))\n",
        "print('----------------------------')\n",
        "#where\n",
        "a = np.random.randint(0, 10, 20)\n",
        "b = np.random.randint(0, 10, 20)\n",
        "print('a:', a)\n",
        "print('b:', b)\n",
        "print('where:', np.where(a == b))\n",
        "print('----------------------------')\n",
        "#unique\n",
        "\n",
        "a =  np.random.randint(0, 10, 20)\n",
        "print('unique:', np.unique(a, return_counts=True))\n"
      ]
    },
    {
      "cell_type": "markdown",
      "metadata": {
        "id": "Zys6LmUzgmPL"
      },
      "source": [
        "#Project\n",
        "\n",
        "Today we want to implement the Kmeans algorithm using Numpy. \n",
        "\n",
        "Kmeans is a method for clustering data. clustering generally means that given of set of datapoints from different classes, we want to seperate or classify the data without having any prior labels from the data. for example we can be given a dataset like the one below."
      ]
    },
    {
      "cell_type": "code",
      "execution_count": 25,
      "metadata": {
        "cellView": "form",
        "colab": {
          "base_uri": "https://localhost:8080/",
          "height": 430
        },
        "id": "Fb_2l-A0gkqa",
        "outputId": "82268b2d-d3d6-48c4-81bf-72058d770070"
      },
      "outputs": [
        {
          "data": {
            "image/png": "[encoded data removed]",
            "text/plain": [
              "<Figure size 576x432 with 1 Axes>"
            ]
          },
          "metadata": {
            "needs_background": "light"
          },
          "output_type": "display_data"
        }
      ],
      "source": [
        "#@title run this cell to generate data in 3 classes and import needed functions\n",
        "\n",
        "from sklearn.datasets import make_blobs\n",
        "import matplotlib.pyplot as plt\n",
        "\n",
        "plt.style.use(\"https://raw.githubusercontent.com/NeuromatchAcademy/course-content/master/nma.mplstyle\")\n",
        "\n",
        "data = make_blobs(n_samples = [100, 100, 100], centers=[[0, 0], [0, 10], [10, 0]])[0]\n",
        "\n",
        "plt.scatter(data[:, 0], data[:, 1])\n",
        "plt.show()"
      ]
    },
    {
      "cell_type": "markdown",
      "metadata": {
        "id": "VrSquBYKhgpU"
      },
      "source": [
        "and without any extra knowledge from the datapoints and their classes, we want to cluster them; i.e. get something like the figure above"
      ]
    },
    {
      "cell_type": "code",
      "execution_count": 39,
      "metadata": {
        "colab": {
          "base_uri": "https://localhost:8080/",
          "height": 430
        },
        "id": "dvQCpouMhURB",
        "outputId": "f14891cd-afd1-47ce-e022-5d8850bb290c"
      },
      "outputs": [
        {
          "data": {
            "image/png": "[encoded data removed]",
            "text/plain": [
              "<Figure size 576x432 with 1 Axes>"
            ]
          },
          "metadata": {
            "needs_background": "light"
          },
          "output_type": "display_data"
        }
      ],
      "source": [
        "#@title click to view clustering result\n",
        "\n",
        "import random\n",
        "\n",
        "def find_distance(x, y):\n",
        "\n",
        "  \"\"\" please do not edit this function \"\"\"\n",
        "\n",
        "  ##################################Inputs##################################\n",
        "  # x : (N1 * f) ndarray\n",
        "  # y : (N2 * f) ndarray\n",
        "  ##########################################################################\n",
        "\n",
        "  ##################################Outputs##################################\n",
        "  #o:  (N1 * N2) ndarray , o[i, j] is the distance of x[i] and y[j] squared\n",
        "  ##########################################################################\n",
        "\n",
        "  k = y.shape[0]\n",
        "  data_size = x.shape[0]\n",
        "\n",
        "  x_norm = np.repeat(np.expand_dims(np.linalg.norm(x, axis = 1) ** 2, 1), k, axis = 1)\n",
        "  y_norm = np.repeat(np.expand_dims(np.linalg.norm(y, axis = 1) ** 2, 0), data_size, axis = 0)\n",
        "  x_y_inner = np.matmul(x, y.T)\n",
        "\n",
        "  o = x_norm + y_norm - 2 * x_y_inner\n",
        "  return o\n",
        "\n",
        "class Kmeans:\n",
        "\n",
        "  def __init__(self, x, k, max_iters = 1000):\n",
        "    self.x = x\n",
        "    self.data_size = x.shape[0]\n",
        "    self.feature_size = x.shape[1]\n",
        "    self.k = k\n",
        "    self.max_iters = max_iters\n",
        "\n",
        "    self.centers = np.zeros((k, x.shape[1]))\n",
        "  \n",
        "    self.predictions = np.zeros(self.data_size)\n",
        "\n",
        "\n",
        "\n",
        "  def Kmeans_plus_plus(self):\n",
        "    centers = np.zeros((self.k, self.feature_size))\n",
        "  \n",
        "    centers[0] = random.choices(self.x)[0]\n",
        "\n",
        "    for i in range(1, self.k):\n",
        "      current_centers = centers[: i]\n",
        "      data_center_dists = find_distance(self.x, current_centers)\n",
        "\n",
        "      min_dists = data_center_dists.min(axis = 1)\n",
        "      centers[i] = random.choices(self.x, weights = min_dists)[0]\n",
        "    return centers\n",
        "\n",
        "  def random_init(self):\n",
        "      mean = np.mean(self.x, axis = 0)\n",
        "      std = np.std(self.x, axis = 0)\n",
        "\n",
        "      centers = np.random.randn(self.k, self.feature_size) * mean + std\n",
        "\n",
        "      return centers\n",
        "\n",
        "\n",
        "  def predict(self, init_mode = 'random'):\n",
        "\n",
        "    if init_mode == 'random':\n",
        "      self.centers = self.random_init()\n",
        "    elif init_mode == 'kmeans++':\n",
        "      self.centers = self.Kmeans_plus_plus()\n",
        "    for i in range(self.max_iters):\n",
        "      data_center_dists = find_distance(self.x, self.centers)\n",
        "      self.predictions = data_center_dists.argmin(axis = 1)\n",
        "\n",
        "      prev_centers = np.copy(self.centers)\n",
        "\n",
        "      for j in range(self.k):\n",
        "        cluster_j = self.x[self.predictions == j] \n",
        "        if len(cluster_j) > 0:\n",
        "          self.centers[j] = cluster_j.mean(axis = 0)\n",
        "      \n",
        "      if (prev_centers == self.centers).all():\n",
        "        return\n",
        "\n",
        "model = Kmeans(data, 3)\n",
        "model.predict('kmeans++')\n",
        "\n",
        "plt.scatter(data[model.predictions == 0, 0], data[model.predictions == 0, 1])\n",
        "plt.scatter(data[model.predictions == 1, 0], data[model.predictions == 1, 1])\n",
        "plt.scatter(data[model.predictions == 2, 0], data[model.predictions == 2, 1])\n",
        "\n",
        "plt.legend(['cluster 1', 'cluster 2', 'cluster 3'])\n",
        "plt.show()"
      ]
    },
    {
      "cell_type": "markdown",
      "metadata": {
        "id": "9X2twgq1iWB_"
      },
      "source": [
        "Kmeans tries to minimize the following function:\n",
        "\n",
        "\n",
        "$$ J = \\sum_{j=1}^k\\sum_{x \\in S_j} ||x - \\mu_j||^2$$\n",
        "\n",
        "which basically means that we want to find cluster centeroids ($\\mu$s) and assign datapoints to clusters in a way that the sum of distances between each datapoint and it's cluster's centeroid is minimized.\n",
        "\n",
        "However it turns out that this equation is really hard to optimize as it is. As a result we settle for an iterative algorithm with the following steps:\n",
        "\n",
        "1. initialize centeroids\n",
        "2. assign each datapoint to the cluster of it's nearest centeroid\n",
        "3. after assigning the datapoints, compute centeroids of each cluster\n",
        "4. go back to step 2 until convergance or a fixed number of iterations have passed.\n"
      ]
    },
    {
      "cell_type": "markdown",
      "metadata": {
        "id": "cxcpbGko_rJ6"
      },
      "source": [
        "# Part 1: generate data\n",
        "\n",
        "Earlier we talked about how there are different ways to create numpy arrays. one method that we didn't talk about was random arrays. numpy has a whole set of functions in __np.random__ for generating different kinds of random arrays. In this part you have to generate three clusters of data using the multivariate gaussian distribution. more precisely, for each cluster randomly sample 100 datapoints with means $\\mu = \\{[0, 0], [0, 10], [10, 0]\\}$ and covariance matrix of identity. then concatenate datapoints of each cluster and shuffle the datapoints. you should save the data in a variable called data.\n"
      ]
    },
    {
      "cell_type": "code",
      "execution_count": 27,
      "metadata": {
        "id": "mfz35QhJ_p5A"
      },
      "outputs": [],
      "source": [
        "#Generate the three clusters\n",
        "...\n",
        "#concatenate the generated data to get one data array\n",
        "...\n",
        "#shuffle the data array\n",
        "..."
      ]
    },
    {
      "cell_type": "code",
      "execution_count": null,
      "metadata": {
        "cellView": "form",
        "id": "KX_pjcPVBzK1"
      },
      "outputs": [],
      "source": [
        "#@title Solution\n",
        "\n",
        "#generating clusters\n",
        "cluster1 = np.random.multivariate_normal(mean=[0, 0], cov=np.diag([1, 1]), size= 100)\n",
        "cluster2 = np.random.multivariate_normal(mean=[10, 0], cov=np.diag([1, 1]), size= 100)\n",
        "cluster3 = np.random.multivariate_normal(mean=[0, 10], cov=np.diag([1, 1]), size= 100)\n",
        "# print(cluster1)\n",
        "\n",
        "#concatenating the clusters\n",
        "data = np.concatenate([cluster1, cluster2, cluster3])\n",
        "\n",
        "#shuffling the data\n",
        "np.random.shuffle(data)\n",
        "print(data)\n"
      ]
    },
    {
      "cell_type": "code",
      "execution_count": 46,
      "metadata": {
        "cellView": "form",
        "id": "dA6oyK-eDt8Z"
      },
      "outputs": [
        {
          "data": {
            "image/png": "[encoded data removed]",
            "text/plain": [
              "<Figure size 576x432 with 1 Axes>"
            ]
          },
          "metadata": {
            "needs_background": "light"
          },
          "output_type": "display_data"
        }
      ],
      "source": [
        "#@title Run this cell to see the result of your code\n",
        "plt.scatter(data[:, 0], data[:, 1])\n",
        "plt.show()"
      ]
    },
    {
      "cell_type": "markdown",
      "metadata": {
        "id": "r2Xl-rtFFH3S"
      },
      "source": [
        "#Part 2: Auxiliary distance function\n",
        "\n",
        "In this part we want to write a function that takes two arrays of data D1, D2 with shapes $N1 \\times D$ and $N2 \\times D$, in which $N_i$ is the number of data points and D is the dimension of the data, and gives back a matrix M with shape $N_1 \\times N_2$, in which element $n_{ij}$ of that matrix is the square $L2$ distance of point $i$ from D1 and point $j$ from D2. The trick here is to not use any loops. you can do that by using the fact that:\n",
        "\n",
        "$|x - y|^2 = x^Tx - 2x^Ty + y^Ty$.\n",
        "\n",
        "__hint__: use np.repeat() to repeat row/columns in an array."
      ]
    },
    {
      "cell_type": "markdown",
      "metadata": {},
      "source": [
        "![title](img01.jpg)"
      ]
    },
    {
      "cell_type": "code",
      "execution_count": null,
      "metadata": {},
      "outputs": [],
      "source": [
        "#@title Solution\n",
        "def find_distance(X, Y):\n",
        "  #the number and dimension of the data\n",
        "  N1 = X.shape[0]\n",
        "  N2 = Y.shape[0]\n",
        "  D = X.shape[1]\n",
        "  # compute the distance matrix\n",
        "  XX = np.repeat(np.sum(X**2, axis=1), N2, axis=1)\n",
        "  XY = X@Y.T\n",
        "  YY = np.repeat(np.sum(Y**2, axis=1), N1, axis=1).T\n",
        "  return XX + YY - 2*XY"
      ]
    },
    {
      "cell_type": "code",
      "execution_count": 50,
      "metadata": {
        "cellView": "form",
        "id": "SKaJYiMlE6oD"
      },
      "outputs": [],
      "source": [
        "#@title Solution\n",
        "def find_distance(X, Y):\n",
        "  #the number and dimension of the data\n",
        "  N1 = X.shape[0]\n",
        "  N2 = Y.shape[0]\n",
        "  D = X.shape[1]\n",
        "\n",
        "  # keepdims: we want vector of size n by 1\n",
        "  x2 = np.repeat(np.sum(X ** 2, axis = 1, keepdims=True), N2, axis = 1)\n",
        "  xy = np.matmul(X, Y.T)\n",
        "  # xy = X @ Y.T\n",
        "  y2 = np.repeat(np.sum(Y ** 2, axis = 1, keepdims=True), N1, axis = 1).T\n",
        "  return x2 - 2 * xy + y2\n",
        "\n"
      ]
    },
    {
      "cell_type": "code",
      "execution_count": 49,
      "metadata": {
        "id": "3KF_YIlkJGyf"
      },
      "outputs": [
        {
          "name": "stdout",
          "output_type": "stream",
          "text": [
            "[[ 0.00000000e+00  1.41932502e+02  1.06552949e+02 ...  6.61792803e+00\n",
            "   6.73749836e+01  3.80030400e+01]\n",
            " [ 1.41932502e+02  0.00000000e+00  2.61518891e+00 ...  1.84398782e+02\n",
            "   8.34027386e+01  6.58432433e+01]\n",
            " [ 1.06552949e+02  2.61518891e+00  0.00000000e+00 ...  1.45344185e+02\n",
            "   6.14943844e+01  4.36448563e+01]\n",
            " ...\n",
            " [ 6.61792803e+00  1.84398782e+02  1.45344185e+02 ... -2.84217094e-14\n",
            "   1.16106966e+02  7.52331070e+01]\n",
            " [ 6.73749836e+01  8.34027386e+01  6.14943844e+01 ...  1.16106966e+02\n",
            "   0.00000000e+00  5.99884109e+00]\n",
            " [ 3.80030400e+01  6.58432433e+01  4.36448563e+01 ...  7.52331070e+01\n",
            "   5.99884109e+00  0.00000000e+00]]\n"
          ]
        }
      ],
      "source": [
        "#you can check your code by cheking the diagonal elements of the distance matrix of two identical data. \n",
        "    print(find_distance(data, data))"
      ]
    },
    {
      "cell_type": "markdown",
      "metadata": {
        "id": "9Ve1aMa4J7v9"
      },
      "source": [
        "#Part3: defining the Kmeans class\n",
        "\n",
        "now that we have all we need we can implement the kmeans algorithm. In this part you have to define the Kmeans class and write its constructor. the Kmeans class should take the data, number of clusters, and the maximum number of iterations we want the algorithm to run before termination upon instantiation."
      ]
    },
    {
      "cell_type": "code",
      "execution_count": 33,
      "metadata": {
        "id": "NwSfsQ9dJ61b"
      },
      "outputs": [],
      "source": [
        "class Kmeans:\n",
        "  def __init__(self, data, k, max_iter = 1000):\n",
        "    self.data = ...\n",
        "    self.k = ...\n",
        "    #number of data points\n",
        "    self.data_size = ...\n",
        "    #the data dimension\n",
        "    self.dim = ...\n",
        "\n",
        "    self.max_iter = ...\n",
        "\n",
        "    #define a predictions array here. at first it should be all zeros, but when the algorithm is executed the array will be filled with the clustering predictions.\n",
        "\n",
        "    self.predictions = ...\n"
      ]
    },
    {
      "cell_type": "code",
      "execution_count": 34,
      "metadata": {
        "cellView": "form",
        "id": "wCAFWDfJLzhV"
      },
      "outputs": [],
      "source": [
        "#@title Solution\n",
        "class Kmeans:\n",
        "  def __init__(self, data, k, max_iter = 1000):\n",
        "    self.data = data\n",
        "    self.k = k\n",
        "    #number of data points\n",
        "    self.data_size = data.shape[0]\n",
        "    #the data dimension\n",
        "    self.dim = data.shape[1]\n",
        "\n",
        "    self.max_iter = max_iter\n",
        "\n",
        "    self.predictions = np.zeros(self.data_size)\n",
        "    \n"
      ]
    },
    {
      "cell_type": "code",
      "execution_count": 35,
      "metadata": {
        "id": "0JUB6yuzL_HU"
      },
      "outputs": [
        {
          "name": "stdout",
          "output_type": "stream",
          "text": [
            "300 2 3\n"
          ]
        }
      ],
      "source": [
        "#run this part to check your code\n",
        "\n",
        "kmeans_predictor = Kmeans(data, 3, max_iter=1000)\n",
        "print(kmeans_predictor.data_size, kmeans_predictor.dim, kmeans_predictor.k)"
      ]
    },
    {
      "cell_type": "markdown",
      "metadata": {
        "id": "HFcIDN20MXPQ"
      },
      "source": [
        "#Part 4 implement the Kmeans algorithm\n",
        "\n",
        "Now that we have the class we can implement the clustering algorithm itself. you should complete the predict function of the Kmeans class. remember that this function does not return anything. it fills the predictions array. note that there are many ways for initializing the centeroids at the beginning of the algorithm, and it does affect the result of the algorithm. but here for the sake of simplicity just use three random points from the data."
      ]
    },
    {
      "cell_type": "code",
      "execution_count": 36,
      "metadata": {
        "id": "f5GN7_a7VyXT"
      },
      "outputs": [],
      "source": [
        "class Kmeans:\n",
        "  def __init__(self, data, k, max_iter = 1000):\n",
        "    self.data = data\n",
        "    self.k = k\n",
        "    #number of data points\n",
        "    self.data_size = data.shape[0]\n",
        "    #the data dimension\n",
        "    self.dim = data.shape[1]\n",
        "\n",
        "    self.max_iter = max_iter\n",
        "    \n",
        "    self.predictions = np.zeros(self.data_size)\n",
        "\n",
        "  def predict(self):\n",
        "    #initialize centeroids with k random datapoints\n",
        "    centeroids = ...\n",
        "\n",
        "    #iterate for max_iter times and perform the algorithm\n",
        "    for i in range(max_iter):\n",
        "      ...\n",
        "    "
      ]
    },
    {
      "cell_type": "code",
      "execution_count": 37,
      "metadata": {
        "cellView": "form",
        "id": "DzvYW7LDMR71"
      },
      "outputs": [],
      "source": [
        "#@title Solution\n",
        "class Kmeans:\n",
        "  def __init__(self, data, k, max_iter = 1000):\n",
        "    self.data = data\n",
        "    self.k = k\n",
        "    #number of data points\n",
        "    self.data_size = data.shape[0]\n",
        "    #the data dimension\n",
        "    self.dim = data.shape[1]\n",
        "\n",
        "    self.max_iter = max_iter\n",
        "    \n",
        "    self.predictions = np.zeros(self.data_size)\n",
        "\n",
        "  def predict(self):\n",
        "    #initialize centeroids with k random datapoints\n",
        "    centeroids = self.data[np.random.randint(0, self.data_size, size = self.k)]\n",
        "    for i in range(self.max_iter):\n",
        "      print(i)\n",
        "\n",
        "      distances = find_distance(self.data, centeroids)\n",
        "      # in axis=1, find the min\n",
        "      predictions = np.argmin(distances, axis = 1)\n",
        "\n",
        "      for j in range(self.k):\n",
        "        current_cluster = self.data[predictions == j]\n",
        "        if len(current_cluster) > 0:\n",
        "          centeroids[j] = np.mean(self.data[predictions == j], axis = 0)\n",
        "\n",
        "\n",
        "    self.predictions = predictions\n",
        "          \n",
        "\n",
        "      \n"
      ]
    },
    {
      "cell_type": "code",
      "execution_count": 51,
      "metadata": {},
      "outputs": [
        {
          "data": {
            "text/plain": [
              "4"
            ]
          },
          "execution_count": 51,
          "metadata": {},
          "output_type": "execute_result"
        }
      ],
      "source": [
        "a = np.array([3,1,2,5,0,6,6])\n",
        "np.argmin(a)"
      ]
    },
    {
      "cell_type": "code",
      "execution_count": null,
      "metadata": {
        "id": "m3pg68cFOy6D"
      },
      "outputs": [],
      "source": [
        "#run this cell to check your code. It is possible that your algorithm gets stuck in a local minima. so if the result is wrong, run multiple times to make sure.\n",
        "model = Kmeans(data, 3)\n",
        "model.predict()\n",
        "\n",
        "plt.scatter(data[model.predictions == 0, 0], data[model.predictions == 0, 1])\n",
        "plt.scatter(data[model.predictions == 1, 0], data[model.predictions == 1, 1])\n",
        "plt.scatter(data[model.predictions == 2, 0], data[model.predictions == 2, 1])\n",
        "\n",
        "plt.legend(['cluster 1', 'cluster 2', 'cluster 3'])\n",
        "plt.show()"
      ]
    },
    {
      "cell_type": "code",
      "execution_count": 53,
      "metadata": {},
      "outputs": [
        {
          "name": "stdout",
          "output_type": "stream",
          "text": [
            "b: [ 1  2  3  4  5  6  7  8  9 10]\n"
          ]
        }
      ],
      "source": [
        "# saving and loading numpy arrays\n",
        "a = np.array([1, 2, 3, 4, 5, 6, 7, 8, 9, 10])\n",
        "\n",
        "np.save('sample', a)\n",
        "\n",
        "# load\n",
        "b = np.load('sample.npy')\n",
        "print(\"b:\", b)"
      ]
    }
  ],
  "metadata": {
    "colab": {
      "collapsed_sections": [],
      "name": "numpy_tutorial.ipynb",
      "provenance": []
    },
    "kernelspec": {
      "display_name": "Python 3.8.3 ('base')",
      "language": "python",
      "name": "python3"
    },
    "language_info": {
      "codemirror_mode": {
        "name": "ipython",
        "version": 3
      },
      "file_extension": ".py",
      "mimetype": "text/x-python",
      "name": "python",
      "nbconvert_exporter": "python",
      "pygments_lexer": "ipython3",
      "version": "3.8.3"
    },
    "vscode": {
      "interpreter": {
        "hash": "01ffbd6f59ec58c216bb1ed56aeb108b01c9870bbb1d227aaa202e2e552bdab7"
      }
    }
  },
  "nbformat": 4,
  "nbformat_minor": 0
}
