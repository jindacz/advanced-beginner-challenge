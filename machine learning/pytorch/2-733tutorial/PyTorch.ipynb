{
  "cells": [
    {
      "cell_type": "markdown",
      "metadata": {
        "id": "_cGj4QjM5BsH"
      },
      "source": [
        "# CMPT 733 - Spring 2022\n",
        "# NumPy, PyTorch tutorial\n",
        "\n",
        "__content creator:__ Aryan Mikaeili"
      ]
    },
    {
      "cell_type": "markdown",
      "metadata": {
        "id": "xQRST7NV4efg"
      },
      "source": [
        "# Setting up Colab\n",
        "\n",
        "1. Opening the notebook\n",
        "2. Changing runtime type to GPU\n"
      ]
    },
    {
      "cell_type": "markdown",
      "metadata": {
        "id": "rYUHCSkA4yAm"
      },
      "source": [
        "# Installing PyTorch\n",
        "\n",
        "Go to https://pytorch.org/. There you can find instructions on how to install PyTorch based on your machine. If using Lab machines, no need to install PyTorch."
      ]
    },
    {
      "cell_type": "markdown",
      "metadata": {
        "id": "_cKDX_0V7way"
      },
      "source": [
        "# Tensors\n",
        "\n",
        "Four important attributes:\n",
        "1. Data\n",
        "2. Type\n",
        "3. Device\n",
        "4. Requires Grad"
      ]
    },
    {
      "cell_type": "code",
      "execution_count": 5,
      "metadata": {
        "id": "J94wVgPP7v2y"
      },
      "outputs": [],
      "source": [
        "import torch\n",
        "import numpy as np"
      ]
    },
    {
      "cell_type": "code",
      "execution_count": 3,
      "metadata": {
        "colab": {
          "base_uri": "https://localhost:8080/"
        },
        "id": "_8GuEroe8GrE",
        "outputId": "f43fe920-a3aa-4fee-e208-84ef004e3794"
      },
      "outputs": [
        {
          "name": "stdout",
          "output_type": "stream",
          "text": [
            "type: <class 'torch.Tensor'>\n",
            "dtype: torch.int64\n",
            "device: cpu\n",
            "requires grad: False\n"
          ]
        }
      ],
      "source": [
        "#defining an empty tensor and observing the default attributes\n",
        "t = torch.tensor([1, 2, 3])\n",
        "\n",
        "print('type:', type(t))\n",
        "print('dtype:', t.dtype)\n",
        "print('device:', t.device)\n",
        "print('requires grad:', t.requires_grad)\n"
      ]
    },
    {
      "cell_type": "code",
      "execution_count": 2,
      "metadata": {
        "colab": {
          "base_uri": "https://localhost:8080/"
        },
        "id": "djJ4KWE18m7k",
        "outputId": "31f7adaa-acd5-45ff-abed-15f18b16ec8c"
      },
      "outputs": [
        {
          "ename": "NameError",
          "evalue": "name 'torch' is not defined",
          "output_type": "error",
          "traceback": [
            "\u001b[0;31m---------------------------------------------------------------------------\u001b[0m",
            "\u001b[0;31mNameError\u001b[0m                                 Traceback (most recent call last)",
            "Cell \u001b[0;32mIn [2], line 3\u001b[0m\n\u001b[1;32m      1\u001b[0m \u001b[39m#defining an arbitrary tensor\u001b[39;00m\n\u001b[0;32m----> 3\u001b[0m t \u001b[39m=\u001b[39m torch\u001b[39m.\u001b[39mtensor(np\u001b[39m.\u001b[39marray([\u001b[39m1\u001b[39m, \u001b[39m2\u001b[39m, \u001b[39m3\u001b[39m]), dtype\u001b[39m=\u001b[39mtorch\u001b[39m.\u001b[39mfloat64, device\u001b[39m=\u001b[39m\u001b[39m'\u001b[39m\u001b[39mcuda:0\u001b[39m\u001b[39m'\u001b[39m,requires_grad\u001b[39m=\u001b[39m\u001b[39mTrue\u001b[39;00m)\n\u001b[1;32m      5\u001b[0m \u001b[39mprint\u001b[39m(\u001b[39m'\u001b[39m\u001b[39mtype:\u001b[39m\u001b[39m'\u001b[39m, \u001b[39mtype\u001b[39m(t))\n\u001b[1;32m      6\u001b[0m \u001b[39mprint\u001b[39m(\u001b[39m'\u001b[39m\u001b[39mdtype:\u001b[39m\u001b[39m'\u001b[39m, t\u001b[39m.\u001b[39mdtype)\n",
            "\u001b[0;31mNameError\u001b[0m: name 'torch' is not defined"
          ]
        }
      ],
      "source": [
        "#defining an arbitrary tensor\n",
        "\n",
        "# t = torch.tensor(np.array([1, 2, 3]), dtype=torch.float64, device='cuda:0',requires_grad=True)\n",
        "t = torch.tensor(np.array([1, 2, 3]), dtype=torch.float64,requires_grad=True)\n",
        "\n",
        "print('type:', type(t))\n",
        "print('dtype:', t.dtype)\n",
        "print('device:', t.device)\n",
        "print('requires grad:', t.requires_grad)"
      ]
    },
    {
      "cell_type": "markdown",
      "metadata": {
        "id": "S-husWAJ9KTy"
      },
      "source": [
        "#Controlling devices in PyTorch\n"
      ]
    },
    {
      "cell_type": "code",
      "execution_count": 7,
      "metadata": {
        "colab": {
          "base_uri": "https://localhost:8080/"
        },
        "id": "PQOpml4b9JKN",
        "outputId": "45e4e26a-b8df-4eac-98d4-be46573c7ce0"
      },
      "outputs": [
        {
          "name": "stdout",
          "output_type": "stream",
          "text": [
            "t1 device: cpu\n",
            "t2 device: cuda:0\n",
            "t3 device: cpu\n"
          ]
        }
      ],
      "source": [
        "t1 = torch.tensor([], device = torch.device('cpu'))\n",
        "\n",
        "print('t1 device:', t1.device)\n",
        "\n",
        "t2 = t1.cuda()\n",
        "print('t2 device:', t2.device)\n",
        "\n",
        "t3 = t1.cpu()\n",
        "print('t3 device:', t1.device)\n",
        "\n",
        "\n",
        "\n"
      ]
    },
    {
      "cell_type": "code",
      "execution_count": 10,
      "metadata": {
        "colab": {
          "base_uri": "https://localhost:8080/"
        },
        "id": "advjUllDoboW",
        "outputId": "5a2fb356-67af-4a94-a72f-2d5278e0e4ac"
      },
      "outputs": [
        {
          "name": "stdout",
          "output_type": "stream",
          "text": [
            "t1 device: cuda:0\n"
          ]
        }
      ],
      "source": [
        "device = torch.device('cuda:0')\n",
        "\n",
        "t = torch.tensor([])\n",
        "\n",
        "t1 = t.to(device)\n",
        "\n",
        "print('t1 device:', t1.device)"
      ]
    },
    {
      "cell_type": "code",
      "execution_count": 11,
      "metadata": {
        "colab": {
          "base_uri": "https://localhost:8080/"
        },
        "id": "2YRYVqiQ9yTd",
        "outputId": "26c70299-019a-4e23-aa3f-4640d6d16b09"
      },
      "outputs": [
        {
          "name": "stdout",
          "output_type": "stream",
          "text": [
            "True\n",
            "device: cuda\n"
          ]
        }
      ],
      "source": [
        "device = torch.device('cuda' if torch.cuda.is_available() else 'cpu')\n",
        "print(torch.cuda.is_available())\n",
        "print('device:', device)\n"
      ]
    },
    {
      "cell_type": "markdown",
      "metadata": {
        "id": "LK7QhQoY_Iuy"
      },
      "source": [
        "#Accessing an item in PyTorch"
      ]
    },
    {
      "cell_type": "code",
      "execution_count": 12,
      "metadata": {
        "colab": {
          "base_uri": "https://localhost:8080/"
        },
        "id": "rRJMb2zc_H8s",
        "outputId": "77c09477-ca16-4c92-a30b-3470f547714a"
      },
      "outputs": [
        {
          "name": "stdout",
          "output_type": "stream",
          "text": [
            "tensor(2)\n",
            "2\n"
          ]
        }
      ],
      "source": [
        "import numpy as np\n",
        "\n",
        "t = torch.tensor([1, 2, 3])\n",
        "print(t[1])\n",
        "\n",
        "n = np.array([1, 2, 3])\n",
        "print(n[1])\n"
      ]
    },
    {
      "cell_type": "code",
      "execution_count": 25,
      "metadata": {
        "colab": {
          "base_uri": "https://localhost:8080/"
        },
        "id": "jk2Lx7LZ_b3c",
        "outputId": "5527e1b6-8078-4468-b441-34fb040d139e"
      },
      "outputs": [
        {
          "name": "stdout",
          "output_type": "stream",
          "text": [
            "2\n"
          ]
        }
      ],
      "source": [
        "print(t[1].item())"
      ]
    },
    {
      "cell_type": "markdown",
      "metadata": {
        "id": "fRMA7upY_lM7"
      },
      "source": [
        "#Converting tensors to and from numpy arrays"
      ]
    },
    {
      "cell_type": "code",
      "execution_count": 32,
      "metadata": {
        "colab": {
          "base_uri": "https://localhost:8080/"
        },
        "id": "VAPcuRfy_gHq",
        "outputId": "b5fa2322-c300-447f-da77-f5bc50ff68eb"
      },
      "outputs": [
        {
          "name": "stdout",
          "output_type": "stream",
          "text": [
            "n: [1 2 3]\n",
            "tn: tensor([1, 2, 3])\n"
          ]
        }
      ],
      "source": [
        "t = torch.tensor([1, 2, 3])\n",
        "n = t.numpy()\n",
        "\n",
        "print('n:',n)\n",
        "tn = torch.from_numpy(n)\n",
        "print('tn:',tn)\n",
        "\n"
      ]
    },
    {
      "cell_type": "markdown",
      "metadata": {
        "id": "fgI7QxewC1SF"
      },
      "source": [
        "# Squeeze and Unsqueeze"
      ]
    },
    {
      "cell_type": "code",
      "execution_count": 13,
      "metadata": {
        "colab": {
          "base_uri": "https://localhost:8080/"
        },
        "id": "wuMV2v3ECuxl",
        "outputId": "b6d28db0-76a2-4bef-c8d4-3758ac149910"
      },
      "outputs": [
        {
          "name": "stdout",
          "output_type": "stream",
          "text": [
            "t shape: torch.Size([3])\n",
            "t_u shape: torch.Size([1, 3])\n"
          ]
        }
      ],
      "source": [
        "t = torch.tensor([1, 2, 3])\n",
        "\n",
        "t_u = torch.unsqueeze(t, 0)\n",
        "print('t shape:', t.shape)\n",
        "print('t_u shape:', t_u.shape)"
      ]
    },
    {
      "cell_type": "code",
      "execution_count": 21,
      "metadata": {
        "colab": {
          "base_uri": "https://localhost:8080/"
        },
        "id": "S16vWwL1qhgF",
        "outputId": "6a1696da-9727-4359-f47e-63266e30468e"
      },
      "outputs": [
        {
          "name": "stdout",
          "output_type": "stream",
          "text": [
            "torch.Size([4, 3, 3])\n"
          ]
        }
      ],
      "source": [
        "a = torch.randn(4, 3, 3)\n",
        "b = torch.randn(4, 3, 3)\n",
        "\n",
        "c = torch.bmm(a, b)\n",
        "\n",
        "print(c.shape)"
      ]
    },
    {
      "cell_type": "code",
      "execution_count": 25,
      "metadata": {
        "colab": {
          "base_uri": "https://localhost:8080/"
        },
        "id": "jAeNgLnornB8",
        "outputId": "6ad35cee-9cd3-4fd7-ea6c-7b0c4841bc76"
      },
      "outputs": [
        {
          "data": {
            "text/plain": [
              "tensor([0, 1, 2])"
            ]
          },
          "execution_count": 25,
          "metadata": {},
          "output_type": "execute_result"
        }
      ],
      "source": [
        "t = torch.tensor([1, 2, 3])\n",
        "a = torch.tensor([1, 1, 1])\n",
        "t.sub(a)"
      ]
    },
    {
      "cell_type": "code",
      "execution_count": 26,
      "metadata": {
        "colab": {
          "base_uri": "https://localhost:8080/"
        },
        "id": "_3Hen-N0rydi",
        "outputId": "f103e13a-ebf2-4bc4-ea6e-ac5e03491a29"
      },
      "outputs": [
        {
          "data": {
            "text/plain": [
              "tensor([1, 2, 3])"
            ]
          },
          "execution_count": 26,
          "metadata": {},
          "output_type": "execute_result"
        }
      ],
      "source": [
        "t"
      ]
    },
    {
      "cell_type": "markdown",
      "metadata": {
        "id": "x23RSUSRReG7"
      },
      "source": [
        "# Autograd Package"
      ]
    },
    {
      "cell_type": "code",
      "execution_count": 34,
      "metadata": {
        "id": "ebFI3YUUQyDM"
      },
      "outputs": [],
      "source": [
        "N, D = 3, 4\n",
        "\n",
        "x = torch.randn(N, D, requires_grad=True)\n",
        "y = torch.randn(N, D)\n",
        "z = torch.randn(N, D)\n",
        "\n",
        "a = x * y\n",
        "b = a + z\n",
        "c = b.sum()\n",
        "\n"
      ]
    },
    {
      "cell_type": "code",
      "execution_count": 35,
      "metadata": {
        "id": "OpfgzsyV3mbG"
      },
      "outputs": [],
      "source": [
        "c.backward()"
      ]
    },
    {
      "cell_type": "code",
      "execution_count": 36,
      "metadata": {
        "colab": {
          "base_uri": "https://localhost:8080/"
        },
        "id": "RrAP0DNKu847",
        "outputId": "947b25f9-6f8c-46e7-c6b0-89b62acf216d"
      },
      "outputs": [
        {
          "name": "stdout",
          "output_type": "stream",
          "text": [
            "tensor([[-0.7119,  0.8860,  1.5870,  1.3606],\n",
            "        [-0.8203,  0.8316, -1.3783, -0.2057],\n",
            "        [-0.1932,  1.0397, -1.0117, -0.6622]])\n"
          ]
        }
      ],
      "source": [
        "print(x.grad)"
      ]
    },
    {
      "cell_type": "code",
      "execution_count": 37,
      "metadata": {
        "colab": {
          "base_uri": "https://localhost:8080/",
          "height": 329
        },
        "id": "VoqueecO3rCF",
        "outputId": "bb9ebb70-8140-45dd-8681-326c9b7eb6fc"
      },
      "outputs": [
        {
          "ename": "RuntimeError",
          "evalue": "ignored",
          "output_type": "error",
          "traceback": [
            "\u001b[0;31m---------------------------------------------------------------------------\u001b[0m",
            "\u001b[0;31mRuntimeError\u001b[0m                              Traceback (most recent call last)",
            "\u001b[0;32m<ipython-input-37-c64e6f25b1ab>\u001b[0m in \u001b[0;36m<module>\u001b[0;34m()\u001b[0m\n\u001b[0;32m----> 1\u001b[0;31m \u001b[0mc\u001b[0m\u001b[0;34m.\u001b[0m\u001b[0mbackward\u001b[0m\u001b[0;34m(\u001b[0m\u001b[0;34m)\u001b[0m\u001b[0;34m\u001b[0m\u001b[0;34m\u001b[0m\u001b[0m\n\u001b[0m",
            "\u001b[0;32m/usr/local/lib/python3.7/dist-packages/torch/_tensor.py\u001b[0m in \u001b[0;36mbackward\u001b[0;34m(self, gradient, retain_graph, create_graph, inputs)\u001b[0m\n\u001b[1;32m    305\u001b[0m                 \u001b[0mcreate_graph\u001b[0m\u001b[0;34m=\u001b[0m\u001b[0mcreate_graph\u001b[0m\u001b[0;34m,\u001b[0m\u001b[0;34m\u001b[0m\u001b[0;34m\u001b[0m\u001b[0m\n\u001b[1;32m    306\u001b[0m                 inputs=inputs)\n\u001b[0;32m--> 307\u001b[0;31m         \u001b[0mtorch\u001b[0m\u001b[0;34m.\u001b[0m\u001b[0mautograd\u001b[0m\u001b[0;34m.\u001b[0m\u001b[0mbackward\u001b[0m\u001b[0;34m(\u001b[0m\u001b[0mself\u001b[0m\u001b[0;34m,\u001b[0m \u001b[0mgradient\u001b[0m\u001b[0;34m,\u001b[0m \u001b[0mretain_graph\u001b[0m\u001b[0;34m,\u001b[0m \u001b[0mcreate_graph\u001b[0m\u001b[0;34m,\u001b[0m \u001b[0minputs\u001b[0m\u001b[0;34m=\u001b[0m\u001b[0minputs\u001b[0m\u001b[0;34m)\u001b[0m\u001b[0;34m\u001b[0m\u001b[0;34m\u001b[0m\u001b[0m\n\u001b[0m\u001b[1;32m    308\u001b[0m \u001b[0;34m\u001b[0m\u001b[0m\n\u001b[1;32m    309\u001b[0m     \u001b[0;32mdef\u001b[0m \u001b[0mregister_hook\u001b[0m\u001b[0;34m(\u001b[0m\u001b[0mself\u001b[0m\u001b[0;34m,\u001b[0m \u001b[0mhook\u001b[0m\u001b[0;34m)\u001b[0m\u001b[0;34m:\u001b[0m\u001b[0;34m\u001b[0m\u001b[0;34m\u001b[0m\u001b[0m\n",
            "\u001b[0;32m/usr/local/lib/python3.7/dist-packages/torch/autograd/__init__.py\u001b[0m in \u001b[0;36mbackward\u001b[0;34m(tensors, grad_tensors, retain_graph, create_graph, grad_variables, inputs)\u001b[0m\n\u001b[1;32m    154\u001b[0m     Variable._execution_engine.run_backward(\n\u001b[1;32m    155\u001b[0m         \u001b[0mtensors\u001b[0m\u001b[0;34m,\u001b[0m \u001b[0mgrad_tensors_\u001b[0m\u001b[0;34m,\u001b[0m \u001b[0mretain_graph\u001b[0m\u001b[0;34m,\u001b[0m \u001b[0mcreate_graph\u001b[0m\u001b[0;34m,\u001b[0m \u001b[0minputs\u001b[0m\u001b[0;34m,\u001b[0m\u001b[0;34m\u001b[0m\u001b[0;34m\u001b[0m\u001b[0m\n\u001b[0;32m--> 156\u001b[0;31m         allow_unreachable=True, accumulate_grad=True)  # allow_unreachable flag\n\u001b[0m\u001b[1;32m    157\u001b[0m \u001b[0;34m\u001b[0m\u001b[0m\n\u001b[1;32m    158\u001b[0m \u001b[0;34m\u001b[0m\u001b[0m\n",
            "\u001b[0;31mRuntimeError\u001b[0m: Trying to backward through the graph a second time (or directly access saved tensors after they have already been freed). Saved intermediate values of the graph are freed when you call .backward() or autograd.grad(). Specify retain_graph=True if you need to backward through the graph a second time or if you need to access saved tensors after calling backward."
          ]
        }
      ],
      "source": [
        "c.backward()"
      ]
    },
    {
      "cell_type": "code",
      "execution_count": 29,
      "metadata": {
        "colab": {
          "base_uri": "https://localhost:8080/"
        },
        "id": "KliAQdCZRhSx",
        "outputId": "438b9a92-e3e1-45b1-dfff-d49eb367c030"
      },
      "outputs": [
        {
          "name": "stdout",
          "output_type": "stream",
          "text": [
            "None\n"
          ]
        }
      ],
      "source": [
        "print(x.grad)"
      ]
    },
    {
      "cell_type": "code",
      "execution_count": 30,
      "metadata": {
        "id": "5iMk1TO1RmOW"
      },
      "outputs": [],
      "source": [
        "c.backward()"
      ]
    },
    {
      "cell_type": "code",
      "execution_count": 31,
      "metadata": {
        "colab": {
          "base_uri": "https://localhost:8080/"
        },
        "id": "Q9zTf74tRqG_",
        "outputId": "2ec0044a-89fa-49e4-ee40-6afba549258c"
      },
      "outputs": [
        {
          "name": "stdout",
          "output_type": "stream",
          "text": [
            "x grad: tensor([[ 0.6699, -0.6018,  0.4422, -1.1637],\n",
            "        [-0.5665, -0.6009,  0.4452,  0.0320],\n",
            "        [ 0.5506, -1.1800, -0.5652,  0.9467]])\n",
            "y grad: None\n"
          ]
        }
      ],
      "source": [
        "print('x grad:',x.grad)\n",
        "print('y grad:', y.grad)"
      ]
    },
    {
      "cell_type": "code",
      "execution_count": 32,
      "metadata": {
        "colab": {
          "base_uri": "https://localhost:8080/"
        },
        "id": "GNCAz5t_R32r",
        "outputId": "3d26f83b-36c0-41df-bba1-514ae1a21a33"
      },
      "outputs": [
        {
          "name": "stdout",
          "output_type": "stream",
          "text": [
            "tensor([[ 1.3399, -1.2035,  0.8845, -2.3274],\n",
            "        [-1.1330, -1.2019,  0.8904,  0.0639],\n",
            "        [ 1.1013, -2.3600, -1.1303,  1.8934]])\n"
          ]
        }
      ],
      "source": [
        "#The addition default of pytorch for gradients\n",
        "\n",
        "a = x * y\n",
        "b = a + z\n",
        "c = b.sum()\n",
        "\n",
        "c.backward()\n",
        "\n",
        "print(x.grad)"
      ]
    },
    {
      "cell_type": "code",
      "execution_count": 33,
      "metadata": {
        "colab": {
          "base_uri": "https://localhost:8080/"
        },
        "id": "hYUxfOhbviQi",
        "outputId": "5a9e7c18-efde-409f-bcec-fc6220e1481c"
      },
      "outputs": [
        {
          "data": {
            "text/plain": [
              "tensor([[0., 0., 0., 0.],\n",
              "        [0., 0., 0., 0.],\n",
              "        [0., 0., 0., 0.]])"
            ]
          },
          "execution_count": 33,
          "metadata": {},
          "output_type": "execute_result"
        }
      ],
      "source": [
        "x.grad.zero_()"
      ]
    },
    {
      "cell_type": "markdown",
      "metadata": {
        "id": "09-pQEGFc1ZY"
      },
      "source": [
        "# the NN module"
      ]
    },
    {
      "cell_type": "code",
      "execution_count": 38,
      "metadata": {
        "colab": {
          "base_uri": "https://localhost:8080/"
        },
        "id": "q_Dc5LY3c0vI",
        "outputId": "35225168-b442-4970-fc9d-2ac248ad2b96"
      },
      "outputs": [
        {
          "name": "stdout",
          "output_type": "stream",
          "text": [
            "shape of output: torch.Size([64, 100])\n"
          ]
        }
      ],
      "source": [
        "import torch.nn as nn\n",
        "\n",
        "l = nn.Linear(in_features = 1000, out_features = 100, bias = True)\n",
        "\n",
        "x = torch.randn(64, 1000)\n",
        "\n",
        "output = l(x)\n",
        "\n",
        "print('shape of output:', output.shape)\n"
      ]
    },
    {
      "cell_type": "code",
      "execution_count": 39,
      "metadata": {
        "colab": {
          "base_uri": "https://localhost:8080/"
        },
        "id": "x94QOve_R9gN",
        "outputId": "b03366e7-a483-499d-9550-c623b686011a"
      },
      "outputs": [
        {
          "name": "stdout",
          "output_type": "stream",
          "text": [
            "weight shape: torch.Size([100, 1000])\n",
            "bias shape: torch.Size([100])\n",
            "type of weight <class 'torch.nn.parameter.Parameter'>\n"
          ]
        }
      ],
      "source": [
        "print('weight shape:',l.weight.shape)\n",
        "print('bias shape:',l.bias.shape)\n",
        "print('type of weight', type(l.weight))"
      ]
    },
    {
      "cell_type": "code",
      "execution_count": 125,
      "metadata": {
        "colab": {
          "base_uri": "https://localhost:8080/"
        },
        "id": "rmCifJcgeDey",
        "outputId": "750cc48d-4dbe-4ce9-b299-a0c3105a2b99"
      },
      "outputs": [
        {
          "name": "stdout",
          "output_type": "stream",
          "text": [
            "image shape 1: torch.Size([1, 100, 100, 3])\n",
            "image shape 2: torch.Size([1, 3, 100, 100])\n",
            "output shape: torch.Size([1, 64, 96, 96])\n",
            "weights shape: torch.Size([64, 3, 5, 5])\n"
          ]
        }
      ],
      "source": [
        "conv2d = nn.Conv2d(in_channels=3, out_channels=64, kernel_size=5)\n",
        "image = torch.randn(100, 100, 3)\n",
        "\n",
        "image = torch.unsqueeze(image, 0)\n",
        "print('image shape 1:', image.shape)\n",
        "\n",
        "image = image.permute(0, 3, 1, 2)\n",
        "print('image shape 2:',image.shape)\n",
        "\n",
        "output = conv2d(image)\n",
        "\n",
        "print('output shape:',output.shape)\n",
        "\n",
        "print('weights shape:', conv2d.weight.shape)\n",
        "\n"
      ]
    },
    {
      "cell_type": "code",
      "execution_count": 46,
      "metadata": {
        "colab": {
          "base_uri": "https://localhost:8080/"
        },
        "id": "r4bmfwgI7YK5",
        "outputId": "6bfeb128-504d-4614-ad12-8f9633463eb7"
      },
      "outputs": [
        {
          "name": "stdout",
          "output_type": "stream",
          "text": [
            "image shape 1: torch.Size([1, 100, 100, 3])\n",
            "image shape 2: torch.Size([1, 3, 100, 100])\n",
            "output shape: torch.Size([1, 64, 96, 96])\n"
          ]
        }
      ],
      "source": [
        "conv2d = nn.Conv2d(in_channels=3, out_channels=64, kernel_size=5)\n",
        "image = torch.randn(100, 100, 3)\n",
        "\n",
        "\n",
        "image = torch.unsqueeze(image, 0)\n",
        "print('image shape 1:', image.shape)\n",
        "\n",
        "\n",
        "image = image.permute(0, 3, 1, 2)\n",
        "print('image shape 2:',image.shape)\n",
        "\n",
        "output = conv2d(image)\n",
        "\n",
        "print('output shape:',output.shape)"
      ]
    },
    {
      "cell_type": "code",
      "execution_count": 47,
      "metadata": {
        "colab": {
          "base_uri": "https://localhost:8080/"
        },
        "id": "-uTGgl0890TL",
        "outputId": "96926f66-0887-458c-f0d8-a6374554c397"
      },
      "outputs": [
        {
          "name": "stdout",
          "output_type": "stream",
          "text": [
            "torch.Size([64, 3, 5, 5])\n"
          ]
        }
      ],
      "source": [
        "print(conv2d.weight.shape)"
      ]
    },
    {
      "cell_type": "markdown",
      "metadata": {
        "id": "vXHfIbX1ienJ"
      },
      "source": [
        "# Datasets and Dataloaders"
      ]
    },
    {
      "cell_type": "code",
      "execution_count": 48,
      "metadata": {
        "colab": {
          "base_uri": "https://localhost:8080/",
          "height": 84,
          "referenced_widgets": [
            "ef8e83e47346455da42da3db3c8e5fc7",
            "035bd06f31064803817cd95f2b2e964d",
            "ac9419a61f0c45989a93ebec215825f5",
            "bb8aa10db338449abf49c41051570856",
            "b4cb2651b50e43e1adb499b59ce3d22e",
            "9a8c60060cdd4212be228989904ec7ed",
            "2c1cd34aa1614e81986bb3f3337319b0",
            "3a41020430fb44f59515b43116cce81f",
            "4c4fc04279724ce3a7fdf46ba3ac4020",
            "7b25f4034ad04350a554548342a82449",
            "f7227221b52f41aab7733beb343154b7"
          ]
        },
        "id": "kV_lSIr-id_X",
        "outputId": "d826f3ee-32ef-4b4f-b67b-55bbedce2132"
      },
      "outputs": [
        {
          "name": "stdout",
          "output_type": "stream",
          "text": [
            "Downloading https://www.cs.toronto.edu/~kriz/cifar-10-python.tar.gz to ./data/cifar-10-python.tar.gz\n"
          ]
        },
        {
          "data": {
            "application/vnd.jupyter.widget-view+json": {
              "model_id": "ef8e83e47346455da42da3db3c8e5fc7",
              "version_major": 2,
              "version_minor": 0
            },
            "text/plain": [
              "  0%|          | 0/170498071 [00:00<?, ?it/s]"
            ]
          },
          "metadata": {},
          "output_type": "display_data"
        },
        {
          "name": "stdout",
          "output_type": "stream",
          "text": [
            "Extracting ./data/cifar-10-python.tar.gz to ./data\n"
          ]
        }
      ],
      "source": [
        "#Available datasets\n",
        "import torchvision.transforms as transforms\n",
        "from torchvision import datasets\n",
        "\n",
        "transform = transforms.Compose(\n",
        "    [transforms.ToTensor(),\n",
        "     transforms.Normalize((0.5, 0.5, 0.5), (0.5, 0.5, 0.5))])\n",
        "\n",
        "b_size = 4\n",
        "\n",
        "trainset = datasets.CIFAR10(root='./data', train=True,\n",
        "                                        download=True, transform=transform)\n",
        "\n",
        "trainloader = torch.utils.data.DataLoader(trainset, batch_size=b_size,\n",
        "                                           shuffle=True, num_workers=0)\n",
        "\n",
        "\n"
      ]
    },
    {
      "cell_type": "code",
      "execution_count": 55,
      "metadata": {
        "colab": {
          "base_uri": "https://localhost:8080/",
          "height": 283
        },
        "id": "K4mPqYCpjIof",
        "outputId": "77bce172-429d-4019-ed4f-917031779837"
      },
      "outputs": [
        {
          "name": "stderr",
          "output_type": "stream",
          "text": [
            "Clipping input data to the valid range for imshow with RGB data ([0..1] for floats or [0..255] for integers).\n"
          ]
        },
        {
          "data": {
            "image/png": "[encoded data removed]",
            "text/plain": [
              "<Figure size 432x288 with 1 Axes>"
            ]
          },
          "metadata": {
            "needs_background": "light"
          },
          "output_type": "display_data"
        }
      ],
      "source": [
        "import matplotlib.pyplot as plt\n",
        "\n",
        "image, label = trainset.__getitem__(1)\n",
        "image = image.permute(1, 2, 0).numpy()\n",
        "\n",
        "plt.imshow(image)\n",
        "plt.show()\n",
        "\n",
        "\n"
      ]
    },
    {
      "cell_type": "code",
      "execution_count": 56,
      "metadata": {
        "colab": {
          "base_uri": "https://localhost:8080/",
          "height": 1000
        },
        "id": "81R68URYjy17",
        "outputId": "62910cf0-ec3d-4ab3-f95c-dadcdbf2446d"
      },
      "outputs": [
        {
          "name": "stdout",
          "output_type": "stream",
          "text": [
            "0 torch.Size([4, 3, 32, 32]) torch.Size([4])\n",
            "1 torch.Size([4, 3, 32, 32]) torch.Size([4])\n",
            "2 torch.Size([4, 3, 32, 32]) torch.Size([4])\n",
            "3 torch.Size([4, 3, 32, 32]) torch.Size([4])\n",
            "4 torch.Size([4, 3, 32, 32]) torch.Size([4])\n",
            "5 torch.Size([4, 3, 32, 32]) torch.Size([4])\n",
            "6 torch.Size([4, 3, 32, 32]) torch.Size([4])\n",
            "7 torch.Size([4, 3, 32, 32]) torch.Size([4])\n",
            "8 torch.Size([4, 3, 32, 32]) torch.Size([4])\n",
            "9 torch.Size([4, 3, 32, 32]) torch.Size([4])\n",
            "10 torch.Size([4, 3, 32, 32]) torch.Size([4])\n",
            "11 torch.Size([4, 3, 32, 32]) torch.Size([4])\n",
            "12 torch.Size([4, 3, 32, 32]) torch.Size([4])\n",
            "13 torch.Size([4, 3, 32, 32]) torch.Size([4])\n",
            "14 torch.Size([4, 3, 32, 32]) torch.Size([4])\n",
            "15 torch.Size([4, 3, 32, 32]) torch.Size([4])\n",
            "16 torch.Size([4, 3, 32, 32]) torch.Size([4])\n",
            "17 torch.Size([4, 3, 32, 32]) torch.Size([4])\n",
            "18 torch.Size([4, 3, 32, 32]) torch.Size([4])\n",
            "19 torch.Size([4, 3, 32, 32]) torch.Size([4])\n",
            "20 torch.Size([4, 3, 32, 32]) torch.Size([4])\n",
            "21 torch.Size([4, 3, 32, 32]) torch.Size([4])\n",
            "22 torch.Size([4, 3, 32, 32]) torch.Size([4])\n",
            "23 torch.Size([4, 3, 32, 32]) torch.Size([4])\n",
            "24 torch.Size([4, 3, 32, 32]) torch.Size([4])\n",
            "25 torch.Size([4, 3, 32, 32]) torch.Size([4])\n",
            "26 torch.Size([4, 3, 32, 32]) torch.Size([4])\n",
            "27 torch.Size([4, 3, 32, 32]) torch.Size([4])\n",
            "28 torch.Size([4, 3, 32, 32]) torch.Size([4])\n",
            "29 torch.Size([4, 3, 32, 32]) torch.Size([4])\n",
            "30 torch.Size([4, 3, 32, 32]) torch.Size([4])\n",
            "31 torch.Size([4, 3, 32, 32]) torch.Size([4])\n",
            "32 torch.Size([4, 3, 32, 32]) torch.Size([4])\n",
            "33 torch.Size([4, 3, 32, 32]) torch.Size([4])\n",
            "34 torch.Size([4, 3, 32, 32]) torch.Size([4])\n",
            "35 torch.Size([4, 3, 32, 32]) torch.Size([4])\n",
            "36 torch.Size([4, 3, 32, 32]) torch.Size([4])\n",
            "37 torch.Size([4, 3, 32, 32]) torch.Size([4])\n",
            "38 torch.Size([4, 3, 32, 32]) torch.Size([4])\n",
            "39 torch.Size([4, 3, 32, 32]) torch.Size([4])\n",
            "40 torch.Size([4, 3, 32, 32]) torch.Size([4])\n",
            "41 torch.Size([4, 3, 32, 32]) torch.Size([4])\n",
            "42 torch.Size([4, 3, 32, 32]) torch.Size([4])\n",
            "43 torch.Size([4, 3, 32, 32]) torch.Size([4])\n",
            "44 torch.Size([4, 3, 32, 32]) torch.Size([4])\n",
            "45 torch.Size([4, 3, 32, 32]) torch.Size([4])\n",
            "46 torch.Size([4, 3, 32, 32]) torch.Size([4])\n",
            "47 torch.Size([4, 3, 32, 32]) torch.Size([4])\n",
            "48 torch.Size([4, 3, 32, 32]) torch.Size([4])\n",
            "49 torch.Size([4, 3, 32, 32]) torch.Size([4])\n",
            "50 torch.Size([4, 3, 32, 32]) torch.Size([4])\n",
            "51 torch.Size([4, 3, 32, 32]) torch.Size([4])\n",
            "52 torch.Size([4, 3, 32, 32]) torch.Size([4])\n",
            "53 torch.Size([4, 3, 32, 32]) torch.Size([4])\n",
            "54 torch.Size([4, 3, 32, 32]) torch.Size([4])\n",
            "55 torch.Size([4, 3, 32, 32]) torch.Size([4])\n",
            "56 torch.Size([4, 3, 32, 32]) torch.Size([4])\n",
            "57 torch.Size([4, 3, 32, 32]) torch.Size([4])\n",
            "58 torch.Size([4, 3, 32, 32]) torch.Size([4])\n",
            "59 torch.Size([4, 3, 32, 32]) torch.Size([4])\n",
            "60 torch.Size([4, 3, 32, 32]) torch.Size([4])\n",
            "61 torch.Size([4, 3, 32, 32]) torch.Size([4])\n",
            "62 torch.Size([4, 3, 32, 32]) torch.Size([4])\n",
            "63 torch.Size([4, 3, 32, 32]) torch.Size([4])\n",
            "64 torch.Size([4, 3, 32, 32]) torch.Size([4])\n",
            "65 torch.Size([4, 3, 32, 32]) torch.Size([4])\n",
            "66 torch.Size([4, 3, 32, 32]) torch.Size([4])\n",
            "67 torch.Size([4, 3, 32, 32]) torch.Size([4])\n",
            "68 torch.Size([4, 3, 32, 32]) torch.Size([4])\n",
            "69 torch.Size([4, 3, 32, 32]) torch.Size([4])\n",
            "70 torch.Size([4, 3, 32, 32]) torch.Size([4])\n",
            "71 torch.Size([4, 3, 32, 32]) torch.Size([4])\n",
            "72 torch.Size([4, 3, 32, 32]) torch.Size([4])\n",
            "73 torch.Size([4, 3, 32, 32]) torch.Size([4])\n",
            "74 torch.Size([4, 3, 32, 32]) torch.Size([4])\n",
            "75 torch.Size([4, 3, 32, 32]) torch.Size([4])\n",
            "76 torch.Size([4, 3, 32, 32]) torch.Size([4])\n",
            "77 torch.Size([4, 3, 32, 32]) torch.Size([4])\n",
            "78 torch.Size([4, 3, 32, 32]) torch.Size([4])\n",
            "79 torch.Size([4, 3, 32, 32]) torch.Size([4])\n",
            "80 torch.Size([4, 3, 32, 32]) torch.Size([4])\n",
            "81 torch.Size([4, 3, 32, 32]) torch.Size([4])\n",
            "82 torch.Size([4, 3, 32, 32]) torch.Size([4])\n",
            "83 torch.Size([4, 3, 32, 32]) torch.Size([4])\n",
            "84 torch.Size([4, 3, 32, 32]) torch.Size([4])\n",
            "85 torch.Size([4, 3, 32, 32]) torch.Size([4])\n",
            "86 torch.Size([4, 3, 32, 32]) torch.Size([4])\n",
            "87 torch.Size([4, 3, 32, 32]) torch.Size([4])\n",
            "88 torch.Size([4, 3, 32, 32]) torch.Size([4])\n",
            "89 torch.Size([4, 3, 32, 32]) torch.Size([4])\n",
            "90 torch.Size([4, 3, 32, 32]) torch.Size([4])\n",
            "91 torch.Size([4, 3, 32, 32]) torch.Size([4])\n",
            "92 torch.Size([4, 3, 32, 32]) torch.Size([4])\n",
            "93 torch.Size([4, 3, 32, 32]) torch.Size([4])\n",
            "94 torch.Size([4, 3, 32, 32]) torch.Size([4])\n",
            "95 torch.Size([4, 3, 32, 32]) torch.Size([4])\n",
            "96 torch.Size([4, 3, 32, 32]) torch.Size([4])\n",
            "97 torch.Size([4, 3, 32, 32]) torch.Size([4])\n",
            "98 torch.Size([4, 3, 32, 32]) torch.Size([4])\n",
            "99 torch.Size([4, 3, 32, 32]) torch.Size([4])\n",
            "100 torch.Size([4, 3, 32, 32]) torch.Size([4])\n",
            "101 torch.Size([4, 3, 32, 32]) torch.Size([4])\n",
            "102 torch.Size([4, 3, 32, 32]) torch.Size([4])\n",
            "103 torch.Size([4, 3, 32, 32]) torch.Size([4])\n",
            "104 torch.Size([4, 3, 32, 32]) torch.Size([4])\n",
            "105 torch.Size([4, 3, 32, 32]) torch.Size([4])\n",
            "106 torch.Size([4, 3, 32, 32]) torch.Size([4])\n",
            "107 torch.Size([4, 3, 32, 32]) torch.Size([4])\n",
            "108 torch.Size([4, 3, 32, 32]) torch.Size([4])\n",
            "109 torch.Size([4, 3, 32, 32]) torch.Size([4])\n",
            "110 torch.Size([4, 3, 32, 32]) torch.Size([4])\n",
            "111 torch.Size([4, 3, 32, 32]) torch.Size([4])\n",
            "112 torch.Size([4, 3, 32, 32]) torch.Size([4])\n",
            "113 torch.Size([4, 3, 32, 32]) torch.Size([4])\n",
            "114 torch.Size([4, 3, 32, 32]) torch.Size([4])\n",
            "115 torch.Size([4, 3, 32, 32]) torch.Size([4])\n",
            "116 torch.Size([4, 3, 32, 32]) torch.Size([4])\n",
            "117 torch.Size([4, 3, 32, 32]) torch.Size([4])\n",
            "118 torch.Size([4, 3, 32, 32]) torch.Size([4])\n",
            "119 torch.Size([4, 3, 32, 32]) torch.Size([4])\n",
            "120 torch.Size([4, 3, 32, 32]) torch.Size([4])\n",
            "121 torch.Size([4, 3, 32, 32]) torch.Size([4])\n",
            "122 torch.Size([4, 3, 32, 32]) torch.Size([4])\n",
            "123 torch.Size([4, 3, 32, 32]) torch.Size([4])\n",
            "124 torch.Size([4, 3, 32, 32]) torch.Size([4])\n",
            "125 torch.Size([4, 3, 32, 32]) torch.Size([4])\n",
            "126 torch.Size([4, 3, 32, 32]) torch.Size([4])\n",
            "127 torch.Size([4, 3, 32, 32]) torch.Size([4])\n",
            "128 torch.Size([4, 3, 32, 32]) torch.Size([4])\n",
            "129 torch.Size([4, 3, 32, 32]) torch.Size([4])\n",
            "130 torch.Size([4, 3, 32, 32]) torch.Size([4])\n",
            "131 torch.Size([4, 3, 32, 32]) torch.Size([4])\n",
            "132 torch.Size([4, 3, 32, 32]) torch.Size([4])\n",
            "133 torch.Size([4, 3, 32, 32]) torch.Size([4])\n",
            "134 torch.Size([4, 3, 32, 32]) torch.Size([4])\n",
            "135 torch.Size([4, 3, 32, 32]) torch.Size([4])\n",
            "136 torch.Size([4, 3, 32, 32]) torch.Size([4])\n",
            "137 torch.Size([4, 3, 32, 32]) torch.Size([4])\n",
            "138 torch.Size([4, 3, 32, 32]) torch.Size([4])\n",
            "139 torch.Size([4, 3, 32, 32]) torch.Size([4])\n",
            "140 torch.Size([4, 3, 32, 32]) torch.Size([4])\n",
            "141 torch.Size([4, 3, 32, 32]) torch.Size([4])\n",
            "142 torch.Size([4, 3, 32, 32]) torch.Size([4])\n",
            "143 torch.Size([4, 3, 32, 32]) torch.Size([4])\n",
            "144 torch.Size([4, 3, 32, 32]) torch.Size([4])\n",
            "145 torch.Size([4, 3, 32, 32]) torch.Size([4])\n",
            "146 torch.Size([4, 3, 32, 32]) torch.Size([4])\n",
            "147 torch.Size([4, 3, 32, 32]) torch.Size([4])\n",
            "148 torch.Size([4, 3, 32, 32]) torch.Size([4])\n",
            "149 torch.Size([4, 3, 32, 32]) torch.Size([4])\n",
            "150 torch.Size([4, 3, 32, 32]) torch.Size([4])\n",
            "151 torch.Size([4, 3, 32, 32]) torch.Size([4])\n",
            "152 torch.Size([4, 3, 32, 32]) torch.Size([4])\n",
            "153 torch.Size([4, 3, 32, 32]) torch.Size([4])\n",
            "154 torch.Size([4, 3, 32, 32]) torch.Size([4])\n",
            "155 torch.Size([4, 3, 32, 32]) torch.Size([4])\n",
            "156 torch.Size([4, 3, 32, 32]) torch.Size([4])\n",
            "157 torch.Size([4, 3, 32, 32]) torch.Size([4])\n",
            "158 torch.Size([4, 3, 32, 32]) torch.Size([4])\n",
            "159 torch.Size([4, 3, 32, 32]) torch.Size([4])\n",
            "160 torch.Size([4, 3, 32, 32]) torch.Size([4])\n",
            "161 torch.Size([4, 3, 32, 32]) torch.Size([4])\n",
            "162 torch.Size([4, 3, 32, 32]) torch.Size([4])\n",
            "163 torch.Size([4, 3, 32, 32]) torch.Size([4])\n",
            "164 torch.Size([4, 3, 32, 32]) torch.Size([4])\n",
            "165 torch.Size([4, 3, 32, 32]) torch.Size([4])\n",
            "166 torch.Size([4, 3, 32, 32]) torch.Size([4])\n",
            "167 torch.Size([4, 3, 32, 32]) torch.Size([4])\n",
            "168 torch.Size([4, 3, 32, 32]) torch.Size([4])\n",
            "169 torch.Size([4, 3, 32, 32]) torch.Size([4])\n",
            "170 torch.Size([4, 3, 32, 32]) torch.Size([4])\n",
            "171 torch.Size([4, 3, 32, 32]) torch.Size([4])\n",
            "172 torch.Size([4, 3, 32, 32]) torch.Size([4])\n",
            "173 torch.Size([4, 3, 32, 32]) torch.Size([4])\n",
            "174 torch.Size([4, 3, 32, 32]) torch.Size([4])\n",
            "175 torch.Size([4, 3, 32, 32]) torch.Size([4])\n",
            "176 torch.Size([4, 3, 32, 32]) torch.Size([4])\n",
            "177 torch.Size([4, 3, 32, 32]) torch.Size([4])\n",
            "178 torch.Size([4, 3, 32, 32]) torch.Size([4])\n",
            "179 torch.Size([4, 3, 32, 32]) torch.Size([4])\n",
            "180 torch.Size([4, 3, 32, 32]) torch.Size([4])\n",
            "181 torch.Size([4, 3, 32, 32]) torch.Size([4])\n",
            "182 torch.Size([4, 3, 32, 32]) torch.Size([4])\n",
            "183 torch.Size([4, 3, 32, 32]) torch.Size([4])\n",
            "184 torch.Size([4, 3, 32, 32]) torch.Size([4])\n",
            "185 torch.Size([4, 3, 32, 32]) torch.Size([4])\n",
            "186 torch.Size([4, 3, 32, 32]) torch.Size([4])\n",
            "187 torch.Size([4, 3, 32, 32]) torch.Size([4])\n",
            "188 torch.Size([4, 3, 32, 32]) torch.Size([4])\n",
            "189 torch.Size([4, 3, 32, 32]) torch.Size([4])\n",
            "190 torch.Size([4, 3, 32, 32]) torch.Size([4])\n",
            "191 torch.Size([4, 3, 32, 32]) torch.Size([4])\n",
            "192 torch.Size([4, 3, 32, 32]) torch.Size([4])\n",
            "193 torch.Size([4, 3, 32, 32]) torch.Size([4])\n",
            "194 torch.Size([4, 3, 32, 32]) torch.Size([4])\n",
            "195 torch.Size([4, 3, 32, 32]) torch.Size([4])\n",
            "196 torch.Size([4, 3, 32, 32]) torch.Size([4])\n",
            "197 torch.Size([4, 3, 32, 32]) torch.Size([4])\n",
            "198 torch.Size([4, 3, 32, 32]) torch.Size([4])\n",
            "199 torch.Size([4, 3, 32, 32]) torch.Size([4])\n",
            "200 torch.Size([4, 3, 32, 32]) torch.Size([4])\n",
            "201 torch.Size([4, 3, 32, 32]) torch.Size([4])\n",
            "202 torch.Size([4, 3, 32, 32]) torch.Size([4])\n",
            "203 torch.Size([4, 3, 32, 32]) torch.Size([4])\n",
            "204 torch.Size([4, 3, 32, 32]) torch.Size([4])\n",
            "205 torch.Size([4, 3, 32, 32]) torch.Size([4])\n",
            "206 torch.Size([4, 3, 32, 32]) torch.Size([4])\n",
            "207 torch.Size([4, 3, 32, 32]) torch.Size([4])\n",
            "208 torch.Size([4, 3, 32, 32]) torch.Size([4])\n",
            "209 torch.Size([4, 3, 32, 32]) torch.Size([4])\n",
            "210 torch.Size([4, 3, 32, 32]) torch.Size([4])\n",
            "211 torch.Size([4, 3, 32, 32]) torch.Size([4])\n",
            "212 torch.Size([4, 3, 32, 32]) torch.Size([4])\n",
            "213 torch.Size([4, 3, 32, 32]) torch.Size([4])\n",
            "214 torch.Size([4, 3, 32, 32]) torch.Size([4])\n",
            "215 torch.Size([4, 3, 32, 32]) torch.Size([4])\n",
            "216 torch.Size([4, 3, 32, 32]) torch.Size([4])\n",
            "217 torch.Size([4, 3, 32, 32]) torch.Size([4])\n",
            "218 torch.Size([4, 3, 32, 32]) torch.Size([4])\n",
            "219 torch.Size([4, 3, 32, 32]) torch.Size([4])\n",
            "220 torch.Size([4, 3, 32, 32]) torch.Size([4])\n",
            "221 torch.Size([4, 3, 32, 32]) torch.Size([4])\n",
            "222 torch.Size([4, 3, 32, 32]) torch.Size([4])\n",
            "223 torch.Size([4, 3, 32, 32]) torch.Size([4])\n",
            "224 torch.Size([4, 3, 32, 32]) torch.Size([4])\n",
            "225 torch.Size([4, 3, 32, 32]) torch.Size([4])\n",
            "226 torch.Size([4, 3, 32, 32]) torch.Size([4])\n",
            "227 torch.Size([4, 3, 32, 32]) torch.Size([4])\n",
            "228 torch.Size([4, 3, 32, 32]) torch.Size([4])\n",
            "229 torch.Size([4, 3, 32, 32]) torch.Size([4])\n",
            "230 torch.Size([4, 3, 32, 32]) torch.Size([4])\n",
            "231 torch.Size([4, 3, 32, 32]) torch.Size([4])\n",
            "232 torch.Size([4, 3, 32, 32]) torch.Size([4])\n",
            "233 torch.Size([4, 3, 32, 32]) torch.Size([4])\n",
            "234 torch.Size([4, 3, 32, 32]) torch.Size([4])\n",
            "235 torch.Size([4, 3, 32, 32]) torch.Size([4])\n",
            "236 torch.Size([4, 3, 32, 32]) torch.Size([4])\n",
            "237 torch.Size([4, 3, 32, 32]) torch.Size([4])\n",
            "238 torch.Size([4, 3, 32, 32]) torch.Size([4])\n",
            "239 torch.Size([4, 3, 32, 32]) torch.Size([4])\n",
            "240 torch.Size([4, 3, 32, 32]) torch.Size([4])\n",
            "241 torch.Size([4, 3, 32, 32]) torch.Size([4])\n",
            "242 torch.Size([4, 3, 32, 32]) torch.Size([4])\n",
            "243 torch.Size([4, 3, 32, 32]) torch.Size([4])\n",
            "244 torch.Size([4, 3, 32, 32]) torch.Size([4])\n",
            "245 torch.Size([4, 3, 32, 32]) torch.Size([4])\n",
            "246 torch.Size([4, 3, 32, 32]) torch.Size([4])\n",
            "247 torch.Size([4, 3, 32, 32]) torch.Size([4])\n",
            "248 torch.Size([4, 3, 32, 32]) torch.Size([4])\n",
            "249 torch.Size([4, 3, 32, 32]) torch.Size([4])\n",
            "250 torch.Size([4, 3, 32, 32]) torch.Size([4])\n",
            "251 torch.Size([4, 3, 32, 32]) torch.Size([4])\n",
            "252 torch.Size([4, 3, 32, 32]) torch.Size([4])\n",
            "253 torch.Size([4, 3, 32, 32]) torch.Size([4])\n",
            "254 torch.Size([4, 3, 32, 32]) torch.Size([4])\n",
            "255 torch.Size([4, 3, 32, 32]) torch.Size([4])\n",
            "256 torch.Size([4, 3, 32, 32]) torch.Size([4])\n",
            "257 torch.Size([4, 3, 32, 32]) torch.Size([4])\n",
            "258 torch.Size([4, 3, 32, 32]) torch.Size([4])\n",
            "259 torch.Size([4, 3, 32, 32]) torch.Size([4])\n",
            "260 torch.Size([4, 3, 32, 32]) torch.Size([4])\n",
            "261 torch.Size([4, 3, 32, 32]) torch.Size([4])\n",
            "262 torch.Size([4, 3, 32, 32]) torch.Size([4])\n",
            "263 torch.Size([4, 3, 32, 32]) torch.Size([4])\n",
            "264 torch.Size([4, 3, 32, 32]) torch.Size([4])\n",
            "265 torch.Size([4, 3, 32, 32]) torch.Size([4])\n",
            "266 torch.Size([4, 3, 32, 32]) torch.Size([4])\n",
            "267 torch.Size([4, 3, 32, 32]) torch.Size([4])\n",
            "268 torch.Size([4, 3, 32, 32]) torch.Size([4])\n",
            "269 torch.Size([4, 3, 32, 32]) torch.Size([4])\n",
            "270 torch.Size([4, 3, 32, 32]) torch.Size([4])\n",
            "271 torch.Size([4, 3, 32, 32]) torch.Size([4])\n",
            "272 torch.Size([4, 3, 32, 32]) torch.Size([4])\n",
            "273 torch.Size([4, 3, 32, 32]) torch.Size([4])\n",
            "274 torch.Size([4, 3, 32, 32]) torch.Size([4])\n",
            "275 torch.Size([4, 3, 32, 32]) torch.Size([4])\n",
            "276 torch.Size([4, 3, 32, 32]) torch.Size([4])\n",
            "277 torch.Size([4, 3, 32, 32]) torch.Size([4])\n",
            "278 torch.Size([4, 3, 32, 32]) torch.Size([4])\n",
            "279 torch.Size([4, 3, 32, 32]) torch.Size([4])\n",
            "280 torch.Size([4, 3, 32, 32]) torch.Size([4])\n",
            "281 torch.Size([4, 3, 32, 32]) torch.Size([4])\n",
            "282 torch.Size([4, 3, 32, 32]) torch.Size([4])\n",
            "283 torch.Size([4, 3, 32, 32]) torch.Size([4])\n",
            "284 torch.Size([4, 3, 32, 32]) torch.Size([4])\n",
            "285 torch.Size([4, 3, 32, 32]) torch.Size([4])\n",
            "286 torch.Size([4, 3, 32, 32]) torch.Size([4])\n",
            "287 torch.Size([4, 3, 32, 32]) torch.Size([4])\n",
            "288 torch.Size([4, 3, 32, 32]) torch.Size([4])\n",
            "289 torch.Size([4, 3, 32, 32]) torch.Size([4])\n",
            "290 torch.Size([4, 3, 32, 32]) torch.Size([4])\n",
            "291 torch.Size([4, 3, 32, 32]) torch.Size([4])\n",
            "292 torch.Size([4, 3, 32, 32]) torch.Size([4])\n",
            "293 torch.Size([4, 3, 32, 32]) torch.Size([4])\n",
            "294 torch.Size([4, 3, 32, 32]) torch.Size([4])\n",
            "295 torch.Size([4, 3, 32, 32]) torch.Size([4])\n",
            "296 torch.Size([4, 3, 32, 32]) torch.Size([4])\n",
            "297 torch.Size([4, 3, 32, 32]) torch.Size([4])\n",
            "298 torch.Size([4, 3, 32, 32]) torch.Size([4])\n",
            "299 torch.Size([4, 3, 32, 32]) torch.Size([4])\n",
            "300 torch.Size([4, 3, 32, 32]) torch.Size([4])\n",
            "301 torch.Size([4, 3, 32, 32]) torch.Size([4])\n",
            "302 torch.Size([4, 3, 32, 32]) torch.Size([4])\n",
            "303 torch.Size([4, 3, 32, 32]) torch.Size([4])\n",
            "304 torch.Size([4, 3, 32, 32]) torch.Size([4])\n",
            "305 torch.Size([4, 3, 32, 32]) torch.Size([4])\n",
            "306 torch.Size([4, 3, 32, 32]) torch.Size([4])\n",
            "307 torch.Size([4, 3, 32, 32]) torch.Size([4])\n",
            "308 torch.Size([4, 3, 32, 32]) torch.Size([4])\n",
            "309 torch.Size([4, 3, 32, 32]) torch.Size([4])\n",
            "310 torch.Size([4, 3, 32, 32]) torch.Size([4])\n",
            "311 torch.Size([4, 3, 32, 32]) torch.Size([4])\n",
            "312 torch.Size([4, 3, 32, 32]) torch.Size([4])\n",
            "313 torch.Size([4, 3, 32, 32]) torch.Size([4])\n",
            "314 torch.Size([4, 3, 32, 32]) torch.Size([4])\n",
            "315 torch.Size([4, 3, 32, 32]) torch.Size([4])\n",
            "316 torch.Size([4, 3, 32, 32]) torch.Size([4])\n",
            "317 torch.Size([4, 3, 32, 32]) torch.Size([4])\n",
            "318 torch.Size([4, 3, 32, 32]) torch.Size([4])\n",
            "319 torch.Size([4, 3, 32, 32]) torch.Size([4])\n",
            "320 torch.Size([4, 3, 32, 32]) torch.Size([4])\n",
            "321 torch.Size([4, 3, 32, 32]) torch.Size([4])\n",
            "322 torch.Size([4, 3, 32, 32]) torch.Size([4])\n",
            "323 torch.Size([4, 3, 32, 32]) torch.Size([4])\n",
            "324 torch.Size([4, 3, 32, 32]) torch.Size([4])\n",
            "325 torch.Size([4, 3, 32, 32]) torch.Size([4])\n",
            "326 torch.Size([4, 3, 32, 32]) torch.Size([4])\n",
            "327 torch.Size([4, 3, 32, 32]) torch.Size([4])\n",
            "328 torch.Size([4, 3, 32, 32]) torch.Size([4])\n",
            "329 torch.Size([4, 3, 32, 32]) torch.Size([4])\n",
            "330 torch.Size([4, 3, 32, 32]) torch.Size([4])\n",
            "331 torch.Size([4, 3, 32, 32]) torch.Size([4])\n",
            "332 torch.Size([4, 3, 32, 32]) torch.Size([4])\n",
            "333 torch.Size([4, 3, 32, 32]) torch.Size([4])\n",
            "334 torch.Size([4, 3, 32, 32]) torch.Size([4])\n",
            "335 torch.Size([4, 3, 32, 32]) torch.Size([4])\n",
            "336 torch.Size([4, 3, 32, 32]) torch.Size([4])\n",
            "337 torch.Size([4, 3, 32, 32]) torch.Size([4])\n",
            "338 torch.Size([4, 3, 32, 32]) torch.Size([4])\n",
            "339 torch.Size([4, 3, 32, 32]) torch.Size([4])\n",
            "340 torch.Size([4, 3, 32, 32]) torch.Size([4])\n",
            "341 torch.Size([4, 3, 32, 32]) torch.Size([4])\n",
            "342 torch.Size([4, 3, 32, 32]) torch.Size([4])\n",
            "343 torch.Size([4, 3, 32, 32]) torch.Size([4])\n",
            "344 torch.Size([4, 3, 32, 32]) torch.Size([4])\n",
            "345 torch.Size([4, 3, 32, 32]) torch.Size([4])\n",
            "346 torch.Size([4, 3, 32, 32]) torch.Size([4])\n",
            "347 torch.Size([4, 3, 32, 32]) torch.Size([4])\n",
            "348 torch.Size([4, 3, 32, 32]) torch.Size([4])\n",
            "349 torch.Size([4, 3, 32, 32]) torch.Size([4])\n",
            "350 torch.Size([4, 3, 32, 32]) torch.Size([4])\n",
            "351 torch.Size([4, 3, 32, 32]) torch.Size([4])\n",
            "352 torch.Size([4, 3, 32, 32]) torch.Size([4])\n",
            "353 torch.Size([4, 3, 32, 32]) torch.Size([4])\n",
            "354 torch.Size([4, 3, 32, 32]) torch.Size([4])\n",
            "355 torch.Size([4, 3, 32, 32]) torch.Size([4])\n",
            "356 torch.Size([4, 3, 32, 32]) torch.Size([4])\n",
            "357 torch.Size([4, 3, 32, 32]) torch.Size([4])\n",
            "358 torch.Size([4, 3, 32, 32]) torch.Size([4])\n",
            "359 torch.Size([4, 3, 32, 32]) torch.Size([4])\n",
            "360 torch.Size([4, 3, 32, 32]) torch.Size([4])\n",
            "361 torch.Size([4, 3, 32, 32]) torch.Size([4])\n",
            "362 torch.Size([4, 3, 32, 32]) torch.Size([4])\n",
            "363 torch.Size([4, 3, 32, 32]) torch.Size([4])\n",
            "364 torch.Size([4, 3, 32, 32]) torch.Size([4])\n",
            "365 torch.Size([4, 3, 32, 32]) torch.Size([4])\n",
            "366 torch.Size([4, 3, 32, 32]) torch.Size([4])\n",
            "367 torch.Size([4, 3, 32, 32]) torch.Size([4])\n",
            "368 torch.Size([4, 3, 32, 32]) torch.Size([4])\n",
            "369 torch.Size([4, 3, 32, 32]) torch.Size([4])\n",
            "370 torch.Size([4, 3, 32, 32]) torch.Size([4])\n",
            "371 torch.Size([4, 3, 32, 32]) torch.Size([4])\n",
            "372 torch.Size([4, 3, 32, 32]) torch.Size([4])\n",
            "373 torch.Size([4, 3, 32, 32]) torch.Size([4])\n",
            "374 torch.Size([4, 3, 32, 32]) torch.Size([4])\n",
            "375 torch.Size([4, 3, 32, 32]) torch.Size([4])\n",
            "376 torch.Size([4, 3, 32, 32]) torch.Size([4])\n",
            "377 torch.Size([4, 3, 32, 32]) torch.Size([4])\n",
            "378 torch.Size([4, 3, 32, 32]) torch.Size([4])\n",
            "379 torch.Size([4, 3, 32, 32]) torch.Size([4])\n",
            "380 torch.Size([4, 3, 32, 32]) torch.Size([4])\n",
            "381 torch.Size([4, 3, 32, 32]) torch.Size([4])\n",
            "382 torch.Size([4, 3, 32, 32]) torch.Size([4])\n",
            "383 torch.Size([4, 3, 32, 32]) torch.Size([4])\n",
            "384 torch.Size([4, 3, 32, 32]) torch.Size([4])\n",
            "385 torch.Size([4, 3, 32, 32]) torch.Size([4])\n",
            "386 torch.Size([4, 3, 32, 32]) torch.Size([4])\n",
            "387 torch.Size([4, 3, 32, 32]) torch.Size([4])\n",
            "388 torch.Size([4, 3, 32, 32]) torch.Size([4])\n",
            "389 torch.Size([4, 3, 32, 32]) torch.Size([4])\n",
            "390 torch.Size([4, 3, 32, 32]) torch.Size([4])\n",
            "391 torch.Size([4, 3, 32, 32]) torch.Size([4])\n",
            "392 torch.Size([4, 3, 32, 32]) torch.Size([4])\n",
            "393 torch.Size([4, 3, 32, 32]) torch.Size([4])\n",
            "394 torch.Size([4, 3, 32, 32]) torch.Size([4])\n",
            "395 torch.Size([4, 3, 32, 32]) torch.Size([4])\n",
            "396 torch.Size([4, 3, 32, 32]) torch.Size([4])\n",
            "397 torch.Size([4, 3, 32, 32]) torch.Size([4])\n",
            "398 torch.Size([4, 3, 32, 32]) torch.Size([4])\n",
            "399 torch.Size([4, 3, 32, 32]) torch.Size([4])\n",
            "400 torch.Size([4, 3, 32, 32]) torch.Size([4])\n",
            "401 torch.Size([4, 3, 32, 32]) torch.Size([4])\n",
            "402 torch.Size([4, 3, 32, 32]) torch.Size([4])\n",
            "403 torch.Size([4, 3, 32, 32]) torch.Size([4])\n",
            "404 torch.Size([4, 3, 32, 32]) torch.Size([4])\n",
            "405 torch.Size([4, 3, 32, 32]) torch.Size([4])\n",
            "406 torch.Size([4, 3, 32, 32]) torch.Size([4])\n",
            "407 torch.Size([4, 3, 32, 32]) torch.Size([4])\n",
            "408 torch.Size([4, 3, 32, 32]) torch.Size([4])\n",
            "409 torch.Size([4, 3, 32, 32]) torch.Size([4])\n",
            "410 torch.Size([4, 3, 32, 32]) torch.Size([4])\n",
            "411 torch.Size([4, 3, 32, 32]) torch.Size([4])\n",
            "412 torch.Size([4, 3, 32, 32]) torch.Size([4])\n",
            "413 torch.Size([4, 3, 32, 32]) torch.Size([4])\n",
            "414 torch.Size([4, 3, 32, 32]) torch.Size([4])\n",
            "415 torch.Size([4, 3, 32, 32]) torch.Size([4])\n",
            "416 torch.Size([4, 3, 32, 32]) torch.Size([4])\n",
            "417 torch.Size([4, 3, 32, 32]) torch.Size([4])\n",
            "418 torch.Size([4, 3, 32, 32]) torch.Size([4])\n",
            "419 torch.Size([4, 3, 32, 32]) torch.Size([4])\n",
            "420 torch.Size([4, 3, 32, 32]) torch.Size([4])\n",
            "421 torch.Size([4, 3, 32, 32]) torch.Size([4])\n",
            "422 torch.Size([4, 3, 32, 32]) torch.Size([4])\n",
            "423 torch.Size([4, 3, 32, 32]) torch.Size([4])\n",
            "424 torch.Size([4, 3, 32, 32]) torch.Size([4])\n",
            "425 torch.Size([4, 3, 32, 32]) torch.Size([4])\n",
            "426 torch.Size([4, 3, 32, 32]) torch.Size([4])\n",
            "427 torch.Size([4, 3, 32, 32]) torch.Size([4])\n",
            "428 torch.Size([4, 3, 32, 32]) torch.Size([4])\n",
            "429 torch.Size([4, 3, 32, 32]) torch.Size([4])\n",
            "430 torch.Size([4, 3, 32, 32]) torch.Size([4])\n",
            "431 torch.Size([4, 3, 32, 32]) torch.Size([4])\n",
            "432 torch.Size([4, 3, 32, 32]) torch.Size([4])\n",
            "433 torch.Size([4, 3, 32, 32]) torch.Size([4])\n",
            "434 torch.Size([4, 3, 32, 32]) torch.Size([4])\n",
            "435 torch.Size([4, 3, 32, 32]) torch.Size([4])\n",
            "436 torch.Size([4, 3, 32, 32]) torch.Size([4])\n",
            "437 torch.Size([4, 3, 32, 32]) torch.Size([4])\n",
            "438 torch.Size([4, 3, 32, 32]) torch.Size([4])\n",
            "439 torch.Size([4, 3, 32, 32]) torch.Size([4])\n",
            "440 torch.Size([4, 3, 32, 32]) torch.Size([4])\n",
            "441 torch.Size([4, 3, 32, 32]) torch.Size([4])\n",
            "442 torch.Size([4, 3, 32, 32]) torch.Size([4])\n",
            "443 torch.Size([4, 3, 32, 32]) torch.Size([4])\n",
            "444 torch.Size([4, 3, 32, 32]) torch.Size([4])\n",
            "445 torch.Size([4, 3, 32, 32]) torch.Size([4])\n",
            "446 torch.Size([4, 3, 32, 32]) torch.Size([4])\n",
            "447 torch.Size([4, 3, 32, 32]) torch.Size([4])\n",
            "448 torch.Size([4, 3, 32, 32]) torch.Size([4])\n",
            "449 torch.Size([4, 3, 32, 32]) torch.Size([4])\n",
            "450 torch.Size([4, 3, 32, 32]) torch.Size([4])\n",
            "451 torch.Size([4, 3, 32, 32]) torch.Size([4])\n",
            "452 torch.Size([4, 3, 32, 32]) torch.Size([4])\n",
            "453 torch.Size([4, 3, 32, 32]) torch.Size([4])\n",
            "454 torch.Size([4, 3, 32, 32]) torch.Size([4])\n",
            "455 torch.Size([4, 3, 32, 32]) torch.Size([4])\n",
            "456 torch.Size([4, 3, 32, 32]) torch.Size([4])\n",
            "457 torch.Size([4, 3, 32, 32]) torch.Size([4])\n",
            "458 torch.Size([4, 3, 32, 32]) torch.Size([4])\n",
            "459 torch.Size([4, 3, 32, 32]) torch.Size([4])\n",
            "460 torch.Size([4, 3, 32, 32]) torch.Size([4])\n",
            "461 torch.Size([4, 3, 32, 32]) torch.Size([4])\n",
            "462 torch.Size([4, 3, 32, 32]) torch.Size([4])\n",
            "463 torch.Size([4, 3, 32, 32]) torch.Size([4])\n",
            "464 torch.Size([4, 3, 32, 32]) torch.Size([4])\n",
            "465 torch.Size([4, 3, 32, 32]) torch.Size([4])\n",
            "466 torch.Size([4, 3, 32, 32]) torch.Size([4])\n",
            "467 torch.Size([4, 3, 32, 32]) torch.Size([4])\n",
            "468 torch.Size([4, 3, 32, 32]) torch.Size([4])\n",
            "469 torch.Size([4, 3, 32, 32]) torch.Size([4])\n",
            "470 torch.Size([4, 3, 32, 32]) torch.Size([4])\n",
            "471 torch.Size([4, 3, 32, 32]) torch.Size([4])\n",
            "472 torch.Size([4, 3, 32, 32]) torch.Size([4])\n",
            "473 torch.Size([4, 3, 32, 32]) torch.Size([4])\n",
            "474 torch.Size([4, 3, 32, 32]) torch.Size([4])\n",
            "475 torch.Size([4, 3, 32, 32]) torch.Size([4])\n",
            "476 torch.Size([4, 3, 32, 32]) torch.Size([4])\n",
            "477 torch.Size([4, 3, 32, 32]) torch.Size([4])\n",
            "478 torch.Size([4, 3, 32, 32]) torch.Size([4])\n",
            "479 torch.Size([4, 3, 32, 32]) torch.Size([4])\n",
            "480 torch.Size([4, 3, 32, 32]) torch.Size([4])\n",
            "481 torch.Size([4, 3, 32, 32]) torch.Size([4])\n",
            "482 torch.Size([4, 3, 32, 32]) torch.Size([4])\n",
            "483 torch.Size([4, 3, 32, 32]) torch.Size([4])\n",
            "484 torch.Size([4, 3, 32, 32]) torch.Size([4])\n",
            "485 torch.Size([4, 3, 32, 32]) torch.Size([4])\n",
            "486 torch.Size([4, 3, 32, 32]) torch.Size([4])\n",
            "487 torch.Size([4, 3, 32, 32]) torch.Size([4])\n",
            "488 torch.Size([4, 3, 32, 32]) torch.Size([4])\n",
            "489 torch.Size([4, 3, 32, 32]) torch.Size([4])\n",
            "490 torch.Size([4, 3, 32, 32]) torch.Size([4])\n",
            "491 torch.Size([4, 3, 32, 32]) torch.Size([4])\n",
            "492 torch.Size([4, 3, 32, 32]) torch.Size([4])\n",
            "493 torch.Size([4, 3, 32, 32]) torch.Size([4])\n",
            "494 torch.Size([4, 3, 32, 32]) torch.Size([4])\n",
            "495 torch.Size([4, 3, 32, 32]) torch.Size([4])\n",
            "496 torch.Size([4, 3, 32, 32]) torch.Size([4])\n",
            "497 torch.Size([4, 3, 32, 32]) torch.Size([4])\n",
            "498 torch.Size([4, 3, 32, 32]) torch.Size([4])\n",
            "499 torch.Size([4, 3, 32, 32]) torch.Size([4])\n",
            "500 torch.Size([4, 3, 32, 32]) torch.Size([4])\n",
            "501 torch.Size([4, 3, 32, 32]) torch.Size([4])\n",
            "502 torch.Size([4, 3, 32, 32]) torch.Size([4])\n",
            "503 torch.Size([4, 3, 32, 32]) torch.Size([4])\n",
            "504 torch.Size([4, 3, 32, 32]) torch.Size([4])\n",
            "505 torch.Size([4, 3, 32, 32]) torch.Size([4])\n",
            "506 torch.Size([4, 3, 32, 32]) torch.Size([4])\n",
            "507 torch.Size([4, 3, 32, 32]) torch.Size([4])\n",
            "508 torch.Size([4, 3, 32, 32]) torch.Size([4])\n",
            "509 torch.Size([4, 3, 32, 32]) torch.Size([4])\n",
            "510 torch.Size([4, 3, 32, 32]) torch.Size([4])\n",
            "511 torch.Size([4, 3, 32, 32]) torch.Size([4])\n",
            "512 torch.Size([4, 3, 32, 32]) torch.Size([4])\n",
            "513 torch.Size([4, 3, 32, 32]) torch.Size([4])\n",
            "514 torch.Size([4, 3, 32, 32]) torch.Size([4])\n",
            "515 torch.Size([4, 3, 32, 32]) torch.Size([4])\n",
            "516 torch.Size([4, 3, 32, 32]) torch.Size([4])\n",
            "517 torch.Size([4, 3, 32, 32]) torch.Size([4])\n",
            "518 torch.Size([4, 3, 32, 32]) torch.Size([4])\n",
            "519 torch.Size([4, 3, 32, 32]) torch.Size([4])\n",
            "520 torch.Size([4, 3, 32, 32]) torch.Size([4])\n",
            "521 torch.Size([4, 3, 32, 32]) torch.Size([4])\n",
            "522 torch.Size([4, 3, 32, 32]) torch.Size([4])\n",
            "523 torch.Size([4, 3, 32, 32]) torch.Size([4])\n",
            "524 torch.Size([4, 3, 32, 32]) torch.Size([4])\n",
            "525 torch.Size([4, 3, 32, 32]) torch.Size([4])\n",
            "526 torch.Size([4, 3, 32, 32]) torch.Size([4])\n",
            "527 torch.Size([4, 3, 32, 32]) torch.Size([4])\n",
            "528 torch.Size([4, 3, 32, 32]) torch.Size([4])\n",
            "529 torch.Size([4, 3, 32, 32]) torch.Size([4])\n",
            "530 torch.Size([4, 3, 32, 32]) torch.Size([4])\n",
            "531 torch.Size([4, 3, 32, 32]) torch.Size([4])\n",
            "532 torch.Size([4, 3, 32, 32]) torch.Size([4])\n",
            "533 torch.Size([4, 3, 32, 32]) torch.Size([4])\n",
            "534 torch.Size([4, 3, 32, 32]) torch.Size([4])\n",
            "535 torch.Size([4, 3, 32, 32]) torch.Size([4])\n",
            "536 torch.Size([4, 3, 32, 32]) torch.Size([4])\n",
            "537 torch.Size([4, 3, 32, 32]) torch.Size([4])\n",
            "538 torch.Size([4, 3, 32, 32]) torch.Size([4])\n",
            "539 torch.Size([4, 3, 32, 32]) torch.Size([4])\n",
            "540 torch.Size([4, 3, 32, 32]) torch.Size([4])\n",
            "541 torch.Size([4, 3, 32, 32]) torch.Size([4])\n",
            "542 torch.Size([4, 3, 32, 32]) torch.Size([4])\n",
            "543 torch.Size([4, 3, 32, 32]) torch.Size([4])\n",
            "544 torch.Size([4, 3, 32, 32]) torch.Size([4])\n",
            "545 torch.Size([4, 3, 32, 32]) torch.Size([4])\n",
            "546 torch.Size([4, 3, 32, 32]) torch.Size([4])\n",
            "547 torch.Size([4, 3, 32, 32]) torch.Size([4])\n",
            "548 torch.Size([4, 3, 32, 32]) torch.Size([4])\n",
            "549 torch.Size([4, 3, 32, 32]) torch.Size([4])\n",
            "550 torch.Size([4, 3, 32, 32]) torch.Size([4])\n",
            "551 torch.Size([4, 3, 32, 32]) torch.Size([4])\n",
            "552 torch.Size([4, 3, 32, 32]) torch.Size([4])\n",
            "553 torch.Size([4, 3, 32, 32]) torch.Size([4])\n",
            "554 torch.Size([4, 3, 32, 32]) torch.Size([4])\n",
            "555 torch.Size([4, 3, 32, 32]) torch.Size([4])\n",
            "556 torch.Size([4, 3, 32, 32]) torch.Size([4])\n",
            "557 torch.Size([4, 3, 32, 32]) torch.Size([4])\n",
            "558 torch.Size([4, 3, 32, 32]) torch.Size([4])\n",
            "559 torch.Size([4, 3, 32, 32]) torch.Size([4])\n",
            "560 torch.Size([4, 3, 32, 32]) torch.Size([4])\n",
            "561 torch.Size([4, 3, 32, 32]) torch.Size([4])\n",
            "562 torch.Size([4, 3, 32, 32]) torch.Size([4])\n",
            "563 torch.Size([4, 3, 32, 32]) torch.Size([4])\n",
            "564 torch.Size([4, 3, 32, 32]) torch.Size([4])\n",
            "565 torch.Size([4, 3, 32, 32]) torch.Size([4])\n",
            "566 torch.Size([4, 3, 32, 32]) torch.Size([4])\n",
            "567 torch.Size([4, 3, 32, 32]) torch.Size([4])\n",
            "568 torch.Size([4, 3, 32, 32]) torch.Size([4])\n",
            "569 torch.Size([4, 3, 32, 32]) torch.Size([4])\n",
            "570 torch.Size([4, 3, 32, 32]) torch.Size([4])\n",
            "571 torch.Size([4, 3, 32, 32]) torch.Size([4])\n",
            "572 torch.Size([4, 3, 32, 32]) torch.Size([4])\n",
            "573 torch.Size([4, 3, 32, 32]) torch.Size([4])\n",
            "574 torch.Size([4, 3, 32, 32]) torch.Size([4])\n",
            "575 torch.Size([4, 3, 32, 32]) torch.Size([4])\n",
            "576 torch.Size([4, 3, 32, 32]) torch.Size([4])\n",
            "577 torch.Size([4, 3, 32, 32]) torch.Size([4])\n",
            "578 torch.Size([4, 3, 32, 32]) torch.Size([4])\n",
            "579 torch.Size([4, 3, 32, 32]) torch.Size([4])\n",
            "580 torch.Size([4, 3, 32, 32]) torch.Size([4])\n",
            "581 torch.Size([4, 3, 32, 32]) torch.Size([4])\n",
            "582 torch.Size([4, 3, 32, 32]) torch.Size([4])\n",
            "583 torch.Size([4, 3, 32, 32]) torch.Size([4])\n",
            "584 torch.Size([4, 3, 32, 32]) torch.Size([4])\n",
            "585 torch.Size([4, 3, 32, 32]) torch.Size([4])\n",
            "586 torch.Size([4, 3, 32, 32]) torch.Size([4])\n",
            "587 torch.Size([4, 3, 32, 32]) torch.Size([4])\n",
            "588 torch.Size([4, 3, 32, 32]) torch.Size([4])\n",
            "589 torch.Size([4, 3, 32, 32]) torch.Size([4])\n",
            "590 torch.Size([4, 3, 32, 32]) torch.Size([4])\n",
            "591 torch.Size([4, 3, 32, 32]) torch.Size([4])\n",
            "592 torch.Size([4, 3, 32, 32]) torch.Size([4])\n",
            "593 torch.Size([4, 3, 32, 32]) torch.Size([4])\n",
            "594 torch.Size([4, 3, 32, 32]) torch.Size([4])\n",
            "595 torch.Size([4, 3, 32, 32]) torch.Size([4])\n",
            "596 torch.Size([4, 3, 32, 32]) torch.Size([4])\n",
            "597 torch.Size([4, 3, 32, 32]) torch.Size([4])\n",
            "598 torch.Size([4, 3, 32, 32]) torch.Size([4])\n",
            "599 torch.Size([4, 3, 32, 32]) torch.Size([4])\n",
            "600 torch.Size([4, 3, 32, 32]) torch.Size([4])\n",
            "601 torch.Size([4, 3, 32, 32]) torch.Size([4])\n",
            "602 torch.Size([4, 3, 32, 32]) torch.Size([4])\n",
            "603 torch.Size([4, 3, 32, 32]) torch.Size([4])\n",
            "604 torch.Size([4, 3, 32, 32]) torch.Size([4])\n",
            "605 torch.Size([4, 3, 32, 32]) torch.Size([4])\n",
            "606 torch.Size([4, 3, 32, 32]) torch.Size([4])\n",
            "607 torch.Size([4, 3, 32, 32]) torch.Size([4])\n",
            "608 torch.Size([4, 3, 32, 32]) torch.Size([4])\n",
            "609 torch.Size([4, 3, 32, 32]) torch.Size([4])\n",
            "610 torch.Size([4, 3, 32, 32]) torch.Size([4])\n",
            "611 torch.Size([4, 3, 32, 32]) torch.Size([4])\n",
            "612 torch.Size([4, 3, 32, 32]) torch.Size([4])\n",
            "613 torch.Size([4, 3, 32, 32]) torch.Size([4])\n",
            "614 torch.Size([4, 3, 32, 32]) torch.Size([4])\n",
            "615 torch.Size([4, 3, 32, 32]) torch.Size([4])\n",
            "616 torch.Size([4, 3, 32, 32]) torch.Size([4])\n",
            "617 torch.Size([4, 3, 32, 32]) torch.Size([4])\n",
            "618 torch.Size([4, 3, 32, 32]) torch.Size([4])\n",
            "619 torch.Size([4, 3, 32, 32]) torch.Size([4])\n",
            "620 torch.Size([4, 3, 32, 32]) torch.Size([4])\n",
            "621 torch.Size([4, 3, 32, 32]) torch.Size([4])\n",
            "622 torch.Size([4, 3, 32, 32]) torch.Size([4])\n",
            "623 torch.Size([4, 3, 32, 32]) torch.Size([4])\n",
            "624 torch.Size([4, 3, 32, 32]) torch.Size([4])\n",
            "625 torch.Size([4, 3, 32, 32]) torch.Size([4])\n",
            "626 torch.Size([4, 3, 32, 32]) torch.Size([4])\n",
            "627 torch.Size([4, 3, 32, 32]) torch.Size([4])\n",
            "628 torch.Size([4, 3, 32, 32]) torch.Size([4])\n",
            "629 torch.Size([4, 3, 32, 32]) torch.Size([4])\n",
            "630 torch.Size([4, 3, 32, 32]) torch.Size([4])\n",
            "631 torch.Size([4, 3, 32, 32]) torch.Size([4])\n",
            "632 torch.Size([4, 3, 32, 32]) torch.Size([4])\n",
            "633 torch.Size([4, 3, 32, 32]) torch.Size([4])\n",
            "634 torch.Size([4, 3, 32, 32]) torch.Size([4])\n",
            "635 torch.Size([4, 3, 32, 32]) torch.Size([4])\n",
            "636 torch.Size([4, 3, 32, 32]) torch.Size([4])\n",
            "637 torch.Size([4, 3, 32, 32]) torch.Size([4])\n",
            "638 torch.Size([4, 3, 32, 32]) torch.Size([4])\n",
            "639 torch.Size([4, 3, 32, 32]) torch.Size([4])\n",
            "640 torch.Size([4, 3, 32, 32]) torch.Size([4])\n",
            "641 torch.Size([4, 3, 32, 32]) torch.Size([4])\n",
            "642 torch.Size([4, 3, 32, 32]) torch.Size([4])\n",
            "643 torch.Size([4, 3, 32, 32]) torch.Size([4])\n",
            "644 torch.Size([4, 3, 32, 32]) torch.Size([4])\n",
            "645 torch.Size([4, 3, 32, 32]) torch.Size([4])\n",
            "646 torch.Size([4, 3, 32, 32]) torch.Size([4])\n",
            "647 torch.Size([4, 3, 32, 32]) torch.Size([4])\n",
            "648 torch.Size([4, 3, 32, 32]) torch.Size([4])\n",
            "649 torch.Size([4, 3, 32, 32]) torch.Size([4])\n",
            "650 torch.Size([4, 3, 32, 32]) torch.Size([4])\n",
            "651 torch.Size([4, 3, 32, 32]) torch.Size([4])\n",
            "652 torch.Size([4, 3, 32, 32]) torch.Size([4])\n",
            "653 torch.Size([4, 3, 32, 32]) torch.Size([4])\n",
            "654 torch.Size([4, 3, 32, 32]) torch.Size([4])\n",
            "655 torch.Size([4, 3, 32, 32]) torch.Size([4])\n",
            "656 torch.Size([4, 3, 32, 32]) torch.Size([4])\n",
            "657 torch.Size([4, 3, 32, 32]) torch.Size([4])\n",
            "658 torch.Size([4, 3, 32, 32]) torch.Size([4])\n",
            "659 torch.Size([4, 3, 32, 32]) torch.Size([4])\n",
            "660 torch.Size([4, 3, 32, 32]) torch.Size([4])\n",
            "661 torch.Size([4, 3, 32, 32]) torch.Size([4])\n",
            "662 torch.Size([4, 3, 32, 32]) torch.Size([4])\n",
            "663 torch.Size([4, 3, 32, 32]) torch.Size([4])\n",
            "664 torch.Size([4, 3, 32, 32]) torch.Size([4])\n",
            "665 torch.Size([4, 3, 32, 32]) torch.Size([4])\n",
            "666 torch.Size([4, 3, 32, 32]) torch.Size([4])\n",
            "667 torch.Size([4, 3, 32, 32]) torch.Size([4])\n",
            "668 torch.Size([4, 3, 32, 32]) torch.Size([4])\n",
            "669 torch.Size([4, 3, 32, 32]) torch.Size([4])\n",
            "670 torch.Size([4, 3, 32, 32]) torch.Size([4])\n",
            "671 torch.Size([4, 3, 32, 32]) torch.Size([4])\n",
            "672 torch.Size([4, 3, 32, 32]) torch.Size([4])\n",
            "673 torch.Size([4, 3, 32, 32]) torch.Size([4])\n",
            "674 torch.Size([4, 3, 32, 32]) torch.Size([4])\n",
            "675 torch.Size([4, 3, 32, 32]) torch.Size([4])\n",
            "676 torch.Size([4, 3, 32, 32]) torch.Size([4])\n",
            "677 torch.Size([4, 3, 32, 32]) torch.Size([4])\n",
            "678 torch.Size([4, 3, 32, 32]) torch.Size([4])\n",
            "679 torch.Size([4, 3, 32, 32]) torch.Size([4])\n",
            "680 torch.Size([4, 3, 32, 32]) torch.Size([4])\n",
            "681 torch.Size([4, 3, 32, 32]) torch.Size([4])\n",
            "682 torch.Size([4, 3, 32, 32]) torch.Size([4])\n",
            "683 torch.Size([4, 3, 32, 32]) torch.Size([4])\n",
            "684 torch.Size([4, 3, 32, 32]) torch.Size([4])\n",
            "685 torch.Size([4, 3, 32, 32]) torch.Size([4])\n",
            "686 torch.Size([4, 3, 32, 32]) torch.Size([4])\n",
            "687 torch.Size([4, 3, 32, 32]) torch.Size([4])\n",
            "688 torch.Size([4, 3, 32, 32]) torch.Size([4])\n",
            "689 torch.Size([4, 3, 32, 32]) torch.Size([4])\n",
            "690 torch.Size([4, 3, 32, 32]) torch.Size([4])\n",
            "691 torch.Size([4, 3, 32, 32]) torch.Size([4])\n",
            "692 torch.Size([4, 3, 32, 32]) torch.Size([4])\n",
            "693 torch.Size([4, 3, 32, 32]) torch.Size([4])\n",
            "694 torch.Size([4, 3, 32, 32]) torch.Size([4])\n",
            "695 torch.Size([4, 3, 32, 32]) torch.Size([4])\n",
            "696 torch.Size([4, 3, 32, 32]) torch.Size([4])\n",
            "697 torch.Size([4, 3, 32, 32]) torch.Size([4])\n",
            "698 torch.Size([4, 3, 32, 32]) torch.Size([4])\n",
            "699 torch.Size([4, 3, 32, 32]) torch.Size([4])\n",
            "700 torch.Size([4, 3, 32, 32]) torch.Size([4])\n",
            "701 torch.Size([4, 3, 32, 32]) torch.Size([4])\n",
            "702 torch.Size([4, 3, 32, 32]) torch.Size([4])\n",
            "703 torch.Size([4, 3, 32, 32]) torch.Size([4])\n",
            "704 torch.Size([4, 3, 32, 32]) torch.Size([4])\n",
            "705 torch.Size([4, 3, 32, 32]) torch.Size([4])\n",
            "706 torch.Size([4, 3, 32, 32]) torch.Size([4])\n",
            "707 torch.Size([4, 3, 32, 32]) torch.Size([4])\n",
            "708 torch.Size([4, 3, 32, 32]) torch.Size([4])\n",
            "709 torch.Size([4, 3, 32, 32]) torch.Size([4])\n",
            "710 torch.Size([4, 3, 32, 32]) torch.Size([4])\n",
            "711 torch.Size([4, 3, 32, 32]) torch.Size([4])\n",
            "712 torch.Size([4, 3, 32, 32]) torch.Size([4])\n",
            "713 torch.Size([4, 3, 32, 32]) torch.Size([4])\n",
            "714 torch.Size([4, 3, 32, 32]) torch.Size([4])\n",
            "715 torch.Size([4, 3, 32, 32]) torch.Size([4])\n",
            "716 torch.Size([4, 3, 32, 32]) torch.Size([4])\n",
            "717 torch.Size([4, 3, 32, 32]) torch.Size([4])\n",
            "718 torch.Size([4, 3, 32, 32]) torch.Size([4])\n",
            "719 torch.Size([4, 3, 32, 32]) torch.Size([4])\n",
            "720 torch.Size([4, 3, 32, 32]) torch.Size([4])\n",
            "721 torch.Size([4, 3, 32, 32]) torch.Size([4])\n",
            "722 torch.Size([4, 3, 32, 32]) torch.Size([4])\n",
            "723 torch.Size([4, 3, 32, 32]) torch.Size([4])\n",
            "724 torch.Size([4, 3, 32, 32]) torch.Size([4])\n",
            "725 torch.Size([4, 3, 32, 32]) torch.Size([4])\n",
            "726 torch.Size([4, 3, 32, 32]) torch.Size([4])\n",
            "727 torch.Size([4, 3, 32, 32]) torch.Size([4])\n",
            "728 torch.Size([4, 3, 32, 32]) torch.Size([4])\n",
            "729 torch.Size([4, 3, 32, 32]) torch.Size([4])\n",
            "730 torch.Size([4, 3, 32, 32]) torch.Size([4])\n",
            "731 torch.Size([4, 3, 32, 32]) torch.Size([4])\n",
            "732 torch.Size([4, 3, 32, 32]) torch.Size([4])\n",
            "733 torch.Size([4, 3, 32, 32]) torch.Size([4])\n",
            "734 torch.Size([4, 3, 32, 32]) torch.Size([4])\n",
            "735 torch.Size([4, 3, 32, 32]) torch.Size([4])\n",
            "736 torch.Size([4, 3, 32, 32]) torch.Size([4])\n",
            "737 torch.Size([4, 3, 32, 32]) torch.Size([4])\n",
            "738 torch.Size([4, 3, 32, 32]) torch.Size([4])\n",
            "739 torch.Size([4, 3, 32, 32]) torch.Size([4])\n",
            "740 torch.Size([4, 3, 32, 32]) torch.Size([4])\n",
            "741 torch.Size([4, 3, 32, 32]) torch.Size([4])\n",
            "742 torch.Size([4, 3, 32, 32]) torch.Size([4])\n",
            "743 torch.Size([4, 3, 32, 32]) torch.Size([4])\n",
            "744 torch.Size([4, 3, 32, 32]) torch.Size([4])\n",
            "745 torch.Size([4, 3, 32, 32]) torch.Size([4])\n",
            "746 torch.Size([4, 3, 32, 32]) torch.Size([4])\n",
            "747 torch.Size([4, 3, 32, 32]) torch.Size([4])\n",
            "748 torch.Size([4, 3, 32, 32]) torch.Size([4])\n",
            "749 torch.Size([4, 3, 32, 32]) torch.Size([4])\n",
            "750 torch.Size([4, 3, 32, 32]) torch.Size([4])\n",
            "751 torch.Size([4, 3, 32, 32]) torch.Size([4])\n",
            "752 torch.Size([4, 3, 32, 32]) torch.Size([4])\n",
            "753 torch.Size([4, 3, 32, 32]) torch.Size([4])\n",
            "754 torch.Size([4, 3, 32, 32]) torch.Size([4])\n",
            "755 torch.Size([4, 3, 32, 32]) torch.Size([4])\n",
            "756 torch.Size([4, 3, 32, 32]) torch.Size([4])\n",
            "757 torch.Size([4, 3, 32, 32]) torch.Size([4])\n",
            "758 torch.Size([4, 3, 32, 32]) torch.Size([4])\n",
            "759 torch.Size([4, 3, 32, 32]) torch.Size([4])\n",
            "760 torch.Size([4, 3, 32, 32]) torch.Size([4])\n",
            "761 torch.Size([4, 3, 32, 32]) torch.Size([4])\n",
            "762 torch.Size([4, 3, 32, 32]) torch.Size([4])\n",
            "763 torch.Size([4, 3, 32, 32]) torch.Size([4])\n",
            "764 torch.Size([4, 3, 32, 32]) torch.Size([4])\n",
            "765 torch.Size([4, 3, 32, 32]) torch.Size([4])\n",
            "766 torch.Size([4, 3, 32, 32]) torch.Size([4])\n",
            "767 torch.Size([4, 3, 32, 32]) torch.Size([4])\n",
            "768 torch.Size([4, 3, 32, 32]) torch.Size([4])\n",
            "769 torch.Size([4, 3, 32, 32]) torch.Size([4])\n",
            "770 torch.Size([4, 3, 32, 32]) torch.Size([4])\n",
            "771 torch.Size([4, 3, 32, 32]) torch.Size([4])\n",
            "772 torch.Size([4, 3, 32, 32]) torch.Size([4])\n",
            "773 torch.Size([4, 3, 32, 32]) torch.Size([4])\n",
            "774 torch.Size([4, 3, 32, 32]) torch.Size([4])\n",
            "775 torch.Size([4, 3, 32, 32]) torch.Size([4])\n",
            "776 torch.Size([4, 3, 32, 32]) torch.Size([4])\n",
            "777 torch.Size([4, 3, 32, 32]) torch.Size([4])\n",
            "778 torch.Size([4, 3, 32, 32]) torch.Size([4])\n",
            "779 torch.Size([4, 3, 32, 32]) torch.Size([4])\n",
            "780 torch.Size([4, 3, 32, 32]) torch.Size([4])\n",
            "781 torch.Size([4, 3, 32, 32]) torch.Size([4])\n",
            "782 torch.Size([4, 3, 32, 32]) torch.Size([4])\n",
            "783 torch.Size([4, 3, 32, 32]) torch.Size([4])\n",
            "784 torch.Size([4, 3, 32, 32]) torch.Size([4])\n",
            "785 torch.Size([4, 3, 32, 32]) torch.Size([4])\n",
            "786 torch.Size([4, 3, 32, 32]) torch.Size([4])\n",
            "787 torch.Size([4, 3, 32, 32]) torch.Size([4])\n",
            "788 torch.Size([4, 3, 32, 32]) torch.Size([4])\n",
            "789 torch.Size([4, 3, 32, 32]) torch.Size([4])\n",
            "790 torch.Size([4, 3, 32, 32]) torch.Size([4])\n",
            "791 torch.Size([4, 3, 32, 32]) torch.Size([4])\n",
            "792 torch.Size([4, 3, 32, 32]) torch.Size([4])\n",
            "793 torch.Size([4, 3, 32, 32]) torch.Size([4])\n",
            "794 torch.Size([4, 3, 32, 32]) torch.Size([4])\n",
            "795 torch.Size([4, 3, 32, 32]) torch.Size([4])\n",
            "796 torch.Size([4, 3, 32, 32]) torch.Size([4])\n",
            "797 torch.Size([4, 3, 32, 32]) torch.Size([4])\n",
            "798 torch.Size([4, 3, 32, 32]) torch.Size([4])\n",
            "799 torch.Size([4, 3, 32, 32]) torch.Size([4])\n",
            "800 torch.Size([4, 3, 32, 32]) torch.Size([4])\n",
            "801 torch.Size([4, 3, 32, 32]) torch.Size([4])\n",
            "802 torch.Size([4, 3, 32, 32]) torch.Size([4])\n",
            "803 torch.Size([4, 3, 32, 32]) torch.Size([4])\n",
            "804 torch.Size([4, 3, 32, 32]) torch.Size([4])\n",
            "805 torch.Size([4, 3, 32, 32]) torch.Size([4])\n",
            "806 torch.Size([4, 3, 32, 32]) torch.Size([4])\n",
            "807 torch.Size([4, 3, 32, 32]) torch.Size([4])\n",
            "808 torch.Size([4, 3, 32, 32]) torch.Size([4])\n",
            "809 torch.Size([4, 3, 32, 32]) torch.Size([4])\n",
            "810 torch.Size([4, 3, 32, 32]) torch.Size([4])\n",
            "811 torch.Size([4, 3, 32, 32]) torch.Size([4])\n",
            "812 torch.Size([4, 3, 32, 32]) torch.Size([4])\n",
            "813 torch.Size([4, 3, 32, 32]) torch.Size([4])\n",
            "814 torch.Size([4, 3, 32, 32]) torch.Size([4])\n",
            "815 torch.Size([4, 3, 32, 32]) torch.Size([4])\n",
            "816 torch.Size([4, 3, 32, 32]) torch.Size([4])\n",
            "817 torch.Size([4, 3, 32, 32]) torch.Size([4])\n",
            "818 torch.Size([4, 3, 32, 32]) torch.Size([4])\n",
            "819 torch.Size([4, 3, 32, 32]) torch.Size([4])\n",
            "820 torch.Size([4, 3, 32, 32]) torch.Size([4])\n",
            "821 torch.Size([4, 3, 32, 32]) torch.Size([4])\n",
            "822 torch.Size([4, 3, 32, 32]) torch.Size([4])\n",
            "823 torch.Size([4, 3, 32, 32]) torch.Size([4])\n",
            "824 torch.Size([4, 3, 32, 32]) torch.Size([4])\n",
            "825 torch.Size([4, 3, 32, 32]) torch.Size([4])\n",
            "826 torch.Size([4, 3, 32, 32]) torch.Size([4])\n",
            "827 torch.Size([4, 3, 32, 32]) torch.Size([4])\n",
            "828 torch.Size([4, 3, 32, 32]) torch.Size([4])\n",
            "829 torch.Size([4, 3, 32, 32]) torch.Size([4])\n",
            "830 torch.Size([4, 3, 32, 32]) torch.Size([4])\n",
            "831 torch.Size([4, 3, 32, 32]) torch.Size([4])\n",
            "832 torch.Size([4, 3, 32, 32]) torch.Size([4])\n",
            "833 torch.Size([4, 3, 32, 32]) torch.Size([4])\n",
            "834 torch.Size([4, 3, 32, 32]) torch.Size([4])\n",
            "835 torch.Size([4, 3, 32, 32]) torch.Size([4])\n",
            "836 torch.Size([4, 3, 32, 32]) torch.Size([4])\n",
            "837 torch.Size([4, 3, 32, 32]) torch.Size([4])\n",
            "838 torch.Size([4, 3, 32, 32]) torch.Size([4])\n",
            "839 torch.Size([4, 3, 32, 32]) torch.Size([4])\n",
            "840 torch.Size([4, 3, 32, 32]) torch.Size([4])\n",
            "841 torch.Size([4, 3, 32, 32]) torch.Size([4])\n",
            "842 torch.Size([4, 3, 32, 32]) torch.Size([4])\n",
            "843 torch.Size([4, 3, 32, 32]) torch.Size([4])\n",
            "844 torch.Size([4, 3, 32, 32]) torch.Size([4])\n",
            "845 torch.Size([4, 3, 32, 32]) torch.Size([4])\n",
            "846 torch.Size([4, 3, 32, 32]) torch.Size([4])\n",
            "847 torch.Size([4, 3, 32, 32]) torch.Size([4])\n",
            "848 torch.Size([4, 3, 32, 32]) torch.Size([4])\n",
            "849 torch.Size([4, 3, 32, 32]) torch.Size([4])\n",
            "850 torch.Size([4, 3, 32, 32]) torch.Size([4])\n",
            "851 torch.Size([4, 3, 32, 32]) torch.Size([4])\n",
            "852 torch.Size([4, 3, 32, 32]) torch.Size([4])\n",
            "853 torch.Size([4, 3, 32, 32]) torch.Size([4])\n",
            "854 torch.Size([4, 3, 32, 32]) torch.Size([4])\n",
            "855 torch.Size([4, 3, 32, 32]) torch.Size([4])\n",
            "856 torch.Size([4, 3, 32, 32]) torch.Size([4])\n",
            "857 torch.Size([4, 3, 32, 32]) torch.Size([4])\n",
            "858 torch.Size([4, 3, 32, 32]) torch.Size([4])\n",
            "859 torch.Size([4, 3, 32, 32]) torch.Size([4])\n",
            "860 torch.Size([4, 3, 32, 32]) torch.Size([4])\n",
            "861 torch.Size([4, 3, 32, 32]) torch.Size([4])\n",
            "862 torch.Size([4, 3, 32, 32]) torch.Size([4])\n",
            "863 torch.Size([4, 3, 32, 32]) torch.Size([4])\n",
            "864 torch.Size([4, 3, 32, 32]) torch.Size([4])\n",
            "865 torch.Size([4, 3, 32, 32]) torch.Size([4])\n",
            "866 torch.Size([4, 3, 32, 32]) torch.Size([4])\n",
            "867 torch.Size([4, 3, 32, 32]) torch.Size([4])\n",
            "868 torch.Size([4, 3, 32, 32]) torch.Size([4])\n",
            "869 torch.Size([4, 3, 32, 32]) torch.Size([4])\n",
            "870 torch.Size([4, 3, 32, 32]) torch.Size([4])\n",
            "871 torch.Size([4, 3, 32, 32]) torch.Size([4])\n",
            "872 torch.Size([4, 3, 32, 32]) torch.Size([4])\n",
            "873 torch.Size([4, 3, 32, 32]) torch.Size([4])\n",
            "874 torch.Size([4, 3, 32, 32]) torch.Size([4])\n",
            "875 torch.Size([4, 3, 32, 32]) torch.Size([4])\n",
            "876 torch.Size([4, 3, 32, 32]) torch.Size([4])\n",
            "877 torch.Size([4, 3, 32, 32]) torch.Size([4])\n",
            "878 torch.Size([4, 3, 32, 32]) torch.Size([4])\n",
            "879 torch.Size([4, 3, 32, 32]) torch.Size([4])\n",
            "880 torch.Size([4, 3, 32, 32]) torch.Size([4])\n",
            "881 torch.Size([4, 3, 32, 32]) torch.Size([4])\n",
            "882 torch.Size([4, 3, 32, 32]) torch.Size([4])\n",
            "883 torch.Size([4, 3, 32, 32]) torch.Size([4])\n",
            "884 torch.Size([4, 3, 32, 32]) torch.Size([4])\n",
            "885 torch.Size([4, 3, 32, 32]) torch.Size([4])\n",
            "886 torch.Size([4, 3, 32, 32]) torch.Size([4])\n",
            "887 torch.Size([4, 3, 32, 32]) torch.Size([4])\n",
            "888 torch.Size([4, 3, 32, 32]) torch.Size([4])\n",
            "889 torch.Size([4, 3, 32, 32]) torch.Size([4])\n",
            "890 torch.Size([4, 3, 32, 32]) torch.Size([4])\n",
            "891 torch.Size([4, 3, 32, 32]) torch.Size([4])\n",
            "892 torch.Size([4, 3, 32, 32]) torch.Size([4])\n",
            "893 torch.Size([4, 3, 32, 32]) torch.Size([4])\n",
            "894 torch.Size([4, 3, 32, 32]) torch.Size([4])\n",
            "895 torch.Size([4, 3, 32, 32]) torch.Size([4])\n",
            "896 torch.Size([4, 3, 32, 32]) torch.Size([4])\n",
            "897 torch.Size([4, 3, 32, 32]) torch.Size([4])\n",
            "898 torch.Size([4, 3, 32, 32]) torch.Size([4])\n",
            "899 torch.Size([4, 3, 32, 32]) torch.Size([4])\n",
            "900 torch.Size([4, 3, 32, 32]) torch.Size([4])\n",
            "901 torch.Size([4, 3, 32, 32]) torch.Size([4])\n",
            "902 torch.Size([4, 3, 32, 32]) torch.Size([4])\n",
            "903 torch.Size([4, 3, 32, 32]) torch.Size([4])\n",
            "904 torch.Size([4, 3, 32, 32]) torch.Size([4])\n",
            "905 torch.Size([4, 3, 32, 32]) torch.Size([4])\n",
            "906 torch.Size([4, 3, 32, 32]) torch.Size([4])\n",
            "907 torch.Size([4, 3, 32, 32]) torch.Size([4])\n",
            "908 torch.Size([4, 3, 32, 32]) torch.Size([4])\n",
            "909 torch.Size([4, 3, 32, 32]) torch.Size([4])\n",
            "910 torch.Size([4, 3, 32, 32]) torch.Size([4])\n",
            "911 torch.Size([4, 3, 32, 32]) torch.Size([4])\n",
            "912 torch.Size([4, 3, 32, 32]) torch.Size([4])\n",
            "913 torch.Size([4, 3, 32, 32]) torch.Size([4])\n",
            "914 torch.Size([4, 3, 32, 32]) torch.Size([4])\n",
            "915 torch.Size([4, 3, 32, 32]) torch.Size([4])\n",
            "916 torch.Size([4, 3, 32, 32]) torch.Size([4])\n",
            "917 torch.Size([4, 3, 32, 32]) torch.Size([4])\n",
            "918 torch.Size([4, 3, 32, 32]) torch.Size([4])\n",
            "919 torch.Size([4, 3, 32, 32]) torch.Size([4])\n",
            "920 torch.Size([4, 3, 32, 32]) torch.Size([4])\n",
            "921 torch.Size([4, 3, 32, 32]) torch.Size([4])\n",
            "922 torch.Size([4, 3, 32, 32]) torch.Size([4])\n",
            "923 torch.Size([4, 3, 32, 32]) torch.Size([4])\n",
            "924 torch.Size([4, 3, 32, 32]) torch.Size([4])\n",
            "925 torch.Size([4, 3, 32, 32]) torch.Size([4])\n",
            "926 torch.Size([4, 3, 32, 32]) torch.Size([4])\n",
            "927 torch.Size([4, 3, 32, 32]) torch.Size([4])\n",
            "928 torch.Size([4, 3, 32, 32]) torch.Size([4])\n",
            "929 torch.Size([4, 3, 32, 32]) torch.Size([4])\n",
            "930 torch.Size([4, 3, 32, 32]) torch.Size([4])\n",
            "931 torch.Size([4, 3, 32, 32]) torch.Size([4])\n",
            "932 torch.Size([4, 3, 32, 32]) torch.Size([4])\n",
            "933 torch.Size([4, 3, 32, 32]) torch.Size([4])\n",
            "934 torch.Size([4, 3, 32, 32]) torch.Size([4])\n",
            "935 torch.Size([4, 3, 32, 32]) torch.Size([4])\n",
            "936 torch.Size([4, 3, 32, 32]) torch.Size([4])\n",
            "937 torch.Size([4, 3, 32, 32]) torch.Size([4])\n",
            "938 torch.Size([4, 3, 32, 32]) torch.Size([4])\n",
            "939 torch.Size([4, 3, 32, 32]) torch.Size([4])\n",
            "940 torch.Size([4, 3, 32, 32]) torch.Size([4])\n",
            "941 torch.Size([4, 3, 32, 32]) torch.Size([4])\n",
            "942 torch.Size([4, 3, 32, 32]) torch.Size([4])\n",
            "943 torch.Size([4, 3, 32, 32]) torch.Size([4])\n",
            "944 torch.Size([4, 3, 32, 32]) torch.Size([4])\n",
            "945 torch.Size([4, 3, 32, 32]) torch.Size([4])\n",
            "946 torch.Size([4, 3, 32, 32]) torch.Size([4])\n",
            "947 torch.Size([4, 3, 32, 32]) torch.Size([4])\n",
            "948 torch.Size([4, 3, 32, 32]) torch.Size([4])\n",
            "949 torch.Size([4, 3, 32, 32]) torch.Size([4])\n",
            "950 torch.Size([4, 3, 32, 32]) torch.Size([4])\n",
            "951 torch.Size([4, 3, 32, 32]) torch.Size([4])\n",
            "952 torch.Size([4, 3, 32, 32]) torch.Size([4])\n",
            "953 torch.Size([4, 3, 32, 32]) torch.Size([4])\n",
            "954 torch.Size([4, 3, 32, 32]) torch.Size([4])\n",
            "955 torch.Size([4, 3, 32, 32]) torch.Size([4])\n",
            "956 torch.Size([4, 3, 32, 32]) torch.Size([4])\n",
            "957 torch.Size([4, 3, 32, 32]) torch.Size([4])\n",
            "958 torch.Size([4, 3, 32, 32]) torch.Size([4])\n",
            "959 torch.Size([4, 3, 32, 32]) torch.Size([4])\n",
            "960 torch.Size([4, 3, 32, 32]) torch.Size([4])\n",
            "961 torch.Size([4, 3, 32, 32]) torch.Size([4])\n",
            "962 torch.Size([4, 3, 32, 32]) torch.Size([4])\n",
            "963 torch.Size([4, 3, 32, 32]) torch.Size([4])\n",
            "964 torch.Size([4, 3, 32, 32]) torch.Size([4])\n",
            "965 torch.Size([4, 3, 32, 32]) torch.Size([4])\n",
            "966 torch.Size([4, 3, 32, 32]) torch.Size([4])\n",
            "967 torch.Size([4, 3, 32, 32]) torch.Size([4])\n",
            "968 torch.Size([4, 3, 32, 32]) torch.Size([4])\n",
            "969 torch.Size([4, 3, 32, 32]) torch.Size([4])\n",
            "970 torch.Size([4, 3, 32, 32]) torch.Size([4])\n",
            "971 torch.Size([4, 3, 32, 32]) torch.Size([4])\n",
            "972 torch.Size([4, 3, 32, 32]) torch.Size([4])\n",
            "973 torch.Size([4, 3, 32, 32]) torch.Size([4])\n",
            "974 torch.Size([4, 3, 32, 32]) torch.Size([4])\n",
            "975 torch.Size([4, 3, 32, 32]) torch.Size([4])\n",
            "976 torch.Size([4, 3, 32, 32]) torch.Size([4])\n",
            "977 torch.Size([4, 3, 32, 32]) torch.Size([4])\n",
            "978 torch.Size([4, 3, 32, 32]) torch.Size([4])\n",
            "979 torch.Size([4, 3, 32, 32]) torch.Size([4])\n",
            "980 torch.Size([4, 3, 32, 32]) torch.Size([4])\n",
            "981 torch.Size([4, 3, 32, 32]) torch.Size([4])\n",
            "982 torch.Size([4, 3, 32, 32]) torch.Size([4])\n",
            "983 torch.Size([4, 3, 32, 32]) torch.Size([4])\n",
            "984 torch.Size([4, 3, 32, 32]) torch.Size([4])\n",
            "985 torch.Size([4, 3, 32, 32]) torch.Size([4])\n",
            "986 torch.Size([4, 3, 32, 32]) torch.Size([4])\n",
            "987 torch.Size([4, 3, 32, 32]) torch.Size([4])\n",
            "988 torch.Size([4, 3, 32, 32]) torch.Size([4])\n",
            "989 torch.Size([4, 3, 32, 32]) torch.Size([4])\n",
            "990 torch.Size([4, 3, 32, 32]) torch.Size([4])\n",
            "991 torch.Size([4, 3, 32, 32]) torch.Size([4])\n",
            "992 torch.Size([4, 3, 32, 32]) torch.Size([4])\n",
            "993 torch.Size([4, 3, 32, 32]) torch.Size([4])\n",
            "994 torch.Size([4, 3, 32, 32]) torch.Size([4])\n",
            "995 torch.Size([4, 3, 32, 32]) torch.Size([4])\n",
            "996 torch.Size([4, 3, 32, 32]) torch.Size([4])\n",
            "997 torch.Size([4, 3, 32, 32]) torch.Size([4])\n",
            "998 torch.Size([4, 3, 32, 32]) torch.Size([4])\n",
            "999 torch.Size([4, 3, 32, 32]) torch.Size([4])\n",
            "1000 torch.Size([4, 3, 32, 32]) torch.Size([4])\n",
            "1001 torch.Size([4, 3, 32, 32]) torch.Size([4])\n",
            "1002 torch.Size([4, 3, 32, 32]) torch.Size([4])\n",
            "1003 torch.Size([4, 3, 32, 32]) torch.Size([4])\n",
            "1004 torch.Size([4, 3, 32, 32]) torch.Size([4])\n",
            "1005 torch.Size([4, 3, 32, 32]) torch.Size([4])\n",
            "1006 torch.Size([4, 3, 32, 32]) torch.Size([4])\n",
            "1007 torch.Size([4, 3, 32, 32]) torch.Size([4])\n",
            "1008 torch.Size([4, 3, 32, 32]) torch.Size([4])\n",
            "1009 torch.Size([4, 3, 32, 32]) torch.Size([4])\n",
            "1010 torch.Size([4, 3, 32, 32]) torch.Size([4])\n",
            "1011 torch.Size([4, 3, 32, 32]) torch.Size([4])\n",
            "1012 torch.Size([4, 3, 32, 32]) torch.Size([4])\n",
            "1013 torch.Size([4, 3, 32, 32]) torch.Size([4])\n",
            "1014 torch.Size([4, 3, 32, 32]) torch.Size([4])\n",
            "1015 torch.Size([4, 3, 32, 32]) torch.Size([4])\n",
            "1016 torch.Size([4, 3, 32, 32]) torch.Size([4])\n",
            "1017 torch.Size([4, 3, 32, 32]) torch.Size([4])\n",
            "1018 torch.Size([4, 3, 32, 32]) torch.Size([4])\n",
            "1019 torch.Size([4, 3, 32, 32]) torch.Size([4])\n",
            "1020 torch.Size([4, 3, 32, 32]) torch.Size([4])\n",
            "1021 torch.Size([4, 3, 32, 32]) torch.Size([4])\n",
            "1022 torch.Size([4, 3, 32, 32]) torch.Size([4])\n",
            "1023 torch.Size([4, 3, 32, 32]) torch.Size([4])\n",
            "1024 torch.Size([4, 3, 32, 32]) torch.Size([4])\n",
            "1025 torch.Size([4, 3, 32, 32]) torch.Size([4])\n",
            "1026 torch.Size([4, 3, 32, 32]) torch.Size([4])\n",
            "1027 torch.Size([4, 3, 32, 32]) torch.Size([4])\n",
            "1028 torch.Size([4, 3, 32, 32]) torch.Size([4])\n",
            "1029 torch.Size([4, 3, 32, 32]) torch.Size([4])\n",
            "1030 torch.Size([4, 3, 32, 32]) torch.Size([4])\n",
            "1031 torch.Size([4, 3, 32, 32]) torch.Size([4])\n",
            "1032 torch.Size([4, 3, 32, 32]) torch.Size([4])\n",
            "1033 torch.Size([4, 3, 32, 32]) torch.Size([4])\n",
            "1034 torch.Size([4, 3, 32, 32]) torch.Size([4])\n",
            "1035 torch.Size([4, 3, 32, 32]) torch.Size([4])\n",
            "1036 torch.Size([4, 3, 32, 32]) torch.Size([4])\n",
            "1037 torch.Size([4, 3, 32, 32]) torch.Size([4])\n",
            "1038 torch.Size([4, 3, 32, 32]) torch.Size([4])\n",
            "1039 torch.Size([4, 3, 32, 32]) torch.Size([4])\n",
            "1040 torch.Size([4, 3, 32, 32]) torch.Size([4])\n",
            "1041 torch.Size([4, 3, 32, 32]) torch.Size([4])\n",
            "1042 torch.Size([4, 3, 32, 32]) torch.Size([4])\n",
            "1043 torch.Size([4, 3, 32, 32]) torch.Size([4])\n",
            "1044 torch.Size([4, 3, 32, 32]) torch.Size([4])\n",
            "1045 torch.Size([4, 3, 32, 32]) torch.Size([4])\n",
            "1046 torch.Size([4, 3, 32, 32]) torch.Size([4])\n",
            "1047 torch.Size([4, 3, 32, 32]) torch.Size([4])\n",
            "1048 torch.Size([4, 3, 32, 32]) torch.Size([4])\n",
            "1049 torch.Size([4, 3, 32, 32]) torch.Size([4])\n",
            "1050 torch.Size([4, 3, 32, 32]) torch.Size([4])\n",
            "1051 torch.Size([4, 3, 32, 32]) torch.Size([4])\n",
            "1052 torch.Size([4, 3, 32, 32]) torch.Size([4])\n",
            "1053 torch.Size([4, 3, 32, 32]) torch.Size([4])\n",
            "1054 torch.Size([4, 3, 32, 32]) torch.Size([4])\n",
            "1055 torch.Size([4, 3, 32, 32]) torch.Size([4])\n",
            "1056 torch.Size([4, 3, 32, 32]) torch.Size([4])\n",
            "1057 torch.Size([4, 3, 32, 32]) torch.Size([4])\n",
            "1058 torch.Size([4, 3, 32, 32]) torch.Size([4])\n",
            "1059 torch.Size([4, 3, 32, 32]) torch.Size([4])\n",
            "1060 torch.Size([4, 3, 32, 32]) torch.Size([4])\n",
            "1061 torch.Size([4, 3, 32, 32]) torch.Size([4])\n",
            "1062 torch.Size([4, 3, 32, 32]) torch.Size([4])\n",
            "1063 torch.Size([4, 3, 32, 32]) torch.Size([4])\n",
            "1064 torch.Size([4, 3, 32, 32]) torch.Size([4])\n",
            "1065 torch.Size([4, 3, 32, 32]) torch.Size([4])\n",
            "1066 torch.Size([4, 3, 32, 32]) torch.Size([4])\n",
            "1067 torch.Size([4, 3, 32, 32]) torch.Size([4])\n",
            "1068 torch.Size([4, 3, 32, 32]) torch.Size([4])\n",
            "1069 torch.Size([4, 3, 32, 32]) torch.Size([4])\n",
            "1070 torch.Size([4, 3, 32, 32]) torch.Size([4])\n",
            "1071 torch.Size([4, 3, 32, 32]) torch.Size([4])\n",
            "1072 torch.Size([4, 3, 32, 32]) torch.Size([4])\n",
            "1073 torch.Size([4, 3, 32, 32]) torch.Size([4])\n",
            "1074 torch.Size([4, 3, 32, 32]) torch.Size([4])\n",
            "1075 torch.Size([4, 3, 32, 32]) torch.Size([4])\n",
            "1076 torch.Size([4, 3, 32, 32]) torch.Size([4])\n",
            "1077 torch.Size([4, 3, 32, 32]) torch.Size([4])\n",
            "1078 torch.Size([4, 3, 32, 32]) torch.Size([4])\n",
            "1079 torch.Size([4, 3, 32, 32]) torch.Size([4])\n",
            "1080 torch.Size([4, 3, 32, 32]) torch.Size([4])\n",
            "1081 torch.Size([4, 3, 32, 32]) torch.Size([4])\n",
            "1082 torch.Size([4, 3, 32, 32]) torch.Size([4])\n",
            "1083 torch.Size([4, 3, 32, 32]) torch.Size([4])\n",
            "1084 torch.Size([4, 3, 32, 32]) torch.Size([4])\n",
            "1085 torch.Size([4, 3, 32, 32]) torch.Size([4])\n",
            "1086 torch.Size([4, 3, 32, 32]) torch.Size([4])\n",
            "1087 torch.Size([4, 3, 32, 32]) torch.Size([4])\n",
            "1088 torch.Size([4, 3, 32, 32]) torch.Size([4])\n",
            "1089 torch.Size([4, 3, 32, 32]) torch.Size([4])\n",
            "1090 torch.Size([4, 3, 32, 32]) torch.Size([4])\n",
            "1091 torch.Size([4, 3, 32, 32]) torch.Size([4])\n",
            "1092 torch.Size([4, 3, 32, 32]) torch.Size([4])\n",
            "1093 torch.Size([4, 3, 32, 32]) torch.Size([4])\n",
            "1094 torch.Size([4, 3, 32, 32]) torch.Size([4])\n",
            "1095 torch.Size([4, 3, 32, 32]) torch.Size([4])\n",
            "1096 torch.Size([4, 3, 32, 32]) torch.Size([4])\n",
            "1097 torch.Size([4, 3, 32, 32]) torch.Size([4])\n",
            "1098 torch.Size([4, 3, 32, 32]) torch.Size([4])\n",
            "1099 torch.Size([4, 3, 32, 32]) torch.Size([4])\n",
            "1100 torch.Size([4, 3, 32, 32]) torch.Size([4])\n",
            "1101 torch.Size([4, 3, 32, 32]) torch.Size([4])\n",
            "1102 torch.Size([4, 3, 32, 32]) torch.Size([4])\n",
            "1103 torch.Size([4, 3, 32, 32]) torch.Size([4])\n",
            "1104 torch.Size([4, 3, 32, 32]) torch.Size([4])\n",
            "1105 torch.Size([4, 3, 32, 32]) torch.Size([4])\n",
            "1106 torch.Size([4, 3, 32, 32]) torch.Size([4])\n",
            "1107 torch.Size([4, 3, 32, 32]) torch.Size([4])\n",
            "1108 torch.Size([4, 3, 32, 32]) torch.Size([4])\n",
            "1109 torch.Size([4, 3, 32, 32]) torch.Size([4])\n",
            "1110 torch.Size([4, 3, 32, 32]) torch.Size([4])\n",
            "1111 torch.Size([4, 3, 32, 32]) torch.Size([4])\n",
            "1112 torch.Size([4, 3, 32, 32]) torch.Size([4])\n",
            "1113 torch.Size([4, 3, 32, 32]) torch.Size([4])\n",
            "1114 torch.Size([4, 3, 32, 32]) torch.Size([4])\n",
            "1115 torch.Size([4, 3, 32, 32]) torch.Size([4])\n",
            "1116 torch.Size([4, 3, 32, 32]) torch.Size([4])\n",
            "1117 torch.Size([4, 3, 32, 32]) torch.Size([4])\n",
            "1118 torch.Size([4, 3, 32, 32]) torch.Size([4])\n",
            "1119 torch.Size([4, 3, 32, 32]) torch.Size([4])\n",
            "1120 torch.Size([4, 3, 32, 32]) torch.Size([4])\n",
            "1121 torch.Size([4, 3, 32, 32]) torch.Size([4])\n",
            "1122 torch.Size([4, 3, 32, 32]) torch.Size([4])\n",
            "1123 torch.Size([4, 3, 32, 32]) torch.Size([4])\n",
            "1124 torch.Size([4, 3, 32, 32]) torch.Size([4])\n",
            "1125 torch.Size([4, 3, 32, 32]) torch.Size([4])\n",
            "1126 torch.Size([4, 3, 32, 32]) torch.Size([4])\n",
            "1127 torch.Size([4, 3, 32, 32]) torch.Size([4])\n",
            "1128 torch.Size([4, 3, 32, 32]) torch.Size([4])\n",
            "1129 torch.Size([4, 3, 32, 32]) torch.Size([4])\n",
            "1130 torch.Size([4, 3, 32, 32]) torch.Size([4])\n",
            "1131 torch.Size([4, 3, 32, 32]) torch.Size([4])\n",
            "1132 torch.Size([4, 3, 32, 32]) torch.Size([4])\n",
            "1133 torch.Size([4, 3, 32, 32]) torch.Size([4])\n",
            "1134 torch.Size([4, 3, 32, 32]) torch.Size([4])\n",
            "1135 torch.Size([4, 3, 32, 32]) torch.Size([4])\n",
            "1136 torch.Size([4, 3, 32, 32]) torch.Size([4])\n",
            "1137 torch.Size([4, 3, 32, 32]) torch.Size([4])\n",
            "1138 torch.Size([4, 3, 32, 32]) torch.Size([4])\n",
            "1139 torch.Size([4, 3, 32, 32]) torch.Size([4])\n",
            "1140 torch.Size([4, 3, 32, 32]) torch.Size([4])\n",
            "1141 torch.Size([4, 3, 32, 32]) torch.Size([4])\n",
            "1142 torch.Size([4, 3, 32, 32]) torch.Size([4])\n",
            "1143 torch.Size([4, 3, 32, 32]) torch.Size([4])\n",
            "1144 torch.Size([4, 3, 32, 32]) torch.Size([4])\n",
            "1145 torch.Size([4, 3, 32, 32]) torch.Size([4])\n",
            "1146 torch.Size([4, 3, 32, 32]) torch.Size([4])\n",
            "1147 torch.Size([4, 3, 32, 32]) torch.Size([4])\n",
            "1148 torch.Size([4, 3, 32, 32]) torch.Size([4])\n",
            "1149 torch.Size([4, 3, 32, 32]) torch.Size([4])\n",
            "1150 torch.Size([4, 3, 32, 32]) torch.Size([4])\n",
            "1151 torch.Size([4, 3, 32, 32]) torch.Size([4])\n",
            "1152 torch.Size([4, 3, 32, 32]) torch.Size([4])\n",
            "1153 torch.Size([4, 3, 32, 32]) torch.Size([4])\n",
            "1154 torch.Size([4, 3, 32, 32]) torch.Size([4])\n",
            "1155 torch.Size([4, 3, 32, 32]) torch.Size([4])\n",
            "1156 torch.Size([4, 3, 32, 32]) torch.Size([4])\n",
            "1157 torch.Size([4, 3, 32, 32]) torch.Size([4])\n",
            "1158 torch.Size([4, 3, 32, 32]) torch.Size([4])\n",
            "1159 torch.Size([4, 3, 32, 32]) torch.Size([4])\n",
            "1160 torch.Size([4, 3, 32, 32]) torch.Size([4])\n",
            "1161 torch.Size([4, 3, 32, 32]) torch.Size([4])\n",
            "1162 torch.Size([4, 3, 32, 32]) torch.Size([4])\n",
            "1163 torch.Size([4, 3, 32, 32]) torch.Size([4])\n",
            "1164 torch.Size([4, 3, 32, 32]) torch.Size([4])\n",
            "1165 torch.Size([4, 3, 32, 32]) torch.Size([4])\n",
            "1166 torch.Size([4, 3, 32, 32]) torch.Size([4])\n",
            "1167 torch.Size([4, 3, 32, 32]) torch.Size([4])\n",
            "1168 torch.Size([4, 3, 32, 32]) torch.Size([4])\n",
            "1169 torch.Size([4, 3, 32, 32]) torch.Size([4])\n",
            "1170 torch.Size([4, 3, 32, 32]) torch.Size([4])\n",
            "1171 torch.Size([4, 3, 32, 32]) torch.Size([4])\n",
            "1172 torch.Size([4, 3, 32, 32]) torch.Size([4])\n",
            "1173 torch.Size([4, 3, 32, 32]) torch.Size([4])\n",
            "1174 torch.Size([4, 3, 32, 32]) torch.Size([4])\n",
            "1175 torch.Size([4, 3, 32, 32]) torch.Size([4])\n",
            "1176 torch.Size([4, 3, 32, 32]) torch.Size([4])\n",
            "1177 torch.Size([4, 3, 32, 32]) torch.Size([4])\n",
            "1178 torch.Size([4, 3, 32, 32]) torch.Size([4])\n",
            "1179 torch.Size([4, 3, 32, 32]) torch.Size([4])\n",
            "1180 torch.Size([4, 3, 32, 32]) torch.Size([4])\n",
            "1181 torch.Size([4, 3, 32, 32]) torch.Size([4])\n"
          ]
        },
        {
          "ename": "KeyboardInterrupt",
          "evalue": "ignored",
          "output_type": "error",
          "traceback": [
            "\u001b[0;31m---------------------------------------------------------------------------\u001b[0m",
            "\u001b[0;31mKeyboardInterrupt\u001b[0m                         Traceback (most recent call last)",
            "\u001b[0;32m<ipython-input-56-689446442756>\u001b[0m in \u001b[0;36m<module>\u001b[0;34m()\u001b[0m\n\u001b[0;32m----> 1\u001b[0;31m \u001b[0;32mfor\u001b[0m \u001b[0mi\u001b[0m\u001b[0;34m,\u001b[0m \u001b[0mdata\u001b[0m \u001b[0;32min\u001b[0m \u001b[0menumerate\u001b[0m\u001b[0;34m(\u001b[0m\u001b[0mtrainloader\u001b[0m\u001b[0;34m)\u001b[0m\u001b[0;34m:\u001b[0m\u001b[0;34m\u001b[0m\u001b[0;34m\u001b[0m\u001b[0m\n\u001b[0m\u001b[1;32m      2\u001b[0m   \u001b[0mimages\u001b[0m\u001b[0;34m,\u001b[0m \u001b[0mlabels\u001b[0m \u001b[0;34m=\u001b[0m \u001b[0mdata\u001b[0m\u001b[0;34m\u001b[0m\u001b[0;34m\u001b[0m\u001b[0m\n\u001b[1;32m      3\u001b[0m   \u001b[0mprint\u001b[0m\u001b[0;34m(\u001b[0m\u001b[0mi\u001b[0m\u001b[0;34m,\u001b[0m \u001b[0mimages\u001b[0m\u001b[0;34m.\u001b[0m\u001b[0mshape\u001b[0m\u001b[0;34m,\u001b[0m \u001b[0mlabels\u001b[0m\u001b[0;34m.\u001b[0m\u001b[0mshape\u001b[0m\u001b[0;34m)\u001b[0m\u001b[0;34m\u001b[0m\u001b[0;34m\u001b[0m\u001b[0m\n",
            "\u001b[0;32m/usr/local/lib/python3.7/dist-packages/torch/utils/data/dataloader.py\u001b[0m in \u001b[0;36m__next__\u001b[0;34m(self)\u001b[0m\n\u001b[1;32m    519\u001b[0m             \u001b[0;32mif\u001b[0m \u001b[0mself\u001b[0m\u001b[0;34m.\u001b[0m\u001b[0m_sampler_iter\u001b[0m \u001b[0;32mis\u001b[0m \u001b[0;32mNone\u001b[0m\u001b[0;34m:\u001b[0m\u001b[0;34m\u001b[0m\u001b[0;34m\u001b[0m\u001b[0m\n\u001b[1;32m    520\u001b[0m                 \u001b[0mself\u001b[0m\u001b[0;34m.\u001b[0m\u001b[0m_reset\u001b[0m\u001b[0;34m(\u001b[0m\u001b[0;34m)\u001b[0m\u001b[0;34m\u001b[0m\u001b[0;34m\u001b[0m\u001b[0m\n\u001b[0;32m--> 521\u001b[0;31m             \u001b[0mdata\u001b[0m \u001b[0;34m=\u001b[0m \u001b[0mself\u001b[0m\u001b[0;34m.\u001b[0m\u001b[0m_next_data\u001b[0m\u001b[0;34m(\u001b[0m\u001b[0;34m)\u001b[0m\u001b[0;34m\u001b[0m\u001b[0;34m\u001b[0m\u001b[0m\n\u001b[0m\u001b[1;32m    522\u001b[0m             \u001b[0mself\u001b[0m\u001b[0;34m.\u001b[0m\u001b[0m_num_yielded\u001b[0m \u001b[0;34m+=\u001b[0m \u001b[0;36m1\u001b[0m\u001b[0;34m\u001b[0m\u001b[0;34m\u001b[0m\u001b[0m\n\u001b[1;32m    523\u001b[0m             \u001b[0;32mif\u001b[0m \u001b[0mself\u001b[0m\u001b[0;34m.\u001b[0m\u001b[0m_dataset_kind\u001b[0m \u001b[0;34m==\u001b[0m \u001b[0m_DatasetKind\u001b[0m\u001b[0;34m.\u001b[0m\u001b[0mIterable\u001b[0m \u001b[0;32mand\u001b[0m\u001b[0;31m \u001b[0m\u001b[0;31m\\\u001b[0m\u001b[0;34m\u001b[0m\u001b[0;34m\u001b[0m\u001b[0m\n",
            "\u001b[0;32m/usr/local/lib/python3.7/dist-packages/torch/utils/data/dataloader.py\u001b[0m in \u001b[0;36m_next_data\u001b[0;34m(self)\u001b[0m\n\u001b[1;32m    559\u001b[0m     \u001b[0;32mdef\u001b[0m \u001b[0m_next_data\u001b[0m\u001b[0;34m(\u001b[0m\u001b[0mself\u001b[0m\u001b[0;34m)\u001b[0m\u001b[0;34m:\u001b[0m\u001b[0;34m\u001b[0m\u001b[0;34m\u001b[0m\u001b[0m\n\u001b[1;32m    560\u001b[0m         \u001b[0mindex\u001b[0m \u001b[0;34m=\u001b[0m \u001b[0mself\u001b[0m\u001b[0;34m.\u001b[0m\u001b[0m_next_index\u001b[0m\u001b[0;34m(\u001b[0m\u001b[0;34m)\u001b[0m  \u001b[0;31m# may raise StopIteration\u001b[0m\u001b[0;34m\u001b[0m\u001b[0;34m\u001b[0m\u001b[0m\n\u001b[0;32m--> 561\u001b[0;31m         \u001b[0mdata\u001b[0m \u001b[0;34m=\u001b[0m \u001b[0mself\u001b[0m\u001b[0;34m.\u001b[0m\u001b[0m_dataset_fetcher\u001b[0m\u001b[0;34m.\u001b[0m\u001b[0mfetch\u001b[0m\u001b[0;34m(\u001b[0m\u001b[0mindex\u001b[0m\u001b[0;34m)\u001b[0m  \u001b[0;31m# may raise StopIteration\u001b[0m\u001b[0;34m\u001b[0m\u001b[0;34m\u001b[0m\u001b[0m\n\u001b[0m\u001b[1;32m    562\u001b[0m         \u001b[0;32mif\u001b[0m \u001b[0mself\u001b[0m\u001b[0;34m.\u001b[0m\u001b[0m_pin_memory\u001b[0m\u001b[0;34m:\u001b[0m\u001b[0;34m\u001b[0m\u001b[0;34m\u001b[0m\u001b[0m\n\u001b[1;32m    563\u001b[0m             \u001b[0mdata\u001b[0m \u001b[0;34m=\u001b[0m \u001b[0m_utils\u001b[0m\u001b[0;34m.\u001b[0m\u001b[0mpin_memory\u001b[0m\u001b[0;34m.\u001b[0m\u001b[0mpin_memory\u001b[0m\u001b[0;34m(\u001b[0m\u001b[0mdata\u001b[0m\u001b[0;34m)\u001b[0m\u001b[0;34m\u001b[0m\u001b[0;34m\u001b[0m\u001b[0m\n",
            "\u001b[0;32m/usr/local/lib/python3.7/dist-packages/torch/utils/data/_utils/fetch.py\u001b[0m in \u001b[0;36mfetch\u001b[0;34m(self, possibly_batched_index)\u001b[0m\n\u001b[1;32m     47\u001b[0m     \u001b[0;32mdef\u001b[0m \u001b[0mfetch\u001b[0m\u001b[0;34m(\u001b[0m\u001b[0mself\u001b[0m\u001b[0;34m,\u001b[0m \u001b[0mpossibly_batched_index\u001b[0m\u001b[0;34m)\u001b[0m\u001b[0;34m:\u001b[0m\u001b[0;34m\u001b[0m\u001b[0;34m\u001b[0m\u001b[0m\n\u001b[1;32m     48\u001b[0m         \u001b[0;32mif\u001b[0m \u001b[0mself\u001b[0m\u001b[0;34m.\u001b[0m\u001b[0mauto_collation\u001b[0m\u001b[0;34m:\u001b[0m\u001b[0;34m\u001b[0m\u001b[0;34m\u001b[0m\u001b[0m\n\u001b[0;32m---> 49\u001b[0;31m             \u001b[0mdata\u001b[0m \u001b[0;34m=\u001b[0m \u001b[0;34m[\u001b[0m\u001b[0mself\u001b[0m\u001b[0;34m.\u001b[0m\u001b[0mdataset\u001b[0m\u001b[0;34m[\u001b[0m\u001b[0midx\u001b[0m\u001b[0;34m]\u001b[0m \u001b[0;32mfor\u001b[0m \u001b[0midx\u001b[0m \u001b[0;32min\u001b[0m \u001b[0mpossibly_batched_index\u001b[0m\u001b[0;34m]\u001b[0m\u001b[0;34m\u001b[0m\u001b[0;34m\u001b[0m\u001b[0m\n\u001b[0m\u001b[1;32m     50\u001b[0m         \u001b[0;32melse\u001b[0m\u001b[0;34m:\u001b[0m\u001b[0;34m\u001b[0m\u001b[0;34m\u001b[0m\u001b[0m\n\u001b[1;32m     51\u001b[0m             \u001b[0mdata\u001b[0m \u001b[0;34m=\u001b[0m \u001b[0mself\u001b[0m\u001b[0;34m.\u001b[0m\u001b[0mdataset\u001b[0m\u001b[0;34m[\u001b[0m\u001b[0mpossibly_batched_index\u001b[0m\u001b[0;34m]\u001b[0m\u001b[0;34m\u001b[0m\u001b[0;34m\u001b[0m\u001b[0m\n",
            "\u001b[0;32m/usr/local/lib/python3.7/dist-packages/torch/utils/data/_utils/fetch.py\u001b[0m in \u001b[0;36m<listcomp>\u001b[0;34m(.0)\u001b[0m\n\u001b[1;32m     47\u001b[0m     \u001b[0;32mdef\u001b[0m \u001b[0mfetch\u001b[0m\u001b[0;34m(\u001b[0m\u001b[0mself\u001b[0m\u001b[0;34m,\u001b[0m \u001b[0mpossibly_batched_index\u001b[0m\u001b[0;34m)\u001b[0m\u001b[0;34m:\u001b[0m\u001b[0;34m\u001b[0m\u001b[0;34m\u001b[0m\u001b[0m\n\u001b[1;32m     48\u001b[0m         \u001b[0;32mif\u001b[0m \u001b[0mself\u001b[0m\u001b[0;34m.\u001b[0m\u001b[0mauto_collation\u001b[0m\u001b[0;34m:\u001b[0m\u001b[0;34m\u001b[0m\u001b[0;34m\u001b[0m\u001b[0m\n\u001b[0;32m---> 49\u001b[0;31m             \u001b[0mdata\u001b[0m \u001b[0;34m=\u001b[0m \u001b[0;34m[\u001b[0m\u001b[0mself\u001b[0m\u001b[0;34m.\u001b[0m\u001b[0mdataset\u001b[0m\u001b[0;34m[\u001b[0m\u001b[0midx\u001b[0m\u001b[0;34m]\u001b[0m \u001b[0;32mfor\u001b[0m \u001b[0midx\u001b[0m \u001b[0;32min\u001b[0m \u001b[0mpossibly_batched_index\u001b[0m\u001b[0;34m]\u001b[0m\u001b[0;34m\u001b[0m\u001b[0;34m\u001b[0m\u001b[0m\n\u001b[0m\u001b[1;32m     50\u001b[0m         \u001b[0;32melse\u001b[0m\u001b[0;34m:\u001b[0m\u001b[0;34m\u001b[0m\u001b[0;34m\u001b[0m\u001b[0m\n\u001b[1;32m     51\u001b[0m             \u001b[0mdata\u001b[0m \u001b[0;34m=\u001b[0m \u001b[0mself\u001b[0m\u001b[0;34m.\u001b[0m\u001b[0mdataset\u001b[0m\u001b[0;34m[\u001b[0m\u001b[0mpossibly_batched_index\u001b[0m\u001b[0;34m]\u001b[0m\u001b[0;34m\u001b[0m\u001b[0;34m\u001b[0m\u001b[0m\n",
            "\u001b[0;32m/usr/local/lib/python3.7/dist-packages/torchvision/datasets/cifar.py\u001b[0m in \u001b[0;36m__getitem__\u001b[0;34m(self, index)\u001b[0m\n\u001b[1;32m    119\u001b[0m \u001b[0;34m\u001b[0m\u001b[0m\n\u001b[1;32m    120\u001b[0m         \u001b[0;32mif\u001b[0m \u001b[0mself\u001b[0m\u001b[0;34m.\u001b[0m\u001b[0mtransform\u001b[0m \u001b[0;32mis\u001b[0m \u001b[0;32mnot\u001b[0m \u001b[0;32mNone\u001b[0m\u001b[0;34m:\u001b[0m\u001b[0;34m\u001b[0m\u001b[0;34m\u001b[0m\u001b[0m\n\u001b[0;32m--> 121\u001b[0;31m             \u001b[0mimg\u001b[0m \u001b[0;34m=\u001b[0m \u001b[0mself\u001b[0m\u001b[0;34m.\u001b[0m\u001b[0mtransform\u001b[0m\u001b[0;34m(\u001b[0m\u001b[0mimg\u001b[0m\u001b[0;34m)\u001b[0m\u001b[0;34m\u001b[0m\u001b[0;34m\u001b[0m\u001b[0m\n\u001b[0m\u001b[1;32m    122\u001b[0m \u001b[0;34m\u001b[0m\u001b[0m\n\u001b[1;32m    123\u001b[0m         \u001b[0;32mif\u001b[0m \u001b[0mself\u001b[0m\u001b[0;34m.\u001b[0m\u001b[0mtarget_transform\u001b[0m \u001b[0;32mis\u001b[0m \u001b[0;32mnot\u001b[0m \u001b[0;32mNone\u001b[0m\u001b[0;34m:\u001b[0m\u001b[0;34m\u001b[0m\u001b[0;34m\u001b[0m\u001b[0m\n",
            "\u001b[0;32m/usr/local/lib/python3.7/dist-packages/torchvision/transforms/transforms.py\u001b[0m in \u001b[0;36m__call__\u001b[0;34m(self, img)\u001b[0m\n\u001b[1;32m     59\u001b[0m     \u001b[0;32mdef\u001b[0m \u001b[0m__call__\u001b[0m\u001b[0;34m(\u001b[0m\u001b[0mself\u001b[0m\u001b[0;34m,\u001b[0m \u001b[0mimg\u001b[0m\u001b[0;34m)\u001b[0m\u001b[0;34m:\u001b[0m\u001b[0;34m\u001b[0m\u001b[0;34m\u001b[0m\u001b[0m\n\u001b[1;32m     60\u001b[0m         \u001b[0;32mfor\u001b[0m \u001b[0mt\u001b[0m \u001b[0;32min\u001b[0m \u001b[0mself\u001b[0m\u001b[0;34m.\u001b[0m\u001b[0mtransforms\u001b[0m\u001b[0;34m:\u001b[0m\u001b[0;34m\u001b[0m\u001b[0;34m\u001b[0m\u001b[0m\n\u001b[0;32m---> 61\u001b[0;31m             \u001b[0mimg\u001b[0m \u001b[0;34m=\u001b[0m \u001b[0mt\u001b[0m\u001b[0;34m(\u001b[0m\u001b[0mimg\u001b[0m\u001b[0;34m)\u001b[0m\u001b[0;34m\u001b[0m\u001b[0;34m\u001b[0m\u001b[0m\n\u001b[0m\u001b[1;32m     62\u001b[0m         \u001b[0;32mreturn\u001b[0m \u001b[0mimg\u001b[0m\u001b[0;34m\u001b[0m\u001b[0;34m\u001b[0m\u001b[0m\n\u001b[1;32m     63\u001b[0m \u001b[0;34m\u001b[0m\u001b[0m\n",
            "\u001b[0;32m/usr/local/lib/python3.7/dist-packages/torchvision/transforms/transforms.py\u001b[0m in \u001b[0;36m__call__\u001b[0;34m(self, pic)\u001b[0m\n\u001b[1;32m     96\u001b[0m             \u001b[0mTensor\u001b[0m\u001b[0;34m:\u001b[0m \u001b[0mConverted\u001b[0m \u001b[0mimage\u001b[0m\u001b[0;34m.\u001b[0m\u001b[0;34m\u001b[0m\u001b[0;34m\u001b[0m\u001b[0m\n\u001b[1;32m     97\u001b[0m         \"\"\"\n\u001b[0;32m---> 98\u001b[0;31m         \u001b[0;32mreturn\u001b[0m \u001b[0mF\u001b[0m\u001b[0;34m.\u001b[0m\u001b[0mto_tensor\u001b[0m\u001b[0;34m(\u001b[0m\u001b[0mpic\u001b[0m\u001b[0;34m)\u001b[0m\u001b[0;34m\u001b[0m\u001b[0;34m\u001b[0m\u001b[0m\n\u001b[0m\u001b[1;32m     99\u001b[0m \u001b[0;34m\u001b[0m\u001b[0m\n\u001b[1;32m    100\u001b[0m     \u001b[0;32mdef\u001b[0m \u001b[0m__repr__\u001b[0m\u001b[0;34m(\u001b[0m\u001b[0mself\u001b[0m\u001b[0;34m)\u001b[0m\u001b[0;34m:\u001b[0m\u001b[0;34m\u001b[0m\u001b[0;34m\u001b[0m\u001b[0m\n",
            "\u001b[0;32m/usr/local/lib/python3.7/dist-packages/torchvision/transforms/functional.py\u001b[0m in \u001b[0;36mto_tensor\u001b[0;34m(pic)\u001b[0m\n\u001b[1;32m    148\u001b[0m     \u001b[0mimg\u001b[0m \u001b[0;34m=\u001b[0m \u001b[0mimg\u001b[0m\u001b[0;34m.\u001b[0m\u001b[0mpermute\u001b[0m\u001b[0;34m(\u001b[0m\u001b[0;34m(\u001b[0m\u001b[0;36m2\u001b[0m\u001b[0;34m,\u001b[0m \u001b[0;36m0\u001b[0m\u001b[0;34m,\u001b[0m \u001b[0;36m1\u001b[0m\u001b[0;34m)\u001b[0m\u001b[0;34m)\u001b[0m\u001b[0;34m.\u001b[0m\u001b[0mcontiguous\u001b[0m\u001b[0;34m(\u001b[0m\u001b[0;34m)\u001b[0m\u001b[0;34m\u001b[0m\u001b[0;34m\u001b[0m\u001b[0m\n\u001b[1;32m    149\u001b[0m     \u001b[0;32mif\u001b[0m \u001b[0misinstance\u001b[0m\u001b[0;34m(\u001b[0m\u001b[0mimg\u001b[0m\u001b[0;34m,\u001b[0m \u001b[0mtorch\u001b[0m\u001b[0;34m.\u001b[0m\u001b[0mByteTensor\u001b[0m\u001b[0;34m)\u001b[0m\u001b[0;34m:\u001b[0m\u001b[0;34m\u001b[0m\u001b[0;34m\u001b[0m\u001b[0m\n\u001b[0;32m--> 150\u001b[0;31m         \u001b[0;32mreturn\u001b[0m \u001b[0mimg\u001b[0m\u001b[0;34m.\u001b[0m\u001b[0mto\u001b[0m\u001b[0;34m(\u001b[0m\u001b[0mdtype\u001b[0m\u001b[0;34m=\u001b[0m\u001b[0mdefault_float_dtype\u001b[0m\u001b[0;34m)\u001b[0m\u001b[0;34m.\u001b[0m\u001b[0mdiv\u001b[0m\u001b[0;34m(\u001b[0m\u001b[0;36m255\u001b[0m\u001b[0;34m)\u001b[0m\u001b[0;34m\u001b[0m\u001b[0;34m\u001b[0m\u001b[0m\n\u001b[0m\u001b[1;32m    151\u001b[0m     \u001b[0;32melse\u001b[0m\u001b[0;34m:\u001b[0m\u001b[0;34m\u001b[0m\u001b[0;34m\u001b[0m\u001b[0m\n\u001b[1;32m    152\u001b[0m         \u001b[0;32mreturn\u001b[0m \u001b[0mimg\u001b[0m\u001b[0;34m\u001b[0m\u001b[0;34m\u001b[0m\u001b[0m\n",
            "\u001b[0;31mKeyboardInterrupt\u001b[0m: "
          ]
        }
      ],
      "source": [
        "for i, data in enumerate(trainloader):\n",
        "  images, labels = data\n",
        "  print(i, images.shape, labels.shape)"
      ]
    },
    {
      "cell_type": "code",
      "execution_count": 3,
      "metadata": {
        "colab": {
          "base_uri": "https://localhost:8080/"
        },
        "id": "tJ2fIVSFkEC_",
        "outputId": "158bb3ba-d63a-4bb5-e4a9-0e51ada37de9"
      },
      "outputs": [
        {
          "name": "stdout",
          "output_type": "stream",
          "text": [
            "0 torch.Size([8, 3, 32, 32]) torch.Size([8])\n",
            "1 torch.Size([8, 3, 32, 32]) torch.Size([8])\n",
            "2 torch.Size([8, 3, 32, 32]) torch.Size([8])\n",
            "3 torch.Size([8, 3, 32, 32]) torch.Size([8])\n",
            "4 torch.Size([8, 3, 32, 32]) torch.Size([8])\n",
            "5 torch.Size([8, 3, 32, 32]) torch.Size([8])\n",
            "6 torch.Size([8, 3, 32, 32]) torch.Size([8])\n",
            "7 torch.Size([8, 3, 32, 32]) torch.Size([8])\n",
            "8 torch.Size([8, 3, 32, 32]) torch.Size([8])\n",
            "9 torch.Size([8, 3, 32, 32]) torch.Size([8])\n",
            "10 torch.Size([8, 3, 32, 32]) torch.Size([8])\n",
            "11 torch.Size([8, 3, 32, 32]) torch.Size([8])\n"
          ]
        }
      ],
      "source": [
        "#arbitrary dataset\n",
        "import torch\n",
        "images = torch.randn(100, 3, 32, 32)\n",
        "labels = torch.randint(10, (100,))\n",
        "\n",
        "\n",
        "\n",
        "from torch.utils.data import Dataset, DataLoader\n",
        "import torchvision.transforms as transforms\n",
        "\n",
        "class my_data(Dataset):\n",
        "  def __init__(self, images, labels):\n",
        "    super().__init__()\n",
        "    self.images = images\n",
        "    self.labels = labels\n",
        "\n",
        "  def __getitem__(self, idx):\n",
        "\n",
        "    return self.images[idx], self.labels[idx]\n",
        "\n",
        "  def __len__(self):\n",
        "    return self.images.shape[0]\n",
        "\n",
        "\n",
        "dataset = my_data(images, labels)\n",
        "dataloader = DataLoader(dataset, batch_size = 8, shuffle=True, drop_last=True)\n",
        "\n",
        "\n",
        "for i, data in enumerate(dataloader):\n",
        "  images, labels = data\n",
        "  print(i, images.shape, labels.shape)"
      ]
    },
    {
      "cell_type": "markdown",
      "metadata": {
        "id": "-7bzyUg5bark"
      },
      "source": [
        "# Exercise\n",
        "\n",
        "Cifar10 classifier with the following structure (see the attached framework):\n",
        "\n",
        "__two times__\n",
        "1. 2D convolution layer: 3 channels to 16 channels with kernel size 5\n",
        "2. ReLU \n",
        "3. 2D max pooling layer\n",
        "\n",
        "__Flatten__\n",
        "\n",
        "1. Linear layer with appropriate number of input nodes and 128 output nodes + ReLU\n",
        "2. Linear layer with 128 input nodes and 64 output nodes + ReLU\n",
        "3. Linear Layer with 64 input nodes and 10 output nodes\n"
      ]
    },
    {
      "cell_type": "code",
      "execution_count": null,
      "metadata": {
        "id": "Sv4uy12_lh7x"
      },
      "outputs": [],
      "source": []
    }
  ],
  "metadata": {
    "colab": {
      "name": "PyTorch.ipynb",
      "provenance": []
    },
    "kernelspec": {
      "display_name": "Python 3.8.2 64-bit",
      "language": "python",
      "name": "python3"
    },
    "language_info": {
      "codemirror_mode": {
        "name": "ipython",
        "version": 3
      },
      "file_extension": ".py",
      "mimetype": "text/x-python",
      "name": "python",
      "nbconvert_exporter": "python",
      "pygments_lexer": "ipython3",
      "version": "3.8.2"
    },
    "vscode": {
      "interpreter": {
        "hash": "31f2aee4e71d21fbe5cf8b01ff0e069b9275f58929596ceb00d14d90e3e16cd6"
      }
    },
    "widgets": {
      "application/vnd.jupyter.widget-state+json": {
        "035bd06f31064803817cd95f2b2e964d": {
          "model_module": "@jupyter-widgets/base",
          "model_module_version": "1.2.0",
          "model_name": "LayoutModel",
          "state": {
            "_model_module": "@jupyter-widgets/base",
            "_model_module_version": "1.2.0",
            "_model_name": "LayoutModel",
            "_view_count": null,
            "_view_module": "@jupyter-widgets/base",
            "_view_module_version": "1.2.0",
            "_view_name": "LayoutView",
            "align_content": null,
            "align_items": null,
            "align_self": null,
            "border": null,
            "bottom": null,
            "display": null,
            "flex": null,
            "flex_flow": null,
            "grid_area": null,
            "grid_auto_columns": null,
            "grid_auto_flow": null,
            "grid_auto_rows": null,
            "grid_column": null,
            "grid_gap": null,
            "grid_row": null,
            "grid_template_areas": null,
            "grid_template_columns": null,
            "grid_template_rows": null,
            "height": null,
            "justify_content": null,
            "justify_items": null,
            "left": null,
            "margin": null,
            "max_height": null,
            "max_width": null,
            "min_height": null,
            "min_width": null,
            "object_fit": null,
            "object_position": null,
            "order": null,
            "overflow": null,
            "overflow_x": null,
            "overflow_y": null,
            "padding": null,
            "right": null,
            "top": null,
            "visibility": null,
            "width": null
          }
        },
        "2c1cd34aa1614e81986bb3f3337319b0": {
          "model_module": "@jupyter-widgets/base",
          "model_module_version": "1.2.0",
          "model_name": "LayoutModel",
          "state": {
            "_model_module": "@jupyter-widgets/base",
            "_model_module_version": "1.2.0",
            "_model_name": "LayoutModel",
            "_view_count": null,
            "_view_module": "@jupyter-widgets/base",
            "_view_module_version": "1.2.0",
            "_view_name": "LayoutView",
            "align_content": null,
            "align_items": null,
            "align_self": null,
            "border": null,
            "bottom": null,
            "display": null,
            "flex": null,
            "flex_flow": null,
            "grid_area": null,
            "grid_auto_columns": null,
            "grid_auto_flow": null,
            "grid_auto_rows": null,
            "grid_column": null,
            "grid_gap": null,
            "grid_row": null,
            "grid_template_areas": null,
            "grid_template_columns": null,
            "grid_template_rows": null,
            "height": null,
            "justify_content": null,
            "justify_items": null,
            "left": null,
            "margin": null,
            "max_height": null,
            "max_width": null,
            "min_height": null,
            "min_width": null,
            "object_fit": null,
            "object_position": null,
            "order": null,
            "overflow": null,
            "overflow_x": null,
            "overflow_y": null,
            "padding": null,
            "right": null,
            "top": null,
            "visibility": null,
            "width": null
          }
        },
        "3a41020430fb44f59515b43116cce81f": {
          "model_module": "@jupyter-widgets/controls",
          "model_module_version": "1.5.0",
          "model_name": "ProgressStyleModel",
          "state": {
            "_model_module": "@jupyter-widgets/controls",
            "_model_module_version": "1.5.0",
            "_model_name": "ProgressStyleModel",
            "_view_count": null,
            "_view_module": "@jupyter-widgets/base",
            "_view_module_version": "1.2.0",
            "_view_name": "StyleView",
            "bar_color": null,
            "description_width": ""
          }
        },
        "4c4fc04279724ce3a7fdf46ba3ac4020": {
          "model_module": "@jupyter-widgets/base",
          "model_module_version": "1.2.0",
          "model_name": "LayoutModel",
          "state": {
            "_model_module": "@jupyter-widgets/base",
            "_model_module_version": "1.2.0",
            "_model_name": "LayoutModel",
            "_view_count": null,
            "_view_module": "@jupyter-widgets/base",
            "_view_module_version": "1.2.0",
            "_view_name": "LayoutView",
            "align_content": null,
            "align_items": null,
            "align_self": null,
            "border": null,
            "bottom": null,
            "display": null,
            "flex": null,
            "flex_flow": null,
            "grid_area": null,
            "grid_auto_columns": null,
            "grid_auto_flow": null,
            "grid_auto_rows": null,
            "grid_column": null,
            "grid_gap": null,
            "grid_row": null,
            "grid_template_areas": null,
            "grid_template_columns": null,
            "grid_template_rows": null,
            "height": null,
            "justify_content": null,
            "justify_items": null,
            "left": null,
            "margin": null,
            "max_height": null,
            "max_width": null,
            "min_height": null,
            "min_width": null,
            "object_fit": null,
            "object_position": null,
            "order": null,
            "overflow": null,
            "overflow_x": null,
            "overflow_y": null,
            "padding": null,
            "right": null,
            "top": null,
            "visibility": null,
            "width": null
          }
        },
        "7b25f4034ad04350a554548342a82449": {
          "model_module": "@jupyter-widgets/controls",
          "model_module_version": "1.5.0",
          "model_name": "DescriptionStyleModel",
          "state": {
            "_model_module": "@jupyter-widgets/controls",
            "_model_module_version": "1.5.0",
            "_model_name": "DescriptionStyleModel",
            "_view_count": null,
            "_view_module": "@jupyter-widgets/base",
            "_view_module_version": "1.2.0",
            "_view_name": "StyleView",
            "description_width": ""
          }
        },
        "9a8c60060cdd4212be228989904ec7ed": {
          "model_module": "@jupyter-widgets/controls",
          "model_module_version": "1.5.0",
          "model_name": "DescriptionStyleModel",
          "state": {
            "_model_module": "@jupyter-widgets/controls",
            "_model_module_version": "1.5.0",
            "_model_name": "DescriptionStyleModel",
            "_view_count": null,
            "_view_module": "@jupyter-widgets/base",
            "_view_module_version": "1.2.0",
            "_view_name": "StyleView",
            "description_width": ""
          }
        },
        "ac9419a61f0c45989a93ebec215825f5": {
          "model_module": "@jupyter-widgets/controls",
          "model_module_version": "1.5.0",
          "model_name": "HTMLModel",
          "state": {
            "_dom_classes": [],
            "_model_module": "@jupyter-widgets/controls",
            "_model_module_version": "1.5.0",
            "_model_name": "HTMLModel",
            "_view_count": null,
            "_view_module": "@jupyter-widgets/controls",
            "_view_module_version": "1.5.0",
            "_view_name": "HTMLView",
            "description": "",
            "description_tooltip": null,
            "layout": "IPY_MODEL_2c1cd34aa1614e81986bb3f3337319b0",
            "placeholder": "​",
            "style": "IPY_MODEL_9a8c60060cdd4212be228989904ec7ed",
            "value": ""
          }
        },
        "b4cb2651b50e43e1adb499b59ce3d22e": {
          "model_module": "@jupyter-widgets/controls",
          "model_module_version": "1.5.0",
          "model_name": "HTMLModel",
          "state": {
            "_dom_classes": [],
            "_model_module": "@jupyter-widgets/controls",
            "_model_module_version": "1.5.0",
            "_model_name": "HTMLModel",
            "_view_count": null,
            "_view_module": "@jupyter-widgets/controls",
            "_view_module_version": "1.5.0",
            "_view_name": "HTMLView",
            "description": "",
            "description_tooltip": null,
            "layout": "IPY_MODEL_f7227221b52f41aab7733beb343154b7",
            "placeholder": "​",
            "style": "IPY_MODEL_7b25f4034ad04350a554548342a82449",
            "value": " 170499072/? [00:02&lt;00:00, 62261994.46it/s]"
          }
        },
        "bb8aa10db338449abf49c41051570856": {
          "model_module": "@jupyter-widgets/controls",
          "model_module_version": "1.5.0",
          "model_name": "FloatProgressModel",
          "state": {
            "_dom_classes": [],
            "_model_module": "@jupyter-widgets/controls",
            "_model_module_version": "1.5.0",
            "_model_name": "FloatProgressModel",
            "_view_count": null,
            "_view_module": "@jupyter-widgets/controls",
            "_view_module_version": "1.5.0",
            "_view_name": "ProgressView",
            "bar_style": "success",
            "description": "",
            "description_tooltip": null,
            "layout": "IPY_MODEL_4c4fc04279724ce3a7fdf46ba3ac4020",
            "max": 170498071,
            "min": 0,
            "orientation": "horizontal",
            "style": "IPY_MODEL_3a41020430fb44f59515b43116cce81f",
            "value": 170498071
          }
        },
        "ef8e83e47346455da42da3db3c8e5fc7": {
          "model_module": "@jupyter-widgets/controls",
          "model_module_version": "1.5.0",
          "model_name": "HBoxModel",
          "state": {
            "_dom_classes": [],
            "_model_module": "@jupyter-widgets/controls",
            "_model_module_version": "1.5.0",
            "_model_name": "HBoxModel",
            "_view_count": null,
            "_view_module": "@jupyter-widgets/controls",
            "_view_module_version": "1.5.0",
            "_view_name": "HBoxView",
            "box_style": "",
            "children": [
              "IPY_MODEL_ac9419a61f0c45989a93ebec215825f5",
              "IPY_MODEL_bb8aa10db338449abf49c41051570856",
              "IPY_MODEL_b4cb2651b50e43e1adb499b59ce3d22e"
            ],
            "layout": "IPY_MODEL_035bd06f31064803817cd95f2b2e964d"
          }
        },
        "f7227221b52f41aab7733beb343154b7": {
          "model_module": "@jupyter-widgets/base",
          "model_module_version": "1.2.0",
          "model_name": "LayoutModel",
          "state": {
            "_model_module": "@jupyter-widgets/base",
            "_model_module_version": "1.2.0",
            "_model_name": "LayoutModel",
            "_view_count": null,
            "_view_module": "@jupyter-widgets/base",
            "_view_module_version": "1.2.0",
            "_view_name": "LayoutView",
            "align_content": null,
            "align_items": null,
            "align_self": null,
            "border": null,
            "bottom": null,
            "display": null,
            "flex": null,
            "flex_flow": null,
            "grid_area": null,
            "grid_auto_columns": null,
            "grid_auto_flow": null,
            "grid_auto_rows": null,
            "grid_column": null,
            "grid_gap": null,
            "grid_row": null,
            "grid_template_areas": null,
            "grid_template_columns": null,
            "grid_template_rows": null,
            "height": null,
            "justify_content": null,
            "justify_items": null,
            "left": null,
            "margin": null,
            "max_height": null,
            "max_width": null,
            "min_height": null,
            "min_width": null,
            "object_fit": null,
            "object_position": null,
            "order": null,
            "overflow": null,
            "overflow_x": null,
            "overflow_y": null,
            "padding": null,
            "right": null,
            "top": null,
            "visibility": null,
            "width": null
          }
        }
      }
    }
  },
  "nbformat": 4,
  "nbformat_minor": 0
}
