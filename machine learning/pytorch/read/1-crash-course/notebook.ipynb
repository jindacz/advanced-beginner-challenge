{
 "cells": [
  {
   "cell_type": "code",
   "execution_count": 1,
   "metadata": {},
   "outputs": [
    {
     "name": "stdout",
     "output_type": "stream",
     "text": [
      "torch.Size([5, 3])\n",
      "torch.Size([5, 3])\n",
      "torch.float32\n",
      "tensor([[0., 0., 0.],\n",
      "        [0., 0., 0.],\n",
      "        [0., 0., 0.],\n",
      "        [0., 0., 0.],\n",
      "        [0., 0., 0.]], dtype=torch.float16)\n",
      "torch.float16\n",
      "torch.float32\n",
      "tensor([5.5000, 3.0000], requires_grad=True)\n"
     ]
    },
    {
     "data": {
      "text/plain": [
       "torch.float32"
      ]
     },
     "execution_count": 1,
     "metadata": {},
     "output_type": "execute_result"
    }
   ],
   "source": [
    "import torch\n",
    "# torch.empty(size): uninitiallized\n",
    "x = torch.empty(1)\n",
    "x = torch.empty(3)\n",
    "x = torch.empty(2,3)\n",
    "x = torch.rand(2,2,3)\n",
    "\n",
    "x=torch.rand(5,3)\n",
    "x=torch.zeros(5,3)\n",
    "\n",
    "print(x.size())\n",
    "print(x.shape)\n",
    "x.size(0)\n",
    "x.shape[0]\n",
    "\n",
    "print(x.dtype)\n",
    "x=torch.zeros(5,3,dtype=torch.float16)\n",
    "print(x)\n",
    "print(x.dtype)\n",
    "x=torch.tensor([5.5,3])\n",
    "print(x.dtype)\n",
    "x = torch.tensor([5.5, 3], requires_grad=True)\n",
    "print(x)\n",
    "x.dtype"
   ]
  },
  {
   "cell_type": "code",
   "execution_count": 42,
   "metadata": {},
   "outputs": [
    {
     "name": "stdout",
     "output_type": "stream",
     "text": [
      "tensor([[1., 1.],\n",
      "        [1., 1.]]) tensor([[0.9183, 0.5698],\n",
      "        [0.2607, 0.8099]]) tensor([[1.9183, 1.5698],\n",
      "        [1.2607, 1.8099]])\n",
      "tensor([0.7776, 0.0446, 0.7832, 0.1181, 0.6040])\n",
      "tensor([0.0446, 0.4903, 0.5658])\n",
      "tensor(0.4903)\n",
      "torch.Size([4, 4]) torch.Size([16]) torch.Size([2, 8])\n",
      "<class 'numpy.ndarray'>\n"
     ]
    }
   ],
   "source": [
    "x=torch.tensor([5.5,3], requires_grad=True)\n",
    "x\n",
    "x = torch.ones(2,2)\n",
    "y = torch.rand(2,2)\n",
    "z=x+y\n",
    "print(x,y,z)\n",
    "\n",
    "z=x-y\n",
    "z=torch.sub(x,y)\n",
    "\n",
    "x=x*y\n",
    "z=torch.mul(x,y)\n",
    "\n",
    "z=x/y\n",
    "z=torch.div(x,y)\n",
    "\n",
    "x=torch.rand(5,3)\n",
    "x\n",
    "print(x[:,0])\n",
    "print(x[1,:])\n",
    "print(x[1,1])\n",
    "# Get the actual value if only 1 element in your tensor\n",
    "x[1,1].item()\n",
    "\n",
    "x=torch.rand(4,4)\n",
    "y=x.view(16)\n",
    "z=x.view(-1,8)\n",
    "print(x.size(),y.size(),z.size())\n",
    "\n",
    "a=torch.ones(5)\n",
    "b=a.numpy()\n",
    "b\n",
    "print(type(b))\n",
    "\n",
    "a.add_(1)\n",
    "a\n",
    "b\n",
    "\n",
    "import numpy as np\n",
    "a = np.ones(5)\n",
    "b=torch.from_numpy(a)\n",
    "c=torch.tensor(a)\n",
    "a\n",
    "b\n",
    "c\n",
    "a+=1\n",
    "a\n",
    "b\n",
    "c\n",
    "device = torch.device('cuda' if torch.cuda.is_available() else 'cpu')\n",
    "\n",
    "x = torch.rand(2,2).to(device)  # move tensors to GPU device\n",
    "#x = x.to(\"cpu\")\n",
    "#x = x.to(\"cuda\")  \n",
    "\n",
    "x = torch.rand(2,2, device=device)  # or directy create them on GPU"
   ]
  },
  {
   "cell_type": "code",
   "execution_count": 47,
   "metadata": {},
   "outputs": [],
   "source": [
    "x=torch.ones(2,2)\n",
    "y=torch.rand(2,2)\n",
    "z=x+y\n",
    "x\n",
    "y\n",
    "z\n",
    "z=x-y\n",
    "z=torch.sub(x,y)\n",
    "z=x*y\n",
    "z=torch.mul(x,y)\n",
    "z=x/y\n",
    "z=torch.div(x,y)\n",
    "# Slicing\n",
    "x = torch.rand(5,3)\n",
    "print(x)\n",
    "print(\"x[:, 0]\", x[:, 0]) # all rows, column 0\n",
    "print(\"x[1, :]\", x[1, :]) # row 1, all columns\n",
    "print(\"x[1, 1]\", x[1,1]) # element at 1, 1\n",
    "\n",
    "# Get the actual value if only 1 element in your tensor\n",
    "print(\"x[1,1].item()\", x[1,1].item())\n",
    "# Reshape with torch.view()\n",
    "x = torch.randn(4, 4)\n",
    "y = x.view(16)\n",
    "z = x.view(-1, 8)  # the size -1 is inferred from other dimensions\n",
    "# if -1 it pytorch will automatically determine the necessary size\n",
    "print(x.size(), y.size(), z.size())"
   ]
  }
 ],
 "metadata": {
  "kernelspec": {
   "display_name": "Python 3.8.2 64-bit",
   "language": "python",
   "name": "python3"
  },
  "language_info": {
   "codemirror_mode": {
    "name": "ipython",
    "version": 3
   },
   "file_extension": ".py",
   "mimetype": "text/x-python",
   "name": "python",
   "nbconvert_exporter": "python",
   "pygments_lexer": "ipython3",
   "version": "3.8.2"
  },
  "orig_nbformat": 4,
  "vscode": {
   "interpreter": {
    "hash": "31f2aee4e71d21fbe5cf8b01ff0e069b9275f58929596ceb00d14d90e3e16cd6"
   }
  }
 },
 "nbformat": 4,
 "nbformat_minor": 2
}
