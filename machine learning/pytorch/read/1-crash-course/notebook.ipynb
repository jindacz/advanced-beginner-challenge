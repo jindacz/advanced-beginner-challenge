{
 "cells": [
  {
   "cell_type": "code",
   "execution_count": 1,
   "metadata": {},
   "outputs": [
    {
     "name": "stdout",
     "output_type": "stream",
     "text": [
      "torch.Size([5, 3])\n",
      "torch.Size([5, 3])\n",
      "torch.float32\n",
      "tensor([[0., 0., 0.],\n",
      "        [0., 0., 0.],\n",
      "        [0., 0., 0.],\n",
      "        [0., 0., 0.],\n",
      "        [0., 0., 0.]], dtype=torch.float16)\n",
      "torch.float16\n",
      "torch.float32\n",
      "tensor([5.5000, 3.0000], requires_grad=True)\n"
     ]
    },
    {
     "data": {
      "text/plain": [
       "torch.float32"
      ]
     },
     "execution_count": 1,
     "metadata": {},
     "output_type": "execute_result"
    }
   ],
   "source": [
    "import torch\n",
    "# torch.empty(size): uninitiallized\n",
    "x = torch.empty(1)\n",
    "x = torch.empty(3)\n",
    "x = torch.empty(2,3)\n",
    "x = torch.rand(2,2,3)\n",
    "\n",
    "x=torch.rand(5,3)\n",
    "x=torch.zeros(5,3)\n",
    "\n",
    "print(x.size())\n",
    "print(x.shape)\n",
    "x.size(0)\n",
    "x.shape[0]\n",
    "\n",
    "print(x.dtype)\n",
    "x=torch.zeros(5,3,dtype=torch.float16)\n",
    "print(x)\n",
    "print(x.dtype)\n",
    "x=torch.tensor([5.5,3])\n",
    "print(x.dtype)\n",
    "x = torch.tensor([5.5, 3], requires_grad=True)\n",
    "print(x)\n",
    "x.dtype"
   ]
  },
  {
   "cell_type": "code",
   "execution_count": 42,
   "metadata": {},
   "outputs": [
    {
     "name": "stdout",
     "output_type": "stream",
     "text": [
      "tensor([[1., 1.],\n",
      "        [1., 1.]]) tensor([[0.9183, 0.5698],\n",
      "        [0.2607, 0.8099]]) tensor([[1.9183, 1.5698],\n",
      "        [1.2607, 1.8099]])\n",
      "tensor([0.7776, 0.0446, 0.7832, 0.1181, 0.6040])\n",
      "tensor([0.0446, 0.4903, 0.5658])\n",
      "tensor(0.4903)\n",
      "torch.Size([4, 4]) torch.Size([16]) torch.Size([2, 8])\n",
      "<class 'numpy.ndarray'>\n"
     ]
    }
   ],
   "source": [
    "x=torch.tensor([5.5,3], requires_grad=True)\n",
    "x\n",
    "x = torch.ones(2,2)\n",
    "y = torch.rand(2,2)\n",
    "z=x+y\n",
    "print(x,y,z)\n",
    "\n",
    "z=x-y\n",
    "z=torch.sub(x,y)\n",
    "\n",
    "x=x*y\n",
    "z=torch.mul(x,y)\n",
    "\n",
    "z=x/y\n",
    "z=torch.div(x,y)\n",
    "\n",
    "x=torch.rand(5,3)\n",
    "x\n",
    "print(x[:,0])\n",
    "print(x[1,:])\n",
    "print(x[1,1])\n",
    "# Get the actual value if only 1 element in your tensor\n",
    "x[1,1].item()\n",
    "\n",
    "x=torch.rand(4,4)\n",
    "y=x.view(16)\n",
    "z=x.view(-1,8)\n",
    "print(x.size(),y.size(),z.size())\n",
    "\n",
    "a=torch.ones(5)\n",
    "b=a.numpy()\n",
    "b\n",
    "print(type(b))\n",
    "\n",
    "a.add_(1)\n",
    "a\n",
    "b\n",
    "\n",
    "import numpy as np\n",
    "a = np.ones(5)\n",
    "b=torch.from_numpy(a)\n",
    "c=torch.tensor(a)\n",
    "a\n",
    "b\n",
    "c\n",
    "a+=1\n",
    "a\n",
    "b\n",
    "c\n",
    "device = torch.device('cuda' if torch.cuda.is_available() else 'cpu')\n",
    "\n",
    "x = torch.rand(2,2).to(device)  # move tensors to GPU device\n",
    "#x = x.to(\"cpu\")\n",
    "#x = x.to(\"cuda\")  \n",
    "\n",
    "x = torch.rand(2,2, device=device)  # or directy create them on GPU"
   ]
  },
  {
   "cell_type": "code",
   "execution_count": 47,
   "metadata": {},
   "outputs": [],
   "source": [
    "x=torch.ones(2,2)\n",
    "y=torch.rand(2,2)\n",
    "z=x+y\n",
    "x\n",
    "y\n",
    "z\n",
    "z=x-y\n",
    "z=torch.sub(x,y)\n",
    "z=x*y\n",
    "z=torch.mul(x,y)\n",
    "z=x/y\n",
    "z=torch.div(x,y)\n",
    "# Slicing\n",
    "x = torch.rand(5,3)\n",
    "print(x)\n",
    "print(\"x[:, 0]\", x[:, 0]) # all rows, column 0\n",
    "print(\"x[1, :]\", x[1, :]) # row 1, all columns\n",
    "print(\"x[1, 1]\", x[1,1]) # element at 1, 1\n",
    "\n",
    "# Get the actual value if only 1 element in your tensor\n",
    "print(\"x[1,1].item()\", x[1,1].item())\n",
    "# Reshape with torch.view()\n",
    "x = torch.randn(4, 4)\n",
    "y = x.view(16)\n",
    "z = x.view(-1, 8)  # the size -1 is inferred from other dimensions\n",
    "# if -1 it pytorch will automatically determine the necessary size\n",
    "print(x.size(), y.size(), z.size())\n",
    "a = torch.ones(5)\n",
    "print(a)\n",
    "\n",
    "# torch to numpy with .numpy()\n",
    "b = a.numpy()\n",
    "print(b)\n",
    "print(type(b))\n",
    "# Careful: If the Tensor is on the CPU (not the GPU),\n",
    "# both objects will share the same memory location, so changing one\n",
    "# will also change the other\n",
    "a.add_(1)\n",
    "print(a)\n",
    "print(b)# numpy to torch with .from_numpy(x), or torch.tensor() to copy it\n",
    "import numpy as np\n",
    "a = np.ones(5)\n",
    "b = torch.from_numpy(a)\n",
    "c = torch.tensor(a)\n",
    "print(a)\n",
    "print(b)\n",
    "print(c)\n",
    "\n",
    "# again be careful when modifying\n",
    "a += 1\n",
    "print(a)\n",
    "print(b)\n",
    "print(c)\n",
    "device = torch.device('cuda' if torch.cuda.is_available() else 'cpu')\n",
    "\n",
    "x = torch.rand(2,2).to(device)  # move tensors to GPU device\n",
    "#x = x.to(\"cpu\")\n",
    "#x = x.to(\"cuda\")  \n",
    "\n",
    "x = torch.rand(2,2, device=device)  # or directy create them on GPU"
   ]
  },
  {
   "cell_type": "code",
   "execution_count": 58,
   "metadata": {},
   "outputs": [],
   "source": [
    "import torch\n",
    "x=torch.randn(3, requires_grad=True)\n",
    "y=x+2\n",
    "x\n",
    "y\n",
    "y.grad_fn\n",
    "\n",
    "z=y*y*3\n",
    "z\n",
    "z=z.mean()\n",
    "z\n",
    "x.grad\n",
    "z.backward()\n",
    "x.grad\n",
    "\n"
   ]
  },
  {
   "cell_type": "code",
   "execution_count": 73,
   "metadata": {},
   "outputs": [
    {
     "name": "stdout",
     "output_type": "stream",
     "text": [
      "False\n"
     ]
    }
   ],
   "source": [
    "a=torch.randn(2,2)\n",
    "b=(a*a).sum()\n",
    "a.requires_grad\n",
    "b.grad_fn\n",
    "\n",
    "a.requires_grad_(True)\n",
    "b = (a*a).sum()\n",
    "a.requires_grad\n",
    "b.grad_fn\n",
    "\n",
    "a=torch.randn(2,2,requires_grad=True)\n",
    "b=a.detach()\n",
    "a.requires_grad\n",
    "b.requires_grad\n",
    "\n",
    "a=torch.rand(2,2,requires_grad=True)\n",
    "a.requires_grad\n",
    "with torch.no_grad():\n",
    "    b=a**2\n",
    "    print(b.requires_grad)\n",
    " "
   ]
  },
  {
   "cell_type": "code",
   "execution_count": 80,
   "metadata": {},
   "outputs": [
    {
     "name": "stdout",
     "output_type": "stream",
     "text": [
      "Prediction before training: f(5.0) = 0.000\n"
     ]
    }
   ],
   "source": [
    "import torch\n",
    "\n",
    "# Linear regression\n",
    "# f = w * x  + b\n",
    "# here : f = 2 * x\n",
    "\n",
    "X = torch.tensor([1, 2, 3, 4, 5, 6, 7, 8], dtype=torch.float32)\n",
    "Y = torch.tensor([2, 4, 6, 8, 10, 12, 14, 16], dtype=torch.float32)\n",
    "\n",
    "w = torch.tensor(0.0, dtype=torch.float32, requires_grad=True)\n",
    "\n",
    "# model output\n",
    "def forward(x):\n",
    "    return w * x\n",
    "\n",
    "# loss = MSE\n",
    "def loss(y, y_pred):\n",
    "    return ((y_pred - y)**2).mean()\n",
    "\n",
    "X_test = 5.0\n",
    "\n",
    "print(f'Prediction before training: f({X_test}) = {forward(X_test).item():.3f}')"
   ]
  },
  {
   "cell_type": "code",
   "execution_count": 81,
   "metadata": {},
   "outputs": [
    {
     "name": "stdout",
     "output_type": "stream",
     "text": [
      "epoch10:w=1.998, loss=0.000\n",
      "epoch20:w=2.000, loss=0.000\n",
      "epoch30:w=2.000, loss=0.000\n",
      "epoch40:w=2.000, loss=0.000\n",
      "epoch50:w=2.000, loss=0.000\n",
      "epoch60:w=2.000, loss=0.000\n",
      "epoch70:w=2.000, loss=0.000\n",
      "epoch80:w=2.000, loss=0.000\n",
      "epoch90:w=2.000, loss=0.000\n",
      "epoch100:w=2.000, loss=0.000\n",
      "prediction after train: f(5.0) = 10.000\n"
     ]
    }
   ],
   "source": [
    "# training\n",
    "learning_rate = 0.01\n",
    "n_epochs=100\n",
    "\n",
    "for epoch in range(n_epochs):\n",
    "    # predict = forward pass\n",
    "    y_pred = forward(X)\n",
    "    # loss\n",
    "    l = loss(Y, y_pred)\n",
    "    # calculate gradient = backward pass\n",
    "    l.backward()\n",
    "\n",
    "    # update weights\n",
    "    # w.data = w.data-learning_rate*w.grad\n",
    "    with torch.no_grad():\n",
    "        w -= learning_rate * w.grad\n",
    "    # zero the gradient after updating\n",
    "    w.grad.zero_()\n",
    "    if (epoch+1) %10 == 0:\n",
    "        print(f'epoch{epoch+1}:w={w.item():.3f}, loss={l.item():.3f}')\n",
    "\n",
    "print(f'prediction after train: f({X_test}) = {forward(X_test).item():.3f}')"
   ]
  },
  {
   "cell_type": "code",
   "execution_count": null,
   "metadata": {},
   "outputs": [],
   "source": [
    "import torch\n",
    "import torch.nn as nn"
   ]
  }
 ],
 "metadata": {
  "kernelspec": {
   "display_name": "Python 3.8.2 64-bit",
   "language": "python",
   "name": "python3"
  },
  "language_info": {
   "codemirror_mode": {
    "name": "ipython",
    "version": 3
   },
   "file_extension": ".py",
   "mimetype": "text/x-python",
   "name": "python",
   "nbconvert_exporter": "python",
   "pygments_lexer": "ipython3",
   "version": "3.8.2"
  },
  "orig_nbformat": 4,
  "vscode": {
   "interpreter": {
    "hash": "31f2aee4e71d21fbe5cf8b01ff0e069b9275f58929596ceb00d14d90e3e16cd6"
   }
  }
 },
 "nbformat": 4,
 "nbformat_minor": 2
}
